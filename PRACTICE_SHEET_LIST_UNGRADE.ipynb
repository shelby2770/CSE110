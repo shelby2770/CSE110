{
 "cells": [
  {
   "cell_type": "raw",
   "id": "41fc721d",
   "metadata": {},
   "source": [
    "1. Assume, you have been given two lists. Print both lists simultaneously such that list1 should display items\n",
    "in original order and list2 in reverse order.\n",
    "\n",
    "Given lists:\n",
    "List1 = [10,20,30,40]\n",
    "List2 = [100,200,300,400]\n",
    "Sample Output:\n",
    "10 400\n",
    "20 300\n",
    "30 200\n",
    "40 100"
   ]
  },
  {
   "cell_type": "code",
   "execution_count": 7,
   "id": "b373a55e",
   "metadata": {},
   "outputs": [
    {
     "name": "stdout",
     "output_type": "stream",
     "text": [
      "10 400\n",
      "10 300\n",
      "10 200\n",
      "10 100\n"
     ]
    }
   ],
   "source": [
    "List1 = [10,20,30,40]\n",
    "List2 = [100,200,300,400]\n",
    "\n",
    "List2_rev = List2[-1::-1]\n",
    "for i in List1:\n",
    "    for j in List2_rev:\n",
    "        print(i,j, sep = \" \")\n",
    "    break    "
   ]
  },
  {
   "cell_type": "raw",
   "id": "98d2fae9",
   "metadata": {},
   "source": [
    "2. Write a Python program to reverse strings in a given list of string values without using reverse() or\n",
    "reversed().\n",
    "Sample Input: ['Red','Green','Blue','White','Black']\n",
    "Sample Output: ['deR', 'neerG', 'eulB', 'etihW', 'kcalB']"
   ]
  },
  {
   "cell_type": "code",
   "execution_count": 24,
   "id": "a3487ca8",
   "metadata": {},
   "outputs": [
    {
     "name": "stdout",
     "output_type": "stream",
     "text": [
      "['Red','Green','Blue','White','Black']\n",
      "[\"'Red'\", \"'Green'\", \"'Blue'\", \"'White'\", \"'Black'\"]\n",
      "['deR', 'neerG', 'eulB', 'etihW', 'kcalB']\n"
     ]
    }
   ],
   "source": [
    "list_1 = input()[1:-1].split(\",\")\n",
    "\n",
    "checker_1 = \"\"\n",
    "checker_2 = \"\"\n",
    "list_2 = []\n",
    "\n",
    "for i in list_1:\n",
    "    for j in i:\n",
    "        if j == chr(39):\n",
    "            if checker_1 == \"\":\n",
    "                continue\n",
    "            else:    \n",
    "                checker_2 = checker_1[-1::-1]\n",
    "                list_2.append(checker_2)\n",
    "                checker_1 = \"\"\n",
    "                checker_2 = \"\"\n",
    "        if j!= chr(39):\n",
    "            checker_1+=j                \n",
    "print(list_2)            "
   ]
  },
  {
   "cell_type": "raw",
   "id": "cf459a36",
   "metadata": {},
   "source": [
    "3. Write a Python program that takes a list from the user. Then find the first even and first odd number in\n",
    "the list.\n",
    "=====================================================\n",
    "Sample Input1:\n",
    "[1, 3, 5, 7, 4, 1, 6, 8]\n",
    "Sample Output1:\n",
    "First even:4 and First odd:1\n",
    "=====================================================\n",
    "Sample Input2:\n",
    "[55, 5, 7, 9, 11]\n",
    "Sample Output2:\n",
    "First even: not found and First odd: 55\n",
    "=====================================================\n",
    "Sample Input3:\n",
    "[50, 52, 6, 2, 10]\n",
    "Sample Output3:\n",
    "First even: 50 and First odd: not found"
   ]
  },
  {
   "cell_type": "code",
   "execution_count": 38,
   "id": "95154e99",
   "metadata": {},
   "outputs": [
    {
     "name": "stdout",
     "output_type": "stream",
     "text": [
      "[1, 3, 5, 7, 4, 1, 6, 8]\n",
      "First even: 4 and First odd: 1\n"
     ]
    }
   ],
   "source": [
    "list_1 = input()[1:-1].split(\", \")\n",
    "\n",
    "First_even = \"\"\n",
    "First_odd = \"\"\n",
    "counter_even = 0\n",
    "counter_odd = 0\n",
    "for i in list_1:\n",
    "    if counter_even == 0 and int(i)%2 == 0:\n",
    "        First_even = str(i)\n",
    "        counter_even+= 1\n",
    "    if counter_odd == 0 and int(i)%2 != 0:\n",
    "        First_odd = str(i)\n",
    "        counter_odd+= 1\n",
    "        \n",
    "# if counter_even == 0 and counter_odd == 0:\n",
    "#     print(\"First even: not found and First odd: not found\")\n",
    "if counter_even == 0 and counter_odd!= 0:\n",
    "    print(\"First even: not found and First odd:\", First_odd)    \n",
    "if counter_even != 0 and counter_odd== 0: \n",
    "    print(\"First even:\", First_even, \"and First odd: not found\")       \n",
    "if counter_even != 0 and counter_odd!= 0: \n",
    "    print(\"First even:\", First_even, \"and First odd:\", First_odd)           "
   ]
  },
  {
   "cell_type": "raw",
   "id": "57a13890",
   "metadata": {},
   "source": [
    "4. Assume, you have been given a list T and a number, N. Now, create a list by concatenating the input list\n",
    "which range goes from 1 to N.\n",
    "=====================================================\n",
    "Sample input1:\n",
    "T = ['p', 'q']\n",
    "N = 5\n",
    "Sample Output1:\n",
    "['p1', 'q1', 'p2', 'q2', 'p3', 'q3', 'p4', 'q4', 'p5', 'q5']\n",
    "=====================================================\n",
    "Sample input2:\n",
    "T = ['p', 'q', 'r']\n",
    "N = 3\n",
    "Sample Output2:\n",
    "['p1', 'q1', 'r1', 'p2', 'q2', 'r2', 'p3', 'q3', 'r3']\n",
    "=====================================================\n",
    "Sample input3:\n",
    "T = ['p', 'q', 'r', 's']\n",
    "N = 2\n",
    "Sample Output3:\n",
    "['p1', 'q1', 'r1', 's1', 'p2', 'q2', 'r2', 's2', 'p3', 'q3', 'r3', 's3']"
   ]
  },
  {
   "cell_type": "code",
   "execution_count": 2,
   "id": "202fb9f8",
   "metadata": {},
   "outputs": [
    {
     "name": "stdout",
     "output_type": "stream",
     "text": [
      "['p1', 'q1', 'r1', 's1', 'p2', 'q2', 'r2', 's2', 'p3', 'q3', 'r3', 's3']\n"
     ]
    }
   ],
   "source": [
    "list_1 = ['p', 'q', 'r', 's']\n",
    "n = 3\n",
    "\n",
    "list_2 = list_1*n\n",
    "\n",
    "list_3 = []\n",
    "\n",
    "str_1 = \"\"\n",
    "counter = 1\n",
    "\n",
    "while counter<=n:\n",
    "    for j in list_2:\n",
    "        if j in str_1:\n",
    "            str_1 = \"\"\n",
    "        else:\n",
    "            str_1 = j + str(counter)\n",
    "            if str_1 in list_3:\n",
    "                continue\n",
    "            else:\n",
    "                list_3.append(str_1)\n",
    "    counter+=1\n",
    "print(list_3 )          \n",
    "            "
   ]
  },
  {
   "cell_type": "code",
   "execution_count": null,
   "id": "8a18ef6b",
   "metadata": {},
   "outputs": [],
   "source": [
    "# list_1 = input(\"T = \")[1:-1].split(\", \")\n",
    "# list_2 = int(input(\"N = \"))\n",
    "\n",
    "# # counter = 1\n",
    "# list_3 = []\n",
    "\n",
    "# for k in range(1,list_2+1):\n",
    "#     for i in list_1:\n",
    "#         for j in i:\n",
    "#             if j == chr(39):\n",
    "#                 continue\n",
    "#             if j!= chr(39):\n",
    "#                 list_3.append(j+str(k))\n",
    "# #     counter+=1\n",
    "# print(list_3)           "
   ]
  }
 ],
 "metadata": {
  "kernelspec": {
   "display_name": "Python 3 (ipykernel)",
   "language": "python",
   "name": "python3"
  },
  "language_info": {
   "codemirror_mode": {
    "name": "ipython",
    "version": 3
   },
   "file_extension": ".py",
   "mimetype": "text/x-python",
   "name": "python",
   "nbconvert_exporter": "python",
   "pygments_lexer": "ipython3",
   "version": "3.9.7"
  }
 },
 "nbformat": 4,
 "nbformat_minor": 5
}
