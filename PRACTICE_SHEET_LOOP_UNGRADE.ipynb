{
 "cells": [
  {
   "cell_type": "markdown",
   "id": "c1665b78",
   "metadata": {},
   "source": [
    "Read a number (1-9) from the user and print the sequence given in the sample outputs.\n",
    "You have to identify the pattern using the sample Inputs and outputs. Assume that the user will not Input any\n",
    "invalid number.\n",
    "Sample Input 1:\n",
    "4\n",
    "Output:\n",
    "1234321\n",
    "Sample Input 2:\n",
    "8\n",
    "Output:\n",
    "123456787654321\n",
    "Sample Input 3:\n",
    "1\n",
    "Output:\n",
    "1\n",
    "Sample Input 2:\n",
    "6\n",
    "Output:\n",
    "12345654321"
   ]
  },
  {
   "cell_type": "code",
   "execution_count": 49,
   "id": "2c139aae",
   "metadata": {},
   "outputs": [
    {
     "name": "stdout",
     "output_type": "stream",
     "text": [
      "8\n",
      "123456787654321"
     ]
    }
   ],
   "source": [
    "num = int(input())\n",
    "\n",
    "for i in range(1,num+1):\n",
    "    print(i, end= \"\")\n",
    "for i in range(num-1,0,-1):\n",
    "    print(i, end= \"\")"
   ]
  },
  {
   "cell_type": "raw",
   "id": "d11ee8c9",
   "metadata": {},
   "source": [
    "\n",
    "Write a python program that operates in the following way-\n",
    "- The program asks the user to input an integer, X that is greater than 1.\n",
    "- The program will print “Invalid Input” if the user inputs otherwise.\n",
    "- The program asks for X number of positive integers where each number has \n",
    "the length of X.\n",
    "- The program then calculates and prints the summation of every first digit \n",
    "and every last digit of all the numbers.\n",
    "\n",
    "[You can not use String concept/String indexing to solve the task]\n",
    "\n",
    "Sample input 1:\n",
    "3\n",
    "015\n",
    "906\n",
    "222\n",
    "\n",
    "Sample output 1:\n",
    "Summation of every first digit: 11\n",
    "Summation of every last digit: 13\n",
    "\n",
    "Explanation 1:\n",
    "The program asks the user to input an integer that is greater than 1.\n",
    "The user enters 3.\n",
    "Then the program asks the user to input 3 numbers where each number has 3 \n",
    "digits.\n",
    "The user enters 015, 906 and 222 respectively.\n",
    "The program then calculates the summation of every first digit,  (0+9+2 = \n",
    "11) and every last digit, (5+6+2 = 13) of all the numbers.\n",
    "Finally, the \n",
    "So, the program prints “Invalid Input”"
   ]
  },
  {
   "cell_type": "code",
   "execution_count": 32,
   "id": "78633a7e",
   "metadata": {},
   "outputs": [
    {
     "name": "stdout",
     "output_type": "stream",
     "text": [
      "Please enter quantity=x:3\n",
      "Please enter a x digit number:015\n",
      "Please enter a x digit number:906\n",
      "Please enter a x digit number:222\n",
      "Sum of first digits: 11\n",
      "Sum of last digits: 13\n"
     ]
    }
   ],
   "source": [
    "x=int(input(\"Please enter quantity=x:\"))\n",
    "sum_first=0\n",
    "sum_last=0\n",
    "for i in range(1,x+1):\n",
    "    num=int(input(\"Please enter a x digit number:\"))\n",
    "    if num>=10**x:\n",
    "        print(\"Please enter a valid number\")\n",
    "        continue\n",
    "    divisor=10**(x-1)\n",
    "    sum_first+=num//divisor\n",
    "    sum_last+=num%10\n",
    "print(\"Sum of first digits:\",sum_first)\n",
    "print(\"Sum of last digits:\",sum_last)"
   ]
  },
  {
   "cell_type": "raw",
   "id": "a746b9a5",
   "metadata": {},
   "source": [
    "Read the value of n from the user and compute the value of the following series:\n",
    "result = (1**1)/1 + (2**2)/2 + (3**3)/3 + (4**4)/4 + ...... +(n**n)/n\n",
    "(Here,** indicates power)Sample Input: 3\n",
    "Output: 12\n",
    "===========================================================\n",
    "Sample Input: 5\n",
    "Output: 701\n",
    "Page"
   ]
  },
  {
   "cell_type": "code",
   "execution_count": 47,
   "id": "b816035a",
   "metadata": {},
   "outputs": [
    {
     "name": "stdout",
     "output_type": "stream",
     "text": [
      "5\n",
      "701\n"
     ]
    }
   ],
   "source": [
    "num = int(input())\n",
    "sum = 0\n",
    "\n",
    "for i in range(1,num+1):\n",
    "    sum+= (i**i)/i\n",
    "print(int(sum))"
   ]
  },
  {
   "cell_type": "raw",
   "id": "949b17a2",
   "metadata": {},
   "source": [
    "Take two-year Inputs from the user (Lower bound and upper bound).\n",
    "Print all the years that are leap years within that range (inclusive).\n",
    "Three conditions are used to identify leap years:\n",
    "● The year can be evenly divided by 4, is a leap year, unless\n",
    "● The year can be evenly divided by 100, it is NOT a leap year, unless:\n",
    "● The year is also evenly divisible by 400. Then it is a leap year.\n",
    "[which implies -\n",
    "if the year can be divided by 4 and NOT divided by 100, then it’s a leap year.\n",
    "If the year can be divided by 4, divided by 100, and divided by 400, then it’s a leap year.]\n",
    "===========================================================\n",
    "Sample Input:\n",
    "lower_bound= 1980\n",
    "upper_bound= 2020\n",
    "Sample Output:\n",
    "1980 1984 1988 1992 1996 2000 2004 2008 2012 2016 2020"
   ]
  },
  {
   "cell_type": "code",
   "execution_count": 56,
   "id": "31013005",
   "metadata": {},
   "outputs": [
    {
     "name": "stdout",
     "output_type": "stream",
     "text": [
      "1980\n",
      "2020\n",
      "1980 1984 1988 1992 1996 2000 2004 2008 2012 2016 2020 "
     ]
    }
   ],
   "source": [
    "num1 = int(input())\n",
    "num2 = int(input())\n",
    "\n",
    "for i in range(num1,num2+1):\n",
    "    if (i%4==0 and i%100!=0) or (i%4==0 and i%100==0 and i%400 == 0):\n",
    "        print(i, end= \" \")"
   ]
  },
  {
   "cell_type": "markdown",
   "id": "dae95d3b",
   "metadata": {},
   "source": [
    "Write a python program that takes integer Inputs from the user until the user gives \"STOP\". Print the\n",
    "product of all the numbers.\n",
    "Sample Input1:\n",
    "5\n",
    "6\n",
    "-02\n",
    "7\n",
    "2\n",
    "STOP\n",
    "Sample Output1:\n",
    "-840\n",
    "Sample Input2:\n",
    "5\n",
    "0\n",
    "2\n",
    "STOP\n",
    "Sample Output2:\n",
    "0\n",
    "Sample Input3:\n",
    "STOP\n",
    "Sample Output3:\n",
    "0\n",
    "Page"
   ]
  },
  {
   "cell_type": "code",
   "execution_count": 4,
   "id": "4cd84f12",
   "metadata": {},
   "outputs": [
    {
     "name": "stdout",
     "output_type": "stream",
     "text": [
      "5\n",
      "6\n",
      "-02\n",
      "7\n",
      "2\n",
      "STOP\n",
      "-840\n"
     ]
    }
   ],
   "source": [
    "\n",
    "product = 1\n",
    "while True:\n",
    "    num = input()\n",
    "    if num == \"STOP\":\n",
    "        break\n",
    "    else:\n",
    "        product*= int(num)\n",
    "print(product)        "
   ]
  },
  {
   "cell_type": "markdown",
   "id": "1b0dd4d1",
   "metadata": {},
   "source": [
    "6. Write a Python program that reads a number and displays the multiplication table of the given integer.\n",
    "Sample Input: 15\n",
    "Sample Output:\n",
    "15X1=15\n",
    "15X2=30\n",
    "...\n",
    "...\n",
    "15X10=150\n",
    "Sample Input: 2\n",
    "Sample Output:\n",
    "2X1=2\n",
    "2X2=4\n",
    "...\n",
    "...\n",
    "2X10=20\n",
    "Page 3"
   ]
  },
  {
   "cell_type": "code",
   "execution_count": 7,
   "id": "8aba5e5e",
   "metadata": {},
   "outputs": [
    {
     "name": "stdout",
     "output_type": "stream",
     "text": [
      "15\n",
      "15X1=15\n",
      "15X2=30\n",
      "15X3=45\n",
      "15X4=60\n",
      "15X5=75\n",
      "15X6=90\n",
      "15X7=105\n",
      "15X8=120\n",
      "15X9=135\n",
      "15X10=150\n"
     ]
    }
   ],
   "source": [
    "num = int(input())\n",
    "\n",
    "sum = 0\n",
    "for i in range(1,10+1):\n",
    "    print(num, \"X\", i, \"=\", num*i, sep = \"\")"
   ]
  },
  {
   "cell_type": "raw",
   "id": "2fbb0189",
   "metadata": {},
   "source": [
    "Imagine you are trying to draw a shape. So, you are taking the lengths of each of the sides of the shape.\n",
    "Now, what shape you need to draw depends on the first Input (1-4).\n",
    "a. If no of sides: 1 or 2, a line needs to be drawn\n",
    "b.If no of sides: 3, a triangle needs to be drawn\n",
    "c. If no of sides: 4, a rectangle needs to be drawn\n",
    "d.For any other number of sides, print “Invalid Input”\n",
    "After deciding what your shape will be, your job is to verify whether the shape can be drawn using the lengths\n",
    "given by the user.\n",
    "● To draw a triangle, the sum of the lengths of any two sides must be greater than the third.\n",
    "● To draw a rectangle, the sum of the lengths of any three sides must be greater than the fourth.\n",
    "● To draw a line, no verification is required.\n",
    "Sample Input 1:\n",
    "No of sides: 1\n",
    "Sample Output:\n",
    "A line can be drawn\n",
    "Sample Input 2:\n",
    "No of sides: 2\n",
    "Sample Output:\n",
    "A line can be drawn\n",
    "Sample Input 3:\n",
    "No of sides: 3\n",
    "Length of sides:\n",
    "2\n",
    "3\n",
    "1\n",
    "Sample Output:\n",
    "A triangle cannot be drawn\n",
    "Sample Input 4:\n",
    "No of sides: 3\n",
    "Length of sides:\n",
    "2\n",
    "3\n",
    "2\n",
    "Sample Output:\n",
    "A triangle can be drawn\n",
    "Sample Input 5:\n",
    "No of sides: 4\n",
    "Length of sides:\n",
    "2\n",
    "3\n",
    "1\n",
    "4\n",
    "Sample Output:\n",
    "A rectangle can be drawn\n",
    "Sample Input 5:\n",
    "No of sides: 4\n",
    "C\n",
    "2\n",
    "3\n",
    "1\n",
    "7\n",
    "Sample Output:\n",
    "A rectangle cannot be drawn\n",
    "Page 4"
   ]
  },
  {
   "cell_type": "code",
   "execution_count": 2,
   "id": "8782da6c",
   "metadata": {},
   "outputs": [
    {
     "name": "stdout",
     "output_type": "stream",
     "text": [
      "No of sides:3\n",
      "Length of sides:2\n",
      "Length of sides:3\n",
      "Length of sides:2\n",
      "A triangle can be drawn\n"
     ]
    }
   ],
   "source": [
    "num = int(input(\"No of sides:\"))\n",
    "\n",
    "if num>4 or num<1:\n",
    "    print(\"Invalid Input\")\n",
    "\n",
    "if 0<num<=2:\n",
    "    print(\"A line can be drawn\")\n",
    "    \n",
    "if num == 3:\n",
    "    num1 = int(input(\"Length of sides:\"))\n",
    "    num2 = int(input(\"Length of sides:\"))\n",
    "    num3 = int(input(\"Length of sides:\"))\n",
    "    if num1+num2>num3 and num2+num3>num1 and num1+num3>num2:\n",
    "        print(\"A triangle can be drawn\")\n",
    "    else:\n",
    "        print(\"A triangle cannot be drawn\")\n",
    "\n",
    "        \n",
    "if num == 4:\n",
    "    num1 = int(input(\"Length of sides:\"))\n",
    "    num2 = int(input(\"Length of sides:\"))\n",
    "    num3 = int(input(\"Length of sides:\"))\n",
    "    num4 = int(input(\"Length of sides:\"))\n",
    "    if num1+num2+num3>num4 and num2+num3+num4>num1 and num1+num3+num4>num2 and num1+num2+num4>num3:\n",
    "        print(\"A rectangle can be drawn\")\n",
    "    else:\n",
    "        print(\"A rectangle cannot be drawn\")    \n"
   ]
  },
  {
   "cell_type": "raw",
   "id": "6a430951",
   "metadata": {},
   "source": [
    "Imagine you are trying to draw a shape. So, you are taking the angles of the shape. Now, what shape you need\n",
    "to draw depends on the first Input (3 or 4).\n",
    "a. If no of angles is 3, a triangle needs to be drawn\n",
    "b.If no of angles is 4, a rectangle needs to be drawn\n",
    "c. For any other Inputs, print “Invalid Input”\n",
    "After deciding what your shape will be, your job is to verify whether the shape can be drawn using the angles given\n",
    "by the user.\n",
    "● To draw a triangle, the sum of the angles must be equal to 180 degrees.\n",
    "● To draw a rectangle, the sum of the angles must be equal to 360 degrees.\n",
    "Sample Input 1:\n",
    "No of angles: 1\n",
    "Sample Output:\n",
    "Invalid number of angles\n",
    "Sample Input 2:\n",
    "No of angles: 2\n",
    "Sample Output:\n",
    "Invalid number of angles\n",
    "Sample Input 3:\n",
    "No of angles: 3\n",
    "Angles:\n",
    "60\n",
    "90\n",
    "50\n",
    "Sample Output:\n",
    "Triangle cannot be drawn\n",
    "Sample Input 4:\n",
    "No of sides: 3\n",
    "Angles:\n",
    "60\n",
    "90\n",
    "30\n",
    "Sample Output:\n",
    "A triangle can be drawn\n",
    "Sample Input 5:\n",
    "No of angles: 4\n",
    "Angles:\n",
    "60\n",
    "80\n",
    "70\n",
    "150\n",
    "Sample Output:\n",
    "A rectangle can be drawn\n",
    "Sample Input 6:\n",
    "No of angles: 4\n",
    "Angles:\n",
    "60\n",
    "80\n",
    "70\n",
    "130\n",
    "Sample Output:\n",
    "A rectangle cannot be drawn"
   ]
  },
  {
   "cell_type": "code",
   "execution_count": 2,
   "id": "02ce6e47",
   "metadata": {},
   "outputs": [
    {
     "name": "stdout",
     "output_type": "stream",
     "text": [
      "No of sides:4\n",
      "Angles:60\n",
      "Angles:80\n",
      "Angles:70\n",
      "Angles:150\n",
      "A rectangle can be drawn\n"
     ]
    }
   ],
   "source": [
    "num = int(input(\"No of sides:\"))\n",
    "\n",
    "if num<3 or num>4:\n",
    "    print(\"Invalid number of angles\")\n",
    "\n",
    "if num == 3:\n",
    "    num1 = int(input(\"Angles:\"))\n",
    "    num2 = int(input(\"Angles:\"))\n",
    "    num3 = int(input(\"Angles:\"))\n",
    "    if num1+num2+num3== 180:\n",
    "        print(\"A triangle can be drawn\")\n",
    "    else:\n",
    "        print(\"A triangle cannot be drawn\")\n",
    "        \n",
    "\n",
    "if num == 4:\n",
    "    num1 = int(input(\"Angles:\"))\n",
    "    num2 = int(input(\"Angles:\"))\n",
    "    num3 = int(input(\"Angles:\"))\n",
    "    num4 = int(input(\"Angles:\"))\n",
    "    if num1+num2+num3+num4 == 360:\n",
    "        print(\"A rectangle can be drawn\")\n",
    "    else:\n",
    "        print(\"A rectangle cannot be drawn\")    \n"
   ]
  },
  {
   "cell_type": "raw",
   "id": "4281f3ae",
   "metadata": {},
   "source": [
    "11. You will be given three Inputs M, N, and P. M indicates the number of chocolates you have. And there is a shop\n",
    "where you can get P new chocolates if you return N empty chocolate packets. You need to find out the total number\n",
    "of chocolates that you can have and print it.\n",
    "================================\n",
    "Sample Input 1:\n",
    "100\n",
    "4\n",
    "1\n",
    "Sample Output 1:\n",
    "133\n",
    "Explanation 1:\n",
    "In this Input, the shop will return 1 new chocolate for every 4 empty packets. So, if you have 100 chocolates\n",
    "in the beginning, you can have more chocolates through the following steps.\n",
    "1. Eat 100 chocolates -> 100 empty packs.\n",
    "2. 100 empty packs -> 25 new chocolates. 125\n",
    "3. Eat 25 chocolates -> 25 empty packets.\n",
    "4. 25 empty packets -> 6 new chocolates and 1 empty packet.\n",
    "5. Eat 6 chocolates -> (6 + 1 remaining) = 7 empty packs.\n",
    "6. 7 empty packets -> 1 new chocolate and 3 empty packets.\n",
    "7. Eat 1 chocolate -> (1 + 3 remaining) = 4 empty packs.\n",
    "8. 4 empty packs -> 1 new chocolate.\n",
    "9. Eat 1 chocolate -> 1 empty packet.\n",
    "No new chocolate can be obtained using only 1 packet.\n",
    "Now counting all the chocolates, you have eaten you’ll get (100 + 25 + 6 + 1 + 1) = 133 chocolates in total.\n",
    "So, the output is 133.\n",
    "================================\n",
    "Sample Input 2:\n",
    "100\n",
    "10\n",
    "3\n",
    "Sample Output 2:\n",
    "139\n",
    "Explanation 2:\n",
    "In this Input, the shop will return 3 new chocolates for every 10 empty packets. So, if you have 100 chocolates\n",
    "in the beginning, you can have more chocolates through the following steps.\n",
    "1. Eat 100 chocolates -> 100 empty packs.\n",
    "2. 100 empty packets -> 30 new chocolates. (3 for each 10)\n",
    "3. Eat 30 chocolates -> 30 empty packs.\n",
    "4. 30 empty packs -> 9 new chocolates. (3 for each 10)\n",
    "Page 8 of 9\n",
    "5. Eat 9 chocolates -> 9 empty packs.\n",
    "You can’t get any more new chocolates with 9 empty packs since 9 is less than 10.\n",
    "Now counting all the chocolates, you have eaten. You’ll get (100 + 30 + 9) = 139 chocolates in total.\n",
    "So, the output is 139."
   ]
  },
  {
   "cell_type": "code",
   "execution_count": 5,
   "id": "91601e71",
   "metadata": {},
   "outputs": [
    {
     "name": "stdout",
     "output_type": "stream",
     "text": [
      "Chocolates I have: 100\n",
      "Empty chocolates: 4\n",
      "New chocolates: 1\n",
      "133\n"
     ]
    }
   ],
   "source": [
    "M = int(input(\"Chocolates I have: \"))\n",
    "N = int(input(\"Empty chocolates: \"))\n",
    "P = int(input(\"New chocolates: \"))\n",
    "\n",
    "M_copy = M\n",
    "\n",
    "h = 0\n",
    "i = 0\n",
    "\n",
    "while M>=1:\n",
    "    i+=((M%N)*P)\n",
    "    M= M//N\n",
    "    h= h+M\n",
    "#     i+=((M%N)*P)\n",
    "    \n",
    "j = i//N    \n",
    "print(M_copy+h+j)    \n",
    "    "
   ]
  },
  {
   "cell_type": "raw",
   "id": "ab4f9cbd",
   "metadata": {},
   "source": [
    "    9. Imagine you are playing a game with your friend which is quite similar to ludo. The player who crosses\n",
    "throughout the board of exactly 25 boxes wins. Each of you gets to roll the dice and can get from 1-6.\n",
    "If a player crosses 24 boxes, he/she has to get exactly 1 after rolling the dice in order to win. Otherwise, he/she\n",
    "will stay in the same place. The one who gets to the 25th box first will win.\n",
    "Until a winner is decided, the dice will be rolled between the players and the game will continue.\n",
    "Sample Input 1:\n",
    "Player 1: 6\n",
    "Player 2: 4\n",
    "Player 1: 5\n",
    "Player 2: 5\n",
    "Player 1: 6\n",
    "Player 2: 4\n",
    "Player 1: 4\n",
    "Player 2: 6\n",
    "Player 1: 3\n",
    "Player 2: 6\n",
    "Sample Output:\n",
    "Player 2 wins\n",
    "Sample Input 2:\n",
    "Player 1: 6\n",
    "Player 2: 3\n",
    "Player 1: 6\n",
    "Player 2: 2\n",
    "Player 1: 6\n",
    "Player 2: 6\n",
    "Player 1: 5\n",
    "Player 2: 6\n",
    "Player 1: 3\n",
    "Player 2: 4\n",
    "Player 1: 5\n",
    "Player 2: 5\n",
    "Player 1: 1\n",
    "Player 2: 6\n",
    "Player 1: 3\n",
    "Player 2: 2\n",
    "Player 1: 1\n",
    "Sample Output:\n",
    "Player 1 wins"
   ]
  },
  {
   "cell_type": "code",
   "execution_count": 9,
   "id": "1c170c4d",
   "metadata": {},
   "outputs": [
    {
     "name": "stdout",
     "output_type": "stream",
     "text": [
      "Player 1: 6\n",
      "Player 2: 3\n",
      "Player 1: 6\n",
      "Player 2: 2\n",
      "Player 1: 6\n",
      "Player 2: 6\n",
      "Player 1: 5\n",
      "Player 2: 6\n",
      "Player 1: 3\n",
      "Player 2: 4\n",
      "Player 1: 5\n",
      "Player 2: 5\n",
      "Player 1: 1\n",
      "Player 2: 6\n",
      "Player 1: 3\n",
      "Player 2: 2\n",
      "Player 1: 1\n",
      "p1 wins\n"
     ]
    }
   ],
   "source": [
    "p1 = 0\n",
    "p2 = 0\n",
    "\n",
    "while p1<= 25 and p2<= 25:\n",
    "    num_1 = int(input(\"Player 1: \"))\n",
    "    x = p1 + num_1\n",
    "    if x<26:\n",
    "        p1 += num_1\n",
    "    if p1 == 25:\n",
    "        print(\"p1 wins\")\n",
    "        break\n",
    "        \n",
    "    num_2 = int(input(\"Player 2: \"))    \n",
    "    y = p2 + num_2\n",
    "    if y<26:\n",
    "        p2 += num_2        \n",
    "    if p2 == 25:\n",
    "        print(\"p2 wins\")\n",
    "        break"
   ]
  },
  {
   "cell_type": "markdown",
   "id": "ae16d70f",
   "metadata": {},
   "source": [
    "### "
   ]
  },
  {
   "cell_type": "code",
   "execution_count": 7,
   "id": "22561fec",
   "metadata": {},
   "outputs": [
    {
     "name": "stdout",
     "output_type": "stream",
     "text": [
      "Chocolates I have: 100\n",
      "Empty chocolates: 10\n",
      "New chocolates: 3\n",
      "139\n"
     ]
    }
   ],
   "source": [
    "M = int(input(\"Chocolates I have: \"))\n",
    "N = int(input(\"Empty chocolates: \"))\n",
    "P = int(input(\"New chocolates: \"))\n",
    "\n",
    "M_copy = M\n",
    "\n",
    "h = 0\n",
    "i = 0\n",
    "\n",
    "while M>=1:\n",
    "    M_copy+= ((M+h)//N)*P\n",
    "    h = (M+h)%N\n",
    "    M = (M//N)*P\n",
    "\n",
    "print(M_copy)    \n",
    "    "
   ]
  },
  {
   "cell_type": "code",
   "execution_count": 1,
   "id": "4f95ce2d",
   "metadata": {},
   "outputs": [],
   "source": [
    "#palindrome"
   ]
  },
  {
   "cell_type": "code",
   "execution_count": 12,
   "id": "c61d5c2b",
   "metadata": {},
   "outputs": [
    {
     "name": "stdout",
     "output_type": "stream",
     "text": [
      "1233521\n",
      "Not a palindrome\n"
     ]
    }
   ],
   "source": [
    "str_1 = input()\n",
    "str_2 = str_1[::-1]\n",
    "\n",
    "if str_1 == str_2:\n",
    "    print(\"Palindrome\")\n",
    "else:\n",
    "    print(\"Not a palindrome\")"
   ]
  },
  {
   "cell_type": "code",
   "execution_count": null,
   "id": "cd4308af",
   "metadata": {},
   "outputs": [],
   "source": []
  }
 ],
 "metadata": {
  "kernelspec": {
   "display_name": "Python 3 (ipykernel)",
   "language": "python",
   "name": "python3"
  },
  "language_info": {
   "codemirror_mode": {
    "name": "ipython",
    "version": 3
   },
   "file_extension": ".py",
   "mimetype": "text/x-python",
   "name": "python",
   "nbconvert_exporter": "python",
   "pygments_lexer": "ipython3",
   "version": "3.9.7"
  }
 },
 "nbformat": 4,
 "nbformat_minor": 5
}
