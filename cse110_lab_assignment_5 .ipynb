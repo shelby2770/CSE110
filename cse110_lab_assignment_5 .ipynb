{
 "cells": [
  {
   "cell_type": "markdown",
   "metadata": {
    "id": "U4PRkuyUtDRw"
   },
   "source": [
    "# CSE110 Lab Assignment 5\n",
    "\n",
    "This Assignment is to help you develop your concept of Tuples and Dictionaries in Python.\n",
    "\n",
    "Write your name, student ID and CSE110 theory section number below:\n"
   ]
  },
  {
   "cell_type": "code",
   "execution_count": null,
   "metadata": {
    "id": "wl7fu2qrggWI"
   },
   "outputs": [],
   "source": [
    "#STUDENT NAME:\n",
    "#STUDENT ID:\n",
    "#CSE110 THEORY SECTION: "
   ]
  },
  {
   "cell_type": "markdown",
   "metadata": {
    "id": "PD425BrvtDRy"
   },
   "source": [
    "## Write the code in Python to do the following tasks:\n",
    "\n",
    "**<font color='red'>[MUST MAINTAIN VARIABLE NAMING CONVENTIONS FOR ALL THE TASKS]</font>**\n",
    "\n",
    "## Part 1: Tuple"
   ]
  },
  {
   "cell_type": "markdown",
   "metadata": {
    "id": "FNOorLYXtDRz"
   },
   "source": [
    "### Task 1\n",
    "\n",
    "Assume, you have been given a tuple.\n",
    "\n",
    "a_tuple = (\"The Institute\",\\\n",
    "        (\"Best Mystery & Thriller\", \"The Silent Patient\", 68821),\\\n",
    "        75717,\\\n",
    "        [1, 2, 3, 400, 5, 6, 7],\\\n",
    "        (\"Best Fiction\", \"The Testaments\", 98291)\\\n",
    ")\n",
    "\n",
    "Write **one line** of Python code to access and print the value 400.\n",
    "\n",
    "===================================================================\n",
    "\n",
    "Output: 400\n",
    "\n",
    "===================================================================\n"
   ]
  },
  {
   "cell_type": "code",
   "execution_count": 1,
   "metadata": {
    "id": "NDKB1cIMtDR0"
   },
   "outputs": [
    {
     "name": "stdout",
     "output_type": "stream",
     "text": [
      "400\n"
     ]
    }
   ],
   "source": [
    "#to do\n",
    "a_tuple = (\"The Institute\",\n",
    "(\"Best Mystery & Thriller\",\"The Silent Patient\",68821),\n",
    "75717,\n",
    "[1,2,3,400,5,6,7],\n",
    "(\"Best Fiction\",\"The Testaments\",98291)\n",
    ")\n",
    "print(a_tuple[3][3])\n"
   ]
  },
  {
   "cell_type": "markdown",
   "metadata": {
    "id": "BXlIw1svtDR-"
   },
   "source": [
    "### Task 2\n",
    "\n",
    "Assume, you have been given a tuple. Write a Python program that creates a **new tuple** excluding the first and last two elements of the given tuple and prints the new tuple. \n",
    "\n",
    "**Hint:** You may use tuple slicing.\n",
    "\n",
    "===================================================================\n",
    "\n",
    "**Sample Input 1:**\\\n",
    "(10, 20, 24, 25, 26, 35, 70)\n",
    "\n",
    "\n",
    "**Sample Output 1:**\\\n",
    "(24, 25, 26)\n",
    "\n",
    "===================================================================\n",
    "\n",
    "**Sample Input 2:**\\\n",
    "(-10, 20, 30, 40)\n",
    "\n",
    "\n",
    "**Sample Output 2:**\\\n",
    "()\n",
    "\n",
    "===================================================================\n",
    "\n",
    "**Sample Input 3:**\\\n",
    "(-10, 20, 25, 30, 40)\n",
    "\n",
    "\n",
    "**Sample Output 3:**\\\n",
    "(25,)\n",
    "\n",
    "===================================================================\n"
   ]
  },
  {
   "cell_type": "code",
   "execution_count": 2,
   "metadata": {
    "id": "FTJ-5AmNtDR_"
   },
   "outputs": [
    {
     "name": "stdout",
     "output_type": "stream",
     "text": [
      "(-10, 20, 25, 30, 40)\n",
      "[-10, 20, 25, 30, 40]\n",
      "(25,)\n"
     ]
    }
   ],
   "source": [
    "#to do\n",
    "# tuple_1 = tuple(map(int,input()[1:-1].split(\", \")))\n",
    "# print(tuple_1[2:len(tuple_1)-2])\n",
    "\n",
    "tuple_1 = input()[1:-1].split(\", \")\n",
    "# list_1 = [int(i) for i in tuple_1[1:-1].split(\", \")]\n",
    "list_1 = []\n",
    "\n",
    "for i in tuple_1:\n",
    "    list_1.append(int(i))\n",
    "print(list_1)\n",
    "tuple_2 = tuple(list_1)\n",
    "if len(tuple_2)<4:\n",
    "    print(\"Number of elements less than 4\")\n",
    "else:    \n",
    "    print(tuple_2[2:-2])"
   ]
  },
  {
   "cell_type": "markdown",
   "metadata": {
    "id": "Z3GS2TE6tDSG"
   },
   "source": [
    "### Task 3\n",
    "\n",
    "Assume, you have been given a tuple. \n",
    "\n",
    "\n",
    "book_info = (\\\n",
    "    (\"Best Mystery & Thriller\",\"The Silent Patient\",68,821),\\\n",
    "    (\"Best Horror\",\"The Institute\",75,717),\\\n",
    "    (\"Best History & Biography\",\"The five\",31,783 ),\\\n",
    "    (\"Best Fiction\",\"The Testaments\",98,291)\\\n",
    ")\n",
    "\n",
    "Write a Python program that prints the size of the tuple and all its elements as shown below.\n",
    "\n",
    "===================================================================\n",
    "\n",
    "**Output:**\\\n",
    "Size of the tuple is: 4\\\n",
    "('Best Mystery & Thriller', 'The Silent Patient', 68, 821)\\\n",
    "('Best Horror', 'The Institute', 75, 717)\\\n",
    "('Best History & Biography', 'The five', 31, 783)\\\n",
    "('Best Fiction', 'The Testaments', 98, 291)\n",
    "\n",
    "==================================================================="
   ]
  },
  {
   "cell_type": "code",
   "execution_count": 7,
   "metadata": {
    "id": "RPFYcAjntDSG"
   },
   "outputs": [
    {
     "name": "stdout",
     "output_type": "stream",
     "text": [
      "Size of the tuple is: 4\n",
      "('Best Mystery & Thriller', 'The Silent Patient', 68, 821)\n",
      "('Best Horror', 'The Institute', 75, 717)\n",
      "('Best History & Biography', 'The five', 31, 783)\n",
      "('Best Fiction', 'The Testaments', 98, 291)\n"
     ]
    }
   ],
   "source": [
    "#to do\n",
    "book_info = (\n",
    "(\"Best Mystery & Thriller\",\"The Silent Patient\",68,821),\n",
    "(\"Best Horror\",\"The Institute\",75,717),\n",
    "(\"Best History & Biography\",\"The five\",31,783 ),\n",
    "(\"Best Fiction\",\"The Testaments\",98,291)\n",
    ")\n",
    "print(\"Size of the tuple is:\", len(book_info))\n",
    "for i in book_info:\n",
    "    print(i)"
   ]
  },
  {
   "cell_type": "markdown",
   "metadata": {
    "id": "glKgAPlGtDSK"
   },
   "source": [
    "### Task 4\n",
    "\n",
    "Assume, you have been given a tuple with details about books that won the Good Reads Choice Awards. \n",
    "\n",
    "book_info = (\\\n",
    "    (\"Best Mystery & Thriller\",\"The Silent Patient\",68821),\\\n",
    "    (\"Best Horror\",\"The Institute\",75717),\\\n",
    "    (\"Best History & Biography\",\"The five\",31783 ),\\\n",
    "    (\"Best Fiction\",\"The Testaments\",98291)\\\n",
    ")\n",
    "\n",
    "Write a Python program that prints the award category, the book name, and its total votes earned as shown below. \n",
    "\n",
    "**<font color='red'>[Must use Tuple unpacking for printing and need to handle the quotation marks as a part of the output]</font>**\n",
    "\n",
    "===================================================================\n",
    "\n",
    "**Output:**\\\n",
    "The Silent Patient won the 'Best Mystery & Thriller' category with 68821 votes\\\n",
    "The Institute won the 'Best Horror' category with 75717 votes\\\n",
    "The five won the 'Best History & Biography' category with 31783 votes\\\n",
    "The Testaments won the 'Best Fiction' category with 98291 votes\n",
    "\n",
    "==================================================================="
   ]
  },
  {
   "cell_type": "code",
   "execution_count": 97,
   "metadata": {
    "id": "LgTKpSGatDSM"
   },
   "outputs": [
    {
     "name": "stdout",
     "output_type": "stream",
     "text": [
      "The Silent Patient won the 'Best Mystery & Thriller' category with 68821 votes\n",
      "The Institute won the 'Best Horror' category with 75717 votes\n",
      "The five won the 'Best History & Biography' category with 31783 votes\n",
      "The Testaments won the 'Best Fiction' category with 98291 votes\n"
     ]
    }
   ],
   "source": [
    "#to do\n",
    "book_info = (\n",
    "(\"Best Mystery & Thriller\",\"The Silent Patient\",68821),\n",
    "(\"Best Horror\",\"The Institute\",75717),\n",
    "(\"Best History & Biography\",\"The five\",31783 ),\n",
    "(\"Best Fiction\",\"The Testaments\",98291)\n",
    ")\n",
    "\n",
    "for i in range(len(book_info)):\n",
    "    (a,b,c) = book_info[i]\n",
    "    print(b, \" won the \", chr(39), a, chr(39), \" category with \", c, \" votes\", sep = \"\")"
   ]
  },
  {
   "cell_type": "markdown",
   "metadata": {
    "id": "bRe9K_j55zpb"
   },
   "source": [
    "### Task 5\n",
    "Write a python program that takes an input from the user and finds the number of times that the input is present in a given tuple.\n",
    "\n",
    "===================================================================\n",
    "\n",
    "<b>Example 1: </b><br/>\n",
    "\n",
    "Given tuple: (10, 8, 5, 2, 10, 15, 10, 8, 5, 8, 8, 2) <br/>\n",
    "\n",
    "<b>Sample Input 1:</b> \n",
    "\n",
    "8<br/>\n",
    "\n",
    "<b>Sample Output 1: </b> <br/>\n",
    "\n",
    "8 appears 4 times in the tuple<br/>\n",
    "\n",
    "===================================================================\n",
    "\n",
    "<b> Example 2 </b><br/>\n",
    "\n",
    "Given tuple: (10, 8, 5, 2, 10, 15, 10, 8, 5, 8, 8, 2)<br/>\n",
    "\n",
    "<b>Sample Input 2:</b>\n",
    "\n",
    "1<br/>\n",
    "\n",
    "<b>Sample Output 2:</b><br/>\n",
    "\n",
    "1 appears 0 times in the tuple\n",
    "\n",
    "==================================================================="
   ]
  },
  {
   "cell_type": "code",
   "execution_count": 1,
   "metadata": {
    "id": "mC-B1fpStDST"
   },
   "outputs": [
    {
     "name": "stdout",
     "output_type": "stream",
     "text": [
      "1\n",
      "1 appears 0 times in the tuple\n"
     ]
    }
   ],
   "source": [
    "#to do  \n",
    "tuple_1 = (10, 8, 5, 2, 10, 15, 10, 8, 5, 8, 8, 2)\n",
    "\n",
    "key = int(input())\n",
    "counter = 0\n",
    "for i in tuple_1:\n",
    "    if i == key:\n",
    "        counter+= 1\n",
    "print(key, \"appears\", counter, \"times in the tuple\")"
   ]
  },
  {
   "cell_type": "markdown",
   "metadata": {
    "id": "QWNi_JWr6AfC"
   },
   "source": [
    "### Task 6\n",
    "Write a Python program to reverse a given tuple. \n",
    "\n",
    " \n",
    "  <font color='red'>[You are not allowed to use tuple slicing]</font>\n",
    "  \n",
    "===================================================================\n",
    "\n",
    "<b>Note: </b>  Unlike lists, tuples are immutable. So, in order to reverse a tuple, we may need to convert it into a list first, then modify the list, and finally convert it back to a tuple. \n",
    "\n",
    "===================================================================\n",
    "\n",
    "<b>Example 1: </b><br/>\n",
    "\n",
    "Given tuple: ('a', 'b', 'c', 'd', 'e', 'f', 'g', 'h') <br/>\n",
    "\n",
    "<b> Output: </b> <br/>\n",
    "\n",
    "('h', 'g', 'f', 'e', 'd', 'c', 'b', 'a')<br/>\n",
    "\n",
    "\n",
    "===================================================================\n",
    "\n",
    "<b> Example 2: </b><br/>\n",
    "\n",
    "Given tuple: (10, 20, 30, 40, 50, 60)<br/>\n",
    "\n",
    "<b> Output: </b><br/>\n",
    "\n",
    "(60, 50, 40, 30, 20, 10)\n",
    "\n",
    "===================================================================\n"
   ]
  },
  {
   "cell_type": "code",
   "execution_count": 40,
   "metadata": {
    "id": "CJrUcYAN6Bkx"
   },
   "outputs": [
    {
     "name": "stdout",
     "output_type": "stream",
     "text": [
      "('h', 'g', 'f', 'e', 'd', 'c', 'b', 'a')\n",
      "(60, 50, 40, 30, 20, 10)\n"
     ]
    }
   ],
   "source": [
    "#to do\n",
    "tuple_1 = ('a', 'b', 'c', 'd', 'e', 'f', 'g', 'h')\n",
    "list_1 = list(tuple_1)\n",
    "list_2 = []\n",
    "for i in range(len(list_1)-1,-1,-1):\n",
    "    list_2.append(list_1[i])\n",
    "print(tuple(list_2))    \n",
    "\n",
    "tuple_2 = (10, 20, 30, 40, 50, 60)\n",
    "list_1 = list(tuple_2)\n",
    "list_2 = []\n",
    "for i in range(len(list_1)-1,-1,-1):\n",
    "    list_2.append(list_1[i])\n",
    "print(tuple(list_2))    "
   ]
  },
  {
   "cell_type": "markdown",
   "metadata": {
    "id": "km0QurTJtDSX"
   },
   "source": [
    "## Part 2: Dictionary"
   ]
  },
  {
   "cell_type": "markdown",
   "metadata": {
    "id": "kvV-HnCntDSc"
   },
   "source": [
    "### Task 7\n",
    "Suppose you are given two dictionaries.\\\n",
    "Now create a new dictionary \"marks\", merging the two dictionaries, **so that the original two dictionaries remain unchanged.**\n",
    "\n",
    "\n",
    "**Note:** You can use dictionary functions.\n",
    "\n",
    "===================================================================\n",
    "\n",
    "**Given:**\n",
    "\n",
    "{'Harry':15, 'Draco':8, 'Nevil':19}\n",
    "\n",
    "{'Ginie':18, 'Luna': 14}\n",
    "\n",
    "**Output:**\n",
    "\n",
    "{'Harry': 15, 'Draco': 8, 'Nevil': 19, 'Ginie': 18, 'Luna': 14}\n",
    "\n",
    "===================================================================\n",
    "\n",
    "**Given:**\n",
    "\n",
    "{'A':90, 'B': 0}\n",
    "\n",
    "{'C':50}\n",
    "\n",
    "**Output:**\n",
    "\n",
    "{'A': 90, 'B': 0, 'C': 50}\n",
    "\n",
    "===================================================================\n"
   ]
  },
  {
   "cell_type": "code",
   "execution_count": 69,
   "metadata": {
    "id": "BGSyClBPtDSd"
   },
   "outputs": [
    {
     "name": "stdout",
     "output_type": "stream",
     "text": [
      "{'A': 90, 'B': 0, 'C': 50}\n",
      "{'Harry': 15, 'Draco': 8, 'Nevil': 19, 'Ginie': 18, 'Luna': 14}\n"
     ]
    }
   ],
   "source": [
    "#to do\n",
    "dict_1 = {'A':90, 'B': 0}\n",
    "dict_2 = {'C':50}\n",
    "dict_3 = {}\n",
    "\n",
    "for k,v in dict_1.items():\n",
    "    dict_3[k] = v\n",
    "for k,v in dict_2.items():\n",
    "    dict_3[k] = v\n",
    "\n",
    "print(dict_3)   \n",
    "\n",
    "\n",
    "dict_1 = {'Harry':15, 'Draco':8, 'Nevil':19}\n",
    "dict_2 = {'Ginie':18, 'Luna': 14}\n",
    "dict_3 = {}\n",
    "\n",
    "for k,v in dict_1.items():\n",
    "    dict_3[k] = v\n",
    "for k,v in dict_2.items():\n",
    "    dict_3[k] = v\n",
    "\n",
    "print(dict_3)   \n"
   ]
  },
  {
   "cell_type": "markdown",
   "metadata": {
    "id": "QRzP4HYStDSi"
   },
   "source": [
    "### Task 8\n",
    "Write a Python program that takes a dictionary as an input from the user and then prints the average of all the values in the dictionary.\n",
    "\n",
    " <font color='red'>[You are not allowed to use len() and sum()]</font>\n",
    "\n",
    "===================================================================\n",
    "\n",
    "**Hint (1): For taking dictionary input** \n",
    "\n",
    "Approach(1): For taking dictionary as an input from the user, you may take the whole dictionary as a string using the input() function. Then you can use the split(), strip() functions and conditions to get the keys and values from the string. Finally, you can make the dictionary using the obtained data.\n",
    "\n",
    "Approach(2): If the first approach seems too difficult you can create an empty dictionary and then just run a simple loop. For each iteration ask the user for a key and a value using the input() function and keep updating the dictionary with the key and value.\n",
    "\n",
    "\n",
    "**Hint (2):** After you have a dictionary, you can use dictionary functions to get all the values from it, run loop to calculate the sum and the total number of values in the dictionary in order to find out the average.\n",
    "\n",
    "===================================================================\n",
    "\n",
    "**Sample Input 1:**\n",
    "\n",
    "{'Jon': 100, 'Dan':200, 'Rob':300}\n",
    "\n",
    "**Sample Output 1:**\n",
    "\n",
    "Average is 200.\n",
    "\n",
    "===================================================================\n",
    "\n",
    "\n",
    "**Sample Input 2:**\n",
    "\n",
    "{'Jon': 100, 'Dan':200, 'Rob':30, 'Ned':110}\n",
    "\n",
    "**Sample Output 2:**\n",
    "\n",
    "Average is 110.\n",
    "\n",
    "===================================================================\n"
   ]
  },
  {
   "cell_type": "code",
   "execution_count": 11,
   "metadata": {
    "id": "VMRLnA53tDSk"
   },
   "outputs": [
    {
     "name": "stdout",
     "output_type": "stream",
     "text": [
      "{'Jon': 100, 'Dan':200, 'Rob':300}\n",
      "Average is 200\n"
     ]
    }
   ],
   "source": [
    "#to do\n",
    "list_1 = input()[1:-1].split(\", \")\n",
    "dict_1 = {}\n",
    "\n",
    "for i in list_1:\n",
    "    if \":\" in i:\n",
    "        list_2 = i.split(\":\")\n",
    "        dict_2 = {list_2[0], list_2[1]}\n",
    "        dict_1[list_2[0][1:-1]] = int(list_2[1])    \n",
    "\n",
    "sum = 0\n",
    "counter = 0\n",
    "for i in dict_1.values():\n",
    "    sum+= i\n",
    "    counter+= 1\n",
    "print(\"Average is\", sum//counter)    "
   ]
  },
  {
   "cell_type": "markdown",
   "metadata": {
    "id": "le7fZ8XC9j_x"
   },
   "source": [
    "### Task 9\n",
    "Suppose there is a dictionary named exam_marks as given below.\n",
    "\n",
    "exam_marks = {'Cierra Vega': 175, 'Alden Cantrell': 200, 'Kierra Gentry': 165, 'Pierre Cox': 190}\n",
    "\n",
    "Write a Python program that takes an input from the user and creates a new dictionary with only those elements from 'exam_marks' whose keys have values higher than the user input (inclusive).\n",
    "\n",
    "===================================================================\n",
    "\n",
    "**Sample Input 1:**\n",
    "\n",
    "170\n",
    "\n",
    "**Sample Output 1:**\n",
    "\n",
    "{'Cierra Vega': 175, 'Alden Cantrell': 200, 'Pierre Cox': 190}\n",
    "\n",
    "===================================================================\n",
    "\n",
    "**Sample Input 2:**\n",
    "\n",
    "190\n",
    "\n",
    "**Sample Output 2:**\n",
    "\n",
    "{'Alden Cantrell': 200, 'Pierre Cox': 190}\n",
    "\n",
    "==================================================================="
   ]
  },
  {
   "cell_type": "code",
   "execution_count": 3,
   "metadata": {
    "id": "qJWoUsLN9lBY"
   },
   "outputs": [
    {
     "name": "stdout",
     "output_type": "stream",
     "text": [
      "190\n",
      "{'Alden Cantrell': 200, 'Pierre Cox': 190}\n"
     ]
    }
   ],
   "source": [
    "#to do\n",
    "exam_marks = {'Cierra Vega': 175, 'Alden Cantrell': 200, 'Kierra Gentry': 165, 'Pierre Cox': 190}\n",
    "num_1 = int(input())\n",
    "dict_2 = {}\n",
    "\n",
    "for i,j in exam_marks.items():\n",
    "    if j>=num_1:\n",
    "        dict_2[i] = j\n",
    "\n",
    "print(dict_2)    "
   ]
  },
  {
   "cell_type": "markdown",
   "metadata": {
    "id": "IsqFQpqKtDSs"
   },
   "source": [
    "### Task 10\n",
    "Write a Python program that finds the largest value with its key from a given dictionary.  <font color='red'>[without using max() function]</font> \n",
    "\n",
    "**Note:** You do not need to take the dictionaries as an input from the user but your code should work for any given dictionary. Also, you need to handle the quotation marks as a part of the output.\n",
    "\n",
    "**Hint:** Think of membership operators (in and not in). You can use dictionary functions to get the values.\n",
    "\n",
    "===================================================================\n",
    "\n",
    "Sample 1:\n",
    "\n",
    "**Given:**\n",
    "\n",
    "{'sci fi': 12, 'mystery': 15, 'horror': 8, 'mythology': 10, 'young_adult': 4, 'adventure':14}\n",
    "\n",
    "**Output:**\n",
    "\n",
    "The highest selling book genre is 'mystery' and the number of books sold are 15.\n",
    "\n",
    "===================================================================\n",
    "\n",
    "Sample 2:\n",
    "\n",
    "**Given:**\n",
    "\n",
    "{'sci fi': 5, 'mystery': 3, 'horror': 14,\n",
    "             'young_adult': 2, 'adventure':9}\n",
    "\n",
    "**Output:**\n",
    "\n",
    "The highest selling book genre is  'horror'  and the number of books sold are 14.\n",
    "\n",
    "===================================================================\n"
   ]
  },
  {
   "cell_type": "code",
   "execution_count": 10,
   "metadata": {
    "id": "v9Kosgs4tDSt"
   },
   "outputs": [
    {
     "name": "stdout",
     "output_type": "stream",
     "text": [
      "The highest selling book genre is 'mystery' and the number of books sold are 15\n",
      "The highest selling book genre is 'horror' and the number of books sold are 14\n"
     ]
    }
   ],
   "source": [
    "#to do\n",
    "import math\n",
    "dict_1 = {'sci fi': 12, 'mystery': 15, 'horror': 8, 'mythology': 10, 'young_adult': 4, 'adventure':14}\n",
    "\n",
    "checker = -math.inf\n",
    "dict_2 = {}\n",
    "for i,j in dict_1.items():\n",
    "    if j>checker:\n",
    "        checker = j\n",
    "        dict_2 = {}\n",
    "        dict_2[i] = j\n",
    "\n",
    "for i,j in dict_2.items():\n",
    "    print(\"The highest selling book genre is \", chr(39), i, chr(39), \" and the number of books sold are \", j, sep = \"\")\n",
    "\n",
    "dict_1 = {'sci fi': 5, 'mystery': 3, 'horror': 14, 'young_adult': 2, 'adventure':9}\n",
    "\n",
    "checker = -math.inf\n",
    "dict_2 = {}\n",
    "for i,j in dict_1.items():\n",
    "    if j>checker:\n",
    "        checker = j\n",
    "        dict_2 = {}\n",
    "        dict_2[i] = j\n",
    "\n",
    "for i,j in dict_2.items():\n",
    "    print(\"The highest selling book genre is \", chr(39), i, chr(39), \" and the number of books sold are \", j, sep = \"\")\n",
    "    "
   ]
  },
  {
   "cell_type": "markdown",
   "metadata": {
    "id": "qozufw7itDSy"
   },
   "source": [
    "### Task 11\n",
    "Write a Python program that combines two dictionaries by **adding values for common keys**. \n",
    "\n",
    "**Note:** You do not need to take any dictionary as an input from the user but your task should work for any two given dictionaries.\n",
    "\n",
    "**Hint:** Think of membership operators (in and not in). You can use dictionary functions to get the values. You may need to create a new dictionary to store the combined items.\n",
    "\n",
    "===================================================================\n",
    "\n",
    "**Example 1:**\n",
    "\n",
    "Given:\n",
    "\n",
    "dict1 = {'a': 10, 'b':20, 'c':30}\\\n",
    "dict2 = {'a': 10, 'c':20, 'd':30, 'e':40}\n",
    "\n",
    "**Output:**\n",
    "\n",
    "{'a': 20, 'b': 20, 'c': 50, 'd': 30, 'e': 40}\n",
    "\n",
    "===================================================================\n",
    "\n",
    "**Example 2:**\n",
    "\n",
    "Given:\n",
    "\n",
    "dict1 = {'chocolate': -100, 'ice_cream': 50}\\\n",
    "dict2 = {'fanta':-500, 'chocolate': -100, '7_up':400}\n",
    "\n",
    "**Output:**\n",
    "\n",
    "{'chocolate': -200, 'ice_cream': 50, 'fanta': -500, '7_up': 400}\n",
    "\n",
    "==================================================================="
   ]
  },
  {
   "cell_type": "code",
   "execution_count": 127,
   "metadata": {
    "id": "S0EIYODZtDSz"
   },
   "outputs": [
    {
     "name": "stdout",
     "output_type": "stream",
     "text": [
      "{'a': 20, 'b': 20, 'c': 50, 'd': 30, 'e': 40}\n",
      "{'chocolate': -200, 'ice_cream': 50, 'fanta': -500, '7_up': 400}\n"
     ]
    }
   ],
   "source": [
    "#to do\n",
    "dict1 = {'a': 10, 'b':20, 'c':30}\n",
    "dict2 = {'a': 10, 'c':20, 'd':30, 'e':40}\n",
    "dict3 = {}\n",
    "\n",
    "for i,j in dict1.items():\n",
    "    for k,v in dict2.items():   \n",
    "        if i == k:\n",
    "            sum = v+j\n",
    "            dict1[i] = sum\n",
    "\n",
    "for i,j in dict2.items():\n",
    "    if i not in dict1:\n",
    "        dict1[i] = j\n",
    "print(dict1) \n",
    "\n",
    "\n",
    "\n",
    "dict1 = {'chocolate': -100, 'ice_cream': 50}\n",
    "dict2 = {'fanta':-500, 'chocolate': -100, '7_up':400}\n",
    "dict3 = {}\n",
    "\n",
    "for i,j in dict1.items():\n",
    "    for k,v in dict2.items():   \n",
    "        if i == k:\n",
    "            sum = v+j\n",
    "            dict1[i] = sum\n",
    "\n",
    "for i,j in dict2.items():\n",
    "    if i not in dict1:\n",
    "        dict1.update({i:j})\n",
    "print(dict1)        "
   ]
  },
  {
   "cell_type": "markdown",
   "metadata": {
    "id": "d0a82nIt9ufj"
   },
   "source": [
    "### Task 12\n",
    "Write a Python program which prints the frequency of numbers given as input by the user. You should stop taking input when you find the string \"STOP\".\n",
    "\n",
    "\n",
    "**Note:** Use a dictionary to solve the problem\n",
    "\n",
    "===================================================================\n",
    "\n",
    "**Sample Input:**\n",
    "\n",
    "10, 20, 20, 30, 10, 50, 90, 50, 20, STOP\n",
    "\n",
    "**Sample Output:**\n",
    "\n",
    "Frequency of numbers:\\\n",
    "10 - 2 times\\\n",
    "20 - 3 times\\\n",
    "30 - 1 times\\\n",
    "50 - 2 times\\\n",
    "90 - 1 times\n",
    "\n",
    "===================================================================\n"
   ]
  },
  {
   "cell_type": "code",
   "execution_count": 4,
   "metadata": {
    "id": "snOKGA1d9vFC"
   },
   "outputs": [
    {
     "name": "stdout",
     "output_type": "stream",
     "text": [
      "10, 20, 20, 30, 10, 50, 90, 50, 20, STOP\n",
      "Frequency of numbers:\n",
      "10 - 2 times\n",
      "20 - 3 times\n",
      "30 - 1 times\n",
      "50 - 2 times\n",
      "90 - 1 times\n"
     ]
    }
   ],
   "source": [
    "#to do\n",
    "list_1 = input().split(\", \")\n",
    "list_2 = list_1[:-1]\n",
    "dict_1 = {}\n",
    "\n",
    "for i in list_2:\n",
    "    if int(i) in dict_1:\n",
    "        dict_1[int(i)] += 1\n",
    "    else:\n",
    "        dict_1[int(i)] = 1\n",
    "print(\"Frequency of numbers:\")\n",
    "for k, v in dict_1.items():\n",
    "    print(k, \"-\", v, \"times\")"
   ]
  },
  {
   "cell_type": "markdown",
   "metadata": {
    "id": "hAqjgwGNtDS2"
   },
   "source": [
    "### Task 13\n",
    "Write a Python program that takes a String as an input from the user and counts the frequency of each character using a dictionary. For solving this problem, you may use each character as a key and its frequency as values. <font color='red'>[You are not allowed to use the count() function]</font> \n",
    "\n",
    "**Hint:** You can create a new dictionary to store the frequencies. You may ignore case for simplicity (i.e. may consider P and p to be the same).\n",
    "\n",
    "\n",
    "===================================================================\n",
    "\n",
    "**Sample Input:**\\\n",
    "\"Python programming is fun\"\n",
    "\n",
    "**Sample Output:**\\\n",
    "{'p': 2, 'y': 1, 't': 1, 'h': 1, 'o': 2, 'n': 3, 'r': 2, 'g': 2, 'a': 1, 'm': 2, 'i': 2, 's': 1, 'f': 1, 'u': 1}\n",
    "\n",
    "===================================================================\n",
    "\n"
   ]
  },
  {
   "cell_type": "code",
   "execution_count": 119,
   "metadata": {
    "id": "-m2yPIT7tDS3"
   },
   "outputs": [
    {
     "name": "stdout",
     "output_type": "stream",
     "text": [
      "\"Python programming is fun\"\n",
      "{'p': 2, 'y': 1, 't': 1, 'h': 1, 'o': 2, 'n': 3, 'r': 2, 'g': 2, 'a': 1, 'm': 2, 'i': 2, 's': 1, 'f': 1, 'u': 1}\n"
     ]
    }
   ],
   "source": [
    "#to do\n",
    "str_1 = input()[1:-1].lower().replace(\" \", \"\")\n",
    "\n",
    "dict_1 = {}\n",
    "for i in str_1:\n",
    "    if i in dict_1:\n",
    "        dict_1[i]+= 1\n",
    "    else:\n",
    "        dict_1[i]= 1\n",
    "print(dict_1)   "
   ]
  },
  {
   "cell_type": "markdown",
   "metadata": {
    "id": "QWf1zsBctDS6"
   },
   "source": [
    "### Task 14\n",
    "Suppose you are given the following dictionary where the values are lists. \n",
    "\n",
    "dict = {'A': [1, 2, 3], 'b': ['1', '2'], \"c\": [4, 5, 6, 7]}\n",
    "\n",
    "Write a Python program that counts the total number of items in a dictionary’s values and prints it. <font color='red'>[without using sum(), len(), count() functions]</font> \n",
    "\n",
    "**Note:**  Make changes to the above dictionary and see if your code works properly for other dictionaries as well.\n",
    "\n",
    "===================================================================\n",
    "\n",
    "**Output:**\n",
    "\n",
    "9\n",
    "\n",
    "===================================================================\n",
    "\n"
   ]
  },
  {
   "cell_type": "code",
   "execution_count": 8,
   "metadata": {
    "id": "atnD3A1utDS6"
   },
   "outputs": [
    {
     "name": "stdout",
     "output_type": "stream",
     "text": [
      "9\n"
     ]
    }
   ],
   "source": [
    "#to do\n",
    "dict_1 = {'A': [1, 2, 3], 'b': ['1', '2'], \"c\": [4, 5, 6, 7]}\n",
    "\n",
    "counter = 0\n",
    "for i in dict_1.values():\n",
    "    for j in i:\n",
    "        counter+=1\n",
    "print(counter)        "
   ]
  },
  {
   "cell_type": "markdown",
   "metadata": {
    "id": "-imuPb3EtDTD"
   },
   "source": [
    "### Task 15\n",
    "\n",
    "Suppose you have been given the following list of tuples. \n",
    "\n",
    "list = [(\"a\", 1), (\"b\", 2), (\"a\", 3), (\"b\", 1), (\"a\", 2), (\"c\", 1)]\n",
    "\n",
    "Write a Python program that converts this list of tuples into a dictionary and then prints the dictionary. <font color='red'>[You are not allowed to use set]</font> \n",
    "\n",
    "\n",
    "**Hint:** Think of membership operators (in and not in).\n",
    "\n",
    "===================================================================\n",
    "\n",
    "**Output:**\n",
    "\n",
    "{'a': [1, 3, 2], 'b': [2, 1], 'c': [1]}\n",
    "\n",
    " ===================================================================\n"
   ]
  },
  {
   "cell_type": "code",
   "execution_count": 76,
   "metadata": {
    "id": "bBBcHpgYtDTE"
   },
   "outputs": [
    {
     "name": "stdout",
     "output_type": "stream",
     "text": [
      "{'a': [1, 3, 2], 'b': [2, 1], 'c': [1]}\n"
     ]
    }
   ],
   "source": [
    "#todo\n",
    "list_1 = [(\"a\", 1), (\"b\", 2), (\"a\", 3), (\"b\", 1), (\"a\", 2), (\"c\", 1)]\n",
    "dict_1 = {}\n",
    "for i in list_1:\n",
    "    key = i[0]\n",
    "    value = i[1]\n",
    "    if key in dict_1:      \n",
    "        dict_1[key].append(value)\n",
    "    else:\n",
    "        value_list =[]\n",
    "        value_list.append(value)\n",
    "        dict_1[key] = value_list\n",
    "print(dict_1)"
   ]
  },
  {
   "cell_type": "markdown",
   "metadata": {
    "id": "UrxbFOWk5ASO"
   },
   "source": [
    "## Optional Tasks (16-20) [Ungraded]"
   ]
  },
  {
   "cell_type": "markdown",
   "metadata": {
    "id": "vtQRbX994-Se"
   },
   "source": [
    "### Task 16\n",
    "\n",
    "Given a list of tuples, your task is to multiply the elements of the tuple and return a list of multiplied elements as shown below.\n",
    "\n",
    "===================================================================\n",
    "\n",
    "**Example 1:**\n",
    "\n",
    "Given: \n",
    "\n",
    "[(2, 3), (4, 5), (6, 7), (2, 8)]\n",
    "\n",
    "**Output:**\n",
    "\n",
    "[6, 20, 42, 16]\n",
    "\n",
    "===================================================================\n",
    "\n",
    "**Example 2:**\n",
    "\n",
    "Given:\n",
    "\n",
    " [(11, 22), (33, 55), (55, 77), (11, 44)]\n",
    "\n",
    "**Output:**\n",
    "\n",
    "[242, 1815, 4235, 484]\n",
    "\n",
    "==================================================================="
   ]
  },
  {
   "cell_type": "code",
   "execution_count": 11,
   "metadata": {
    "id": "xy-E_k6y5maj"
   },
   "outputs": [
    {
     "name": "stdout",
     "output_type": "stream",
     "text": [
      "[6, 20, 42, 16]\n",
      "[242, 1815, 4235, 484]\n"
     ]
    }
   ],
   "source": [
    "#to do\n",
    "list_1 = [(2, 3), (4, 5), (6, 7), (2, 8)]\n",
    "list_2 = []\n",
    "\n",
    "for i in list_1:\n",
    "    list_2.append((i[0]*i[1]))\n",
    "print(list_2)\n",
    "\n",
    "list_1 = [(11, 22), (33, 55), (55, 77), (11, 44)]\n",
    "list_2 = []\n",
    "\n",
    "for i in list_1:\n",
    "    list_2.append((i[0]*i[1]))\n",
    "print(list_2)"
   ]
  },
  {
   "cell_type": "markdown",
   "metadata": {
    "id": "jZQHbegc-QBA"
   },
   "source": [
    "### Task 17\n",
    "\n",
    "Assume, you have been given a tuple as below.\n",
    "\n",
    "a_tuple = ( [1, 2, 3], [4, 5, 6], [7, 8, 9], [10, 11, 12])\n",
    "\n",
    "Write a Python program that asks the user for an input (can be any data type) and **replaces the last element of each of the inner lists with the user given value.**\n",
    "\n",
    "===================================================================\n",
    "\n",
    "**Sample Input 1:**\n",
    "\n",
    "abc\n",
    "\n",
    "**Sample Output 1:** \n",
    "\n",
    "([1, 2, 'abc'], [4, 5, 'abc'], [7, 8, 'abc'], [10, 11, 'abc'])\n",
    "\n",
    "===================================================================\n",
    "\n",
    "**Sample Input 1:**\n",
    "\n",
    "1000\n",
    "\n",
    "**Sample Output 1:** \n",
    "\n",
    "([1, 2, '1000'], [4, 5, '1000'], [7, 8, '1000'], [10, 11, '1000'])\n",
    "\n",
    "==================================================================="
   ]
  },
  {
   "cell_type": "code",
   "execution_count": 30,
   "metadata": {
    "id": "SjdnEjCz5op1"
   },
   "outputs": [
    {
     "name": "stdout",
     "output_type": "stream",
     "text": [
      "1000\n",
      "([1, 2, '1000'], [4, 5, '1000'], [7, 8, '1000'], [10, 11, '1000'])\n"
     ]
    }
   ],
   "source": [
    "#to do\n",
    "a_tuple = ( [1, 2, 3], [4, 5, 6], [7, 8, 9], [10, 11, 12])\n",
    "str_1 = input()\n",
    "for i in range(len(a_tuple)):\n",
    "    (a_tuple[i][len(a_tuple[0])-1]) = str_1\n",
    "print(a_tuple)"
   ]
  },
  {
   "cell_type": "markdown",
   "metadata": {
    "id": "dVZrZ8Od6WwM"
   },
   "source": [
    "### Task 18\n",
    "\n",
    "Suppose there is a dictionary named my_dictionary.\n",
    "\n",
    "my_dictionary = {'c1':'Red', 'c2':'Green', 'c3':None, 'd4':'Blue', 'a5':None}.\n",
    "\n",
    "Now write a Python program to remove empty items from the dictionary. [Empty items means keys without any values (None)].\n",
    "\n",
    "===================================================================\n",
    "\n",
    "**Output:**\n",
    "\n",
    "{'c1':'Red', 'c2':'Green', 'd4':'Blue'}\n",
    "\n",
    "==================================================================="
   ]
  },
  {
   "cell_type": "code",
   "execution_count": 49,
   "metadata": {
    "id": "cK9Nh7-F6YUE"
   },
   "outputs": [
    {
     "name": "stdout",
     "output_type": "stream",
     "text": [
      "{'c1': 'Red', 'c2': 'Green', 'd4': 'Blue'}\n"
     ]
    }
   ],
   "source": [
    "#to do\n",
    "my_dictionary = {'c1':'Red', 'c2':'Green', 'c3':None, 'd4':'Blue', 'a5':None}\n",
    "dict_1 = {}\n",
    "for i,j in my_dictionary.items():\n",
    "    if j == None:\n",
    "        continue\n",
    "    else:\n",
    "        dict_1[i] = j\n",
    "print(dict_1)        "
   ]
  },
  {
   "cell_type": "markdown",
   "metadata": {
    "id": "_W2bOMJn62xF"
   },
   "source": [
    "### Task 19\n",
    "\n",
    "Suppose you are given a dictionary as shown below. Write a Python program that takes two inputs from the user representing the lower (inclusive) and upper (exclusive) of a range of values. Your task is to extract all the items from the dictionary whose values lie in the range given as input by the user.\n",
    "\n",
    "dictionary = {'a' : 6, 'b' : 7, 'c' : 9, 'd' : 8, 'e' : 11, 'f' : 12, 'g' : 13}\n",
    "\n",
    "===================================================================\n",
    "\n",
    "**Sample Input 1:**\n",
    "\n",
    "9, 11\n",
    "\n",
    "**Sample Output 1:**\n",
    "\n",
    "{'c': 9, 'e': 11}\n",
    "\n",
    "**Explanation:**  Keys with values within the range of 9 and 11 are extracted.\n",
    "\n",
    "===================================================================\n",
    "\n",
    "**Sample Input 2:** \n",
    "\n",
    "14, 18\n",
    "\n",
    "**Sample Output 2 :**\n",
    "\n",
    "{}\n",
    "\n",
    "**Explanation:**  No values in range.\n",
    "\n",
    "==================================================================="
   ]
  },
  {
   "cell_type": "code",
   "execution_count": 6,
   "metadata": {
    "id": "MLh9VlLD633D"
   },
   "outputs": [
    {
     "name": "stdout",
     "output_type": "stream",
     "text": [
      "14, 18\n",
      "{}\n"
     ]
    }
   ],
   "source": [
    "#to do\n",
    "dictionary_1 = {'a' : 6, 'b' : 7, 'c' : 9, 'd' : 8, 'e' : 11, 'f' : 12, 'g' : 13}\n",
    "list_1 = input().split(\", \")\n",
    "dict_2 = {}\n",
    "\n",
    "for k,v in dictionary_1.items():\n",
    "    for i in list_1:\n",
    "        if int(i) == v:\n",
    "            dict_2[k] = v \n",
    "\n",
    "print(dict_2)            "
   ]
  },
  {
   "cell_type": "markdown",
   "metadata": {
    "id": "zC94TVcD7LqM"
   },
   "source": [
    "### Task 20\n",
    "\n",
    "Given a list of tuples, your task is to group the tuples based on the **second** element in the tuples as shown in the examples below. We can achieve this using **dictionary** by checking the second element in each tuple.\n",
    "\n",
    "[You do not need to take tuple as input and can assume that it is given as below]\n",
    "\n",
    "===================================================================\n",
    "\n",
    "**Example 1:**\n",
    "\n",
    "Given:\n",
    "\n",
    "[(20, 80), (31, 80), (1, 22), (88, 11), (27, 11)]\n",
    "\n",
    "**Output:**\n",
    "\n",
    "{80: [(20, 80), (31, 80)],\\\n",
    "         11: [(88, 11), (27, 11)],\\\n",
    "         22: [(1, 22)]}\n",
    "       \n",
    "===================================================================\n",
    "\n",
    "**Example 2:**\n",
    "\n",
    "Given:\n",
    "\n",
    "[(20, 'Sad'), (31, 'Sad'), (88, 'NotSad'), (27, 'NotSad')]\n",
    "\n",
    "**Output:**\n",
    "\n",
    "{'NotSad': [(88, 'NotSad'), (27, 'NotSad')],\\\n",
    "         'Sad: [(20, 'Sad'), (31, 'Sad')]}\n",
    "\n",
    "==================================================================="
   ]
  },
  {
   "cell_type": "code",
   "execution_count": 38,
   "metadata": {
    "id": "zAunp7oZ7H-l"
   },
   "outputs": [
    {
     "name": "stdout",
     "output_type": "stream",
     "text": [
      "{'Sad': [(20, 'Sad'), (31, 'Sad')], 'NotSad': [(88, 'NotSad'), (27, 'NotSad')]}\n",
      "{Sad: [(20, 'Sad'), (31, 'Sad')],\n",
      "NotSad: [(88, 'NotSad'), (27, 'NotSad')]}\n"
     ]
    }
   ],
   "source": [
    "#to do\n",
    "list_1 = [(20, 'Sad'), (31, 'Sad'), (88, 'NotSad'), (27, 'NotSad')]\n",
    "dict_1 = {}\n",
    "\n",
    "for i in range (len(list_1)):\n",
    "    if list_1[i][1] in dict_1:\n",
    "        dict_1[list_1[i][1]].append(list_1[i])\n",
    "    else:\n",
    "        list_2 = []\n",
    "        list_2.append(list_1[i])\n",
    "        dict_1[list_1[i][1]] = list_2\n",
    "print(dict_1)  \n",
    "\n",
    "print(\"{\", end = \"\")\n",
    "counter = 0\n",
    "for i,j in dict_1.items():\n",
    "    if counter!= (len(dict_1)-1):\n",
    "        print(i, \": \",j, \",\", sep = \"\")\n",
    "    else:\n",
    "        print(i, \": \",j, \"}\", sep = \"\")\n",
    "    counter+= 1    "
   ]
  },
  {
   "cell_type": "raw",
   "metadata": {},
   "source": []
  },
  {
   "cell_type": "code",
   "execution_count": 1,
   "metadata": {},
   "outputs": [
    {
     "name": "stdout",
     "output_type": "stream",
     "text": [
      "2\n",
      "0\n",
      "-1\n",
      "-5\n",
      "-11\n",
      "-22\n",
      "-40\n",
      "-70\n",
      "-119\n",
      "[]\n",
      "[0, 2, 0, -1, -5, -11, -22, -40, -70, -119]\n"
     ]
    }
   ],
   "source": [
    "#Task 19\n",
    "myList = [0, 0, 0, 0, 0, 0, 0, 0, 0, 0]\n",
    "b = []\n",
    "\n",
    "index2 = 1\n",
    "index1 = 1\n",
    "\n",
    "while (index1 < 10):\n",
    "    myList[index1] = index1 + 1\n",
    "    while (index2 < index1):\n",
    "        myList[index1] = myList[index2-1] + myList[index2] - index1\n",
    "        index2 = index2 + 1\n",
    "    print(myList[index1])\n",
    "    index1 = index1 + 1\n",
    "print(b)    \n",
    "print(myList)\n",
    "# [0, 2, 0, -1, -5, -11, -22, -40, -70, -119]\n",
    "# [0, 2, 0, -1, -5, -11, -22, -40, -70, -119]\n",
    "# [0, 2, 0, -1, -5, -11, -22, -40, -70, -119]\n",
    "# [0, 2, 0, -1, -5, -11, -22, -40, -70, -119]\n",
    "# [0, 2, 0, -1, -5, -11, -22, -40, -70, -119]"
   ]
  },
  {
   "cell_type": "code",
   "execution_count": 9,
   "metadata": {},
   "outputs": [
    {
     "name": "stdout",
     "output_type": "stream",
     "text": [
      "5\n",
      "9\n",
      "15\n",
      "25\n",
      "43\n",
      "77\n",
      "143\n",
      "273\n",
      "531\n"
     ]
    }
   ],
   "source": [
    "#TASK 16\n",
    "myList = [0, 0, 0, 0, 0, 0, 0, 0, 0, 0]\n",
    "index1 = 0\n",
    "index2 = 0\n",
    "index1 = 1\n",
    "while(index1<10):\n",
    "    myList[index1] = index1+4\n",
    "    index2 = 1\n",
    "    while(index2<index1):\n",
    "        myList[index1] = myList[index1] + myList[index2]-index1\n",
    "        index2 = index2+1\n",
    "    print(myList[index1])\n",
    "    index1 = index1+1\n",
    "\n",
    "# 5\n",
    "# 9\n",
    "# 15\n",
    "# 25\n",
    "# 43\n",
    "# 77\n",
    "# 143\n",
    "# 273\n",
    "# 531"
   ]
  },
  {
   "cell_type": "code",
   "execution_count": 1,
   "metadata": {},
   "outputs": [
    {
     "name": "stdout",
     "output_type": "stream",
     "text": [
      "3\n",
      "5\n",
      "7\n",
      "9\n",
      "11\n",
      "13\n",
      "15\n",
      "17\n",
      "19\n"
     ]
    }
   ],
   "source": [
    "#TASK 18\n",
    "myList = [0, 0, 0, 0, 0, 0, 0, 0, 0, 0]\n",
    "b = []\n",
    "index1 = 0\n",
    "index2 = 0\n",
    "index1 = 1\n",
    "b = myList\n",
    "while(index1<10):\n",
    "    myList[index1] = index1+2\n",
    "    index2 = 1\n",
    "    while(index2<index1):\n",
    "        myList[index1] = b[index1]+myList[index2]-index1\n",
    "        index2 = index2+1\n",
    "    print(myList[index1])\n",
    "    index1 = index1+1\n",
    "\n"
   ]
  },
  {
   "cell_type": "code",
   "execution_count": 1,
   "metadata": {},
   "outputs": [
    {
     "name": "stdout",
     "output_type": "stream",
     "text": [
      "2\n",
      "0\n",
      "-1\n",
      "-5\n",
      "-11\n",
      "-22\n",
      "-40\n",
      "-70\n",
      "-119\n"
     ]
    }
   ],
   "source": [
    "#TASK 19\n",
    "myList = [0, 0, 0, 0, 0, 0, 0, 0, 0, 0]\n",
    "b = []\n",
    "index1 = 0\n",
    "index2 = 0\n",
    "index1 = 1\n",
    "b = myList\n",
    "while (index1 < 10):\n",
    "    myList[index1] = index1 + 1\n",
    "    index2 = 1\n",
    "    while (index2 < index1):\n",
    "        myList[index1] = b[index2-1] + myList[index2] - index1\n",
    "        index2 = index2 + 1 \n",
    "    print(myList[index1])\n",
    "    index1 = index1 + 1"
   ]
  },
  {
   "cell_type": "code",
   "execution_count": 2,
   "metadata": {},
   "outputs": [
    {
     "name": "stdout",
     "output_type": "stream",
     "text": [
      "5\n",
      "3\n",
      "-5\n",
      "-12\n",
      "-12\n",
      "-6\n",
      "-1\n",
      "-3\n",
      "-11\n"
     ]
    }
   ],
   "source": [
    "#TASK 17\n",
    "myList = [0, 0, 0, 0, 0, 0, 0, 0, 0, 0]\n",
    "index1 = 0\n",
    "index2 = 0\n",
    "index1 = 1\n",
    "while (index1 < 10):\n",
    "    myList[index1] = index1 + 4\n",
    "    index2 = 1\n",
    "    while (index2 < index1):\n",
    "        myList[index1] = myList[index1-1] - myList[index2-1] - index1\n",
    "        index2 = index2 + 1\n",
    "    print(myList[index1])\n",
    "    index1 = index1 + 1\n",
    "\n"
   ]
  },
  {
   "cell_type": "code",
   "execution_count": 5,
   "metadata": {},
   "outputs": [
    {
     "name": "stdout",
     "output_type": "stream",
     "text": [
      "True\n"
     ]
    }
   ],
   "source": [
    "var1 = var2 = var3 = var4 = var5 = var6 = False\n",
    "result1 = result2 = result3 = result4 = result5 = result6 = result7 = result8 = result9 = result10 = False\n",
    "var1 = 4 < 3 - 1\n",
    "var2 = var1 and False\n",
    "var3 = False\n",
    "var4 = True\n",
    "var5 = False\n",
    "var6 = var3 and True\n",
    "result1 = (var1 or var2) and (8 * 10 > 45)\n",
    "result2 = (var1 or var2) and (result1 and False)\n",
    "result3 = (var1 and result1) or result2\n",
    "result4 = (var1 or var2) or ((var3 and var1) and False)\n",
    "result5 = (var1 and var2) and (result3 or var1)\n",
    "result6 = ((var3 or var2) and not result5) or True\n",
    "result7 = (var4 and result1) and ((result1 and False) or True)\n",
    "result8 = ((var1 and result3) and (var5 or var6)) and True\n",
    "result9 = ((result2 and var2) or (result7 and var1)) and False\n",
    "result10 = not(var1 and True)\n",
    "print(result6)\n"
   ]
  },
  {
   "cell_type": "code",
   "execution_count": 8,
   "metadata": {},
   "outputs": [
    {
     "name": "stdout",
     "output_type": "stream",
     "text": [
      "5\n",
      "3\n",
      "-5\n",
      "-12\n",
      "-12\n",
      "-6\n",
      "-1\n",
      "-3\n",
      "-11\n"
     ]
    }
   ],
   "source": [
    "#Task 17\n",
    "myList = [0, 0, 0, 0, 0, 0, 0, 0, 0, 0]\n",
    "index1 = 0\n",
    "index2 = 0\n",
    "index1 = 1\n",
    "while (index1 < 10):\n",
    "    myList[index1] = index1 + 4\n",
    "    index2 = 1\n",
    "    while (index2 < index1):\n",
    "        myList[index1] = myList[index1-1] - myList[index2-1] - index1\n",
    "        index2 = index2 + 1\n",
    "    print(myList[index1])\n",
    "    index1 = index1 + 1\n",
    "\n"
   ]
  },
  {
   "cell_type": "raw",
   "metadata": {},
   "source": [
    "Task 25\n",
    "Write a python program that takes 2 inputs from the user.\n",
    "Input1: A string containing a single sentence or multiple sentences. Multiple sentences are separated by full stops.\n",
    "Input2: A list containing special characters.\n",
    "After taking the inputs, your task is to create a dictionary where the keys will be the corresponding special characters from the given list and the values will be the words in the given sentence.\n",
    "You need to find out which key belongs to which value. To do that, you should calculate the index number using the formula given below. The calculated index is the corresponding key of the word. Make sure no duplicate values are inserted.\n",
    "\n",
    "\n",
    "The formula: \n",
    "Index value of special character list = (ASCII sum of the word) % (length of special character list)\n",
    "========================================================================\n",
    "Sample Input 1:\n",
    "'I love Programming. Python is love.'\n",
    "['@', '$', '&', '#']\n",
    "Sample Output 1: \n",
    "Words in the given String: ['I', 'love', 'Programming', 'Python', 'is', 'love']\n",
    "Answer: {'$': ['I'], '&': ['love', 'Python'], '#': ['Programming'], '@': ['is']}\n",
    "Explanation 1: \n",
    "From the string 'I love Programming. Python is love.' the {key: value} pair is calculated accordingly:\n",
    "\n",
    "The calculation is shown in the given table. Full stops after ‘Programming.’ and ‘love.’ are avoided. Also, the last word ‘love’ is a duplicate, and therefore, it was not inserted again as a value.\n",
    "========================================================================\n",
    "Sample Input 2:\n",
    "'The secret of getting ahead is getting started.'\n",
    "['-', '=', '+', '*', '%']\n",
    "Sample Output 2: \n",
    "Words in the given String: ['The', 'secret', 'of', 'getting', 'ahead', 'is', 'getting', 'started']\n",
    "Answer: {'%': ['The', 'getting', 'ahead', 'started'], '=': ['secret'], '*': ['of'], '-': ['is']}\n",
    "Explanation 2: \n",
    "From the string 'The secret of getting ahead is getting started.' the {key: value} pair is calculated accordingly:\n",
    "\n",
    "The calculation is shown in the given table. Full stop after ‘started.’ is avoided. Also, the word ‘getting’ is a duplicate and therefore it was not inserted again as a value.\n",
    "========================================================================"
   ]
  },
  {
   "cell_type": "code",
   "execution_count": 32,
   "metadata": {
    "scrolled": true
   },
   "outputs": [
    {
     "name": "stdout",
     "output_type": "stream",
     "text": [
      "I love Programming. Python is love.\n",
      "['@', '$', '&', '#']\n",
      "{'$': ['I'], '&': ['love', 'Python', 'love'], '#': ['Programming'], '@': ['is']}\n"
     ]
    }
   ],
   "source": [
    "str_1= input()\n",
    "list_1= input()[1:-1].replace(\"'\", \"\").split(\", \")\n",
    "\n",
    "str_2= \"\"\n",
    "counter= 0\n",
    "dict_1= {}\n",
    "\n",
    "for i in str_1:\n",
    "    if i!= \" \" and i!= \".\":\n",
    "        counter+= ord(i)\n",
    "        str_2+=i\n",
    "    else:\n",
    "        for j in range(len(list_1)):           \n",
    "            if (counter%len(list_1))== j:\n",
    "                if str_2!= \"\":\n",
    "                    if list_1[j] not in dict_1:\n",
    "                        dict_1[list_1[j]]= [str_2]\n",
    "                    else:\n",
    "                        dict_1[list_1[j]].append(str_2)\n",
    "        str_2= \"\"   \n",
    "        counter= 0\n",
    "        \n",
    "print(dict_1)  "
   ]
  },
  {
   "cell_type": "code",
   "execution_count": 1,
   "metadata": {},
   "outputs": [
    {
     "name": "stdout",
     "output_type": "stream",
     "text": [
      "6\n",
      "14\n",
      "26\n",
      "42\n",
      "50\n"
     ]
    }
   ],
   "source": [
    "p = 1\n",
    "x = 3\n",
    "sum = 0\n",
    "q = 0.0\n",
    "while (p < 7):\n",
    "    q = p + x - (sum + int(11 / 4)) / 5.0 % 2\n",
    "    sum += x + int(q)\n",
    "    x += 1\n",
    "    print(sum)\n",
    "    if (x >= 5):\n",
    "        p += int(5 / 2)\n",
    "    else:\n",
    "        p += 3 % 2\n",
    "sum += p\n",
    "print(sum)"
   ]
  },
  {
   "cell_type": "code",
   "execution_count": 2,
   "metadata": {},
   "outputs": [
    {
     "name": "stdout",
     "output_type": "stream",
     "text": [
      "-->2-->13<--\n",
      "<--105-->2\n",
      "-->2-->11<--\n",
      "-->2-->11<--\n",
      "<---7<--->21-->\n"
     ]
    }
   ],
   "source": [
    "test = \"\"\n",
    "i = 10\n",
    "j = 0\n",
    "k = 15\n",
    "while (i <= 20):\n",
    "    k -= 2\n",
    "    j = k\n",
    "    while (j > 10 ):\n",
    "        if j % 2 == 0:\n",
    "            test = \"<--\"\n",
    "            test += str(i) + '5' + \"-->\" + str(j // 5)\n",
    "        else:\n",
    "            test = \"-->\"\n",
    "            test += str((i // 5)) + test + str(j) + \"<--\"\n",
    "        print(test)\n",
    "        j -= 1\n",
    "    i+=1\n",
    "test = \"<--\" + str(j) + \"<--->\" + str(i) + \"-->\"\n",
    "print(test)"
   ]
  }
 ],
 "metadata": {
  "colab": {
   "collapsed_sections": [],
   "name": "CSE110 Lab Assignment 5.ipynb",
   "provenance": []
  },
  "kernelspec": {
   "display_name": "Python 3 (ipykernel)",
   "language": "python",
   "name": "python3"
  },
  "language_info": {
   "codemirror_mode": {
    "name": "ipython",
    "version": 3
   },
   "file_extension": ".py",
   "mimetype": "text/x-python",
   "name": "python",
   "nbconvert_exporter": "python",
   "pygments_lexer": "ipython3",
   "version": "3.9.7"
  }
 },
 "nbformat": 4,
 "nbformat_minor": 1
}
