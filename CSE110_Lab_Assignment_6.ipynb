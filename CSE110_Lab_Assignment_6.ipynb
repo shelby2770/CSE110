{
 "cells": [
  {
   "cell_type": "raw",
   "id": "e998339f",
   "metadata": {},
   "source": [
    "TASK 1\n",
    "Write a function called even_checker that takes a number as an argument and prints whether the number is even or odd inside the function.\n",
    "===================================================================\n",
    "Example 1:\n",
    "Function Call:\n",
    "even_checker(5)\n",
    "Output:\n",
    "Odd!!\n",
    "===================================================================\n",
    "Example2: \n",
    "Function Call:\n",
    "even_checker(2)\n",
    "Output:\n",
    "Even!!"
   ]
  },
  {
   "cell_type": "code",
   "execution_count": 60,
   "id": "d019bc56",
   "metadata": {},
   "outputs": [
    {
     "name": "stdout",
     "output_type": "stream",
     "text": [
      "5\n",
      "Odd!!\n"
     ]
    }
   ],
   "source": [
    "def even_checker(num):\n",
    "    if num%2== 0:\n",
    "        print(\"Even!!\")\n",
    "    else:\n",
    "        print(\"Odd!!\")     \n",
    "        \n",
    "num= int(input())\n",
    "even_checker(num)"
   ]
  },
  {
   "cell_type": "raw",
   "id": "f80811e3",
   "metadata": {},
   "source": [
    "TASK 2\n",
    "Write a python function that takes the limit as an argument of the Fibonacci series and prints till that limit. \n",
    "===================================================================\n",
    "Function Call:\n",
    "fibonacci(10)\n",
    "Output:\n",
    "0 1 1 2 3 5 8\n",
    "===================================================================\n",
    "Function Call:\n",
    "fibonacci(5)\n",
    "Output:\n",
    "0 1 1 2 3 5 "
   ]
  },
  {
   "cell_type": "code",
   "execution_count": 1,
   "id": "180d4178",
   "metadata": {},
   "outputs": [
    {
     "name": "stdout",
     "output_type": "stream",
     "text": [
      "10\n",
      "0 1 1 2 3 5 8 "
     ]
    }
   ],
   "source": [
    "def fibonacci(num):    \n",
    "    a = 0\n",
    "    b = 1\n",
    "    while(a <= num):\n",
    "        print(a,end=\" \")\n",
    "        a,b = b,a + b\n",
    "num= int(input())        \n",
    "fibonacci(num)"
   ]
  },
  {
   "cell_type": "raw",
   "id": "255007f2",
   "metadata": {},
   "source": [
    "TASK 3\n",
    "Write a function called foo_moo that takes a number as an argument and returns the following statements according to the below mentioned conditions. Then, finally prints the statement in the function call. \n",
    "If the number is divisible by 2, it should return \"Foo\".\n",
    "If the number is divisible by 3, it should return \"Moo\". \n",
    "If the number is divisible by both 2 and 3, it should return \"FooMoo\".\n",
    "Otherwise, it returns \"Boo\".\n",
    "\n",
    "Example1: \n",
    "Function Call:\n",
    "foo_moo(5)\n",
    "Output:\n",
    "Boo\n",
    "===================================================================\n",
    "Example2: \n",
    "Function Call:\n",
    "foo_moo(4)\n",
    "Output:\n",
    "Foo\n",
    "===================================================================\n",
    "Example3: \n",
    "Function Call:\n",
    "foo_moo(6)\n",
    "Output:\n",
    "FooMoo"
   ]
  },
  {
   "cell_type": "code",
   "execution_count": 2,
   "id": "e7501e71",
   "metadata": {},
   "outputs": [
    {
     "name": "stdout",
     "output_type": "stream",
     "text": [
      "6\n",
      "FooMoo\n"
     ]
    }
   ],
   "source": [
    "def foo_moo(num_1):\n",
    "    result = \"\"\n",
    "    if num_1%2== 0 and num_1%3!= 0:\n",
    "        result = \"Foo\"\n",
    "    elif num_1%3== 0 and num_1%2!= 0:\n",
    "        result = \"Moo\"\n",
    "    elif num_1%2== 0 and num_1%3== 0:\n",
    "        result = \"FooMoo\"\n",
    "    else:\n",
    "        result = \"Boo\"\n",
    "    return result\n",
    "num_1 = int(input())\n",
    "print(foo_moo(num_1))  "
   ]
  },
  {
   "cell_type": "raw",
   "id": "065b107e",
   "metadata": {},
   "source": [
    "TASK 4\n",
    "Write a python function that takes a string as an argument. Your task is to calculate the number of uppercase letters and lowercase letters and print them in the function. \n",
    "===================================================================\n",
    "Function Call:\n",
    "function_name('The quick Sand Man')\n",
    "Output:\n",
    "No. of Uppercase characters : 3\n",
    "No. of Lowercase Characters: 12\n",
    "===================================================================\n",
    "Function Call:\n",
    "function_name('HaRRy PotteR')\n",
    "Output:\n",
    "No. of Uppercase characters : 5\n",
    "No. of Lowercase Characters: 6"
   ]
  },
  {
   "cell_type": "code",
   "execution_count": 66,
   "id": "a5a9af2f",
   "metadata": {},
   "outputs": [
    {
     "name": "stdout",
     "output_type": "stream",
     "text": [
      "'The quick Sand Man'\n",
      "No. of Uppercase characters :  3\n",
      "No. of Lowercase characters:  12\n"
     ]
    }
   ],
   "source": [
    "def function_name(str_1):\n",
    "    counter_1 = 0\n",
    "    counter_2 = 0\n",
    "\n",
    "    for i in str_1:\n",
    "        if 65<=ord(i)<=90:\n",
    "#       if (i.isupper()) == True:\n",
    "            counter_1+= 1\n",
    "        elif 97<=ord(i)<=122:\n",
    "#         elif (i.islower()) == True:\n",
    "            counter_2+= 1\n",
    "    print(\"No. of Uppercase characters : \", counter_1)\n",
    "    print(\"No. of Lowercase characters: \", counter_2)\n",
    "str_1 = input()    \n",
    "function_name(str_1)"
   ]
  },
  {
   "cell_type": "raw",
   "id": "8951d0fd",
   "metadata": {},
   "source": [
    "Task 5\n",
    "Write a function called calculate_tax that takes 3 arguments: your age, salary, and current job designation.\n",
    "Your first task is to take these arguments as user input and pass these values to the function.\n",
    "Your second task is to implement the function and calculate the tax as the following conditions:\n",
    "NO TAX IF YOU ARE LESS THAN 18 YEARS OLD.\n",
    "NO TAX IF YOU ARE THE PRESIDENT OF THE COMPANY \n",
    "No tax if you get paid less than 10,000\n",
    "5% tax if you get paid between 10K and 20K\n",
    "10% tax if you get paid more than 20K\n",
    "Finally return this tax value. Then print the returned value in the function call.\n",
    "\n",
    "Hints:\n",
    "Here the job designation is a string, so it can be written in both uppercase and lower cases. So, you need to check the value ignoring the case.\n",
    "===================================================================\n",
    "Example1: \n",
    "Input:\n",
    "16\n",
    "20000\n",
    "Student\n",
    "Function Call:\n",
    "calculate_tax(16, 20000, 'Student')\n",
    "Output:\n",
    "0\n",
    "===================================================================\n",
    "Example2: \n",
    "Input:\n",
    "20\n",
    "18000\n",
    "assistant manager\n",
    "Function Call:\n",
    "calculate_tax(20, 18000, 'assistant manager')\n",
    "Output:\n",
    "900.0\n",
    "===================================================================\n",
    "Example3: \n",
    "Input:\n",
    "20\n",
    "22000\n",
    "assistant manager\n",
    "Function Call:\n",
    "calculate_tax(20, 22000, 'Assistant manager')\n",
    "Output:\n",
    "2200.0\n",
    "===================================================================\n",
    "Example4: \n",
    "Input:\n",
    "20\n",
    "122000\n",
    "president\n",
    "Function Call:\n",
    "calculate_tax(20, 122000, 'president')\n",
    "Output:\n",
    "0"
   ]
  },
  {
   "cell_type": "code",
   "execution_count": 43,
   "id": "b3ca33ff",
   "metadata": {},
   "outputs": [
    {
     "name": "stdout",
     "output_type": "stream",
     "text": [
      "20\n",
      "122000\n",
      "president\n",
      "0\n"
     ]
    }
   ],
   "source": [
    "def calculate_tax(age, salary, current_job):\n",
    "    result = 0\n",
    "    if age<18 or salary<10000 or current_job == \"president\":\n",
    "        result = 0\n",
    "    elif 10000<=salary<=20000:\n",
    "        result = (salary*5)/100\n",
    "    elif salary>20000:\n",
    "        result = (salary*10)/100\n",
    "    return result    \n",
    "\n",
    "age = int(input())\n",
    "salary = int(input())\n",
    "current_job = input().lower()\n",
    "print(calculate_tax(age, salary, current_job))"
   ]
  },
  {
   "cell_type": "raw",
   "id": "6c373dfa",
   "metadata": {},
   "source": [
    "TASK 6\n",
    "Write a function which will take 1 argument, number of days.\n",
    "Your first task is to take the number of days as user input and pass the value to the function.\n",
    "Your second task is to implement the function and calculate the total number of years, number of months, and the remaining number of days as output. No need to return any value, print inside the function. \n",
    "\n",
    "Note: Assume, each year to be 365 days and month to be 30 days.\n",
    "Hint(1): Divide and mod the main input to get the desired output.\n",
    "Hint(2): This task’s calculation is similar to Assignment-1’s seconds to hours, minutes conversion.\n",
    "\n",
    "Example01\n",
    "Input:\n",
    "4330\n",
    "Function Call:\n",
    "function_name(4330)\n",
    "Output:\n",
    "11 years, 10 months and 15 days\n",
    "===================================================================\n",
    "Example02\n",
    "Input:\n",
    "2250\n",
    "Function Call:\n",
    "function_name(2250)\n",
    "Output:\n",
    "6 years, 2 months and 0 days"
   ]
  },
  {
   "cell_type": "code",
   "execution_count": 42,
   "id": "3567c0aa",
   "metadata": {},
   "outputs": [
    {
     "name": "stdout",
     "output_type": "stream",
     "text": [
      "Number of days: 2250\n",
      "6 years, 2 months and 0 days\n"
     ]
    }
   ],
   "source": [
    "def function_name(days):\n",
    "    years= days//365                   \n",
    "    days= days%365    \n",
    "    months= days//30  \n",
    "    days= days%30\n",
    "    print(years, \"years,\", months, \"months and\", days, \"days\")\n",
    "    \n",
    "days= int(input(\"Number of days: \"))   \n",
    "function_name(days)         "
   ]
  },
  {
   "cell_type": "raw",
   "id": "747706ea",
   "metadata": {},
   "source": [
    "Task 7\n",
    "Write a function called show_palindrome that takes a number as an argument and then returns a palindrome string. Finally, prints the returned value in the function call.\n",
    "\n",
    "Example1: \n",
    "Function Call:\n",
    "show_palindrome(5)\n",
    "Output:\n",
    "123454321\n",
    "===================================================================\n",
    "Example2: \n",
    "Function Call:\n",
    "show_palindrome(3)\n",
    "Output:\n",
    "12321"
   ]
  },
  {
   "cell_type": "code",
   "execution_count": 3,
   "id": "ba42b618",
   "metadata": {},
   "outputs": [
    {
     "name": "stdout",
     "output_type": "stream",
     "text": [
      "5\n",
      "123454321\n"
     ]
    }
   ],
   "source": [
    "def show_palindrome(num_1):\n",
    "    result_1 = \"\"\n",
    "    for i in range(1, num_1):\n",
    "        result_1 += str(i)\n",
    "    for i in range(num_1, 0, -1):\n",
    "        result_1 += str(i)\n",
    "    return result_1\n",
    "\n",
    "num_1 = int(input())\n",
    "print(show_palindrome(num_1))"
   ]
  },
  {
   "cell_type": "raw",
   "id": "2f3bbb8e",
   "metadata": {},
   "source": [
    "Task 8\n",
    "Write a function called show_palindromic_triangle that takes a number as an argument and prints a Palindromic Triangle in the function.\n",
    "[Must reuse the show_palindrome() function of the previous task]\n",
    "===================================================================\n",
    "Hints(1): \n",
    "Need to use both print() and print( , end = \" \") functions\n",
    "===================================================================\n",
    "Example1: \n",
    "Function Call:\n",
    "show_palindromic_triangle(5)\n",
    "Output:\n",
    "         1\n",
    "      1  2  1 \n",
    "    1  2  3  2  1 \n",
    "  1  2  3  4  3  2  1 \n",
    "1  2  3  4  5  4  3  2  1\n",
    "===================================================================\n",
    "Example2: \n",
    "Function Call:\n",
    "show_palindromic_triangle(3)\n",
    "Output:\n",
    "      1 \n",
    "   1  2  1 \n",
    "1  2  3  2  1"
   ]
  },
  {
   "cell_type": "code",
   "execution_count": 45,
   "id": "b9a38118",
   "metadata": {},
   "outputs": [
    {
     "name": "stdout",
     "output_type": "stream",
     "text": [
      "5\n",
      "        1 \n",
      "      1 2 1 \n",
      "    1 2 3 2 1 \n",
      "  1 2 3 4 3 2 1 \n",
      "1 2 3 4 5 4 3 2 1 \n",
      "8\n",
      "              1 \n",
      "            1 2 1 \n",
      "          1 2 3 2 1 \n",
      "        1 2 3 4 3 2 1 \n",
      "      1 2 3 4 5 4 3 2 1 \n",
      "    1 2 3 4 5 6 5 4 3 2 1 \n",
      "  1 2 3 4 5 6 7 6 5 4 3 2 1 \n",
      "1 2 3 4 5 6 7 8 7 6 5 4 3 2 1 \n"
     ]
    }
   ],
   "source": [
    "#type-1\n",
    "def show_palindromic_triangle(num_1):\n",
    "    for i in range(1,num_1+1):\n",
    "        for j in range(num_1-i):\n",
    "            print(\" \", end= \" \")\n",
    "            \n",
    "        def show_palindrome(num_1):\n",
    "            for i in range(num_1):\n",
    "                print(i+1, end= \" \")\n",
    "            for i in range(num_1,1,-1):\n",
    "                print(i-1, end= \" \")\n",
    "        show_palindrome(i)\n",
    "        print()\n",
    "num_1= int(input())        \n",
    "show_palindromic_triangle(num_1)    \n",
    "\n",
    "#type-2\n",
    "def show_palindrome(num_1):\n",
    "    result_1 = \"\"\n",
    "    for i in range(1, num_1):\n",
    "        result_1 += str(i)+ \" \"\n",
    "    for i in range(num_1, 0, -1):\n",
    "        result_1 += str(i)+ \" \"\n",
    "    return result_1\n",
    "\n",
    "def show_palindrome_triangle(num_1):\n",
    "    str_1= show_palindrome(num_1)\n",
    "    str_2= \"\"\n",
    "    str_3= \"\"\n",
    "    str_4= \"\"\n",
    "    str_5= \"\"\n",
    "    seen= []\n",
    "    counter= 0\n",
    "    for i in str_1:\n",
    "        if i== \" \":\n",
    "            counter+= 1\n",
    "    for i in str_1:\n",
    "        if i== \" \":\n",
    "            if str_4 in seen:\n",
    "                break\n",
    "            else:\n",
    "                seen.append(str_4)\n",
    "                str_3= str_4+ \" \"+ str_3\n",
    "                str_5= str_3[2:].lstrip()\n",
    "                str_4= \"\"\n",
    "                str_2+= i\n",
    "                print(\" \"*(counter-1)+ str_2+ str_5)\n",
    "                counter-= 2\n",
    "        else:\n",
    "            str_2+= i\n",
    "            str_4+= i\n",
    "num_1= int(input())\n",
    "show_palindrome_triangle(num_1)"
   ]
  },
  {
   "cell_type": "raw",
   "id": "09e7d2d5",
   "metadata": {},
   "source": [
    "Task 9\n",
    "Write a function called area_circumference_generator that takes a radius of a circle as a function parameter and calculates its circumference and area. Then returns these two results as a tuple and prints the results using tuple unpacking in the function call according to the given format. \n",
    "[Must use tuple packing & unpacking] \n",
    "===================================================================\n",
    "Example1: \n",
    "Function Call:\n",
    "area_circumference_generator(1)\n",
    "Output:\n",
    "(3.141592653589793, 6.283185307179586)\n",
    "Area of the circle is 3.141592653589793 and circumference is 6.283185307179586\n",
    "\n",
    "Example2: \n",
    "Function Call:\n",
    "area_circumference_generator(1.5)\n",
    "Output:\n",
    "(7.0685834705770345, 9.42477796076938)\n",
    "Area of the circle is 7.0685834705770345 and circumference is 9.42477796076938\n",
    "===================================================================\n",
    "Example3: \n",
    "Function Call:\n",
    "area_circumference_generator(2.5)\n",
    "Output:\n",
    "(19.634954084936208, 15.707963267948966)\n",
    "Area of the circle is 19.634954084936208 and circumference is 15.707963267948966\n"
   ]
  },
  {
   "cell_type": "code",
   "execution_count": 1,
   "id": "50bc3e62",
   "metadata": {},
   "outputs": [
    {
     "name": "stdout",
     "output_type": "stream",
     "text": [
      "Enter radius of circle: 555\n",
      "(967689.077121996, 3487.1678454846706)\n",
      "Area of the circle is 967689.077121996 and circumference is 3487.1678454846706\n"
     ]
    }
   ],
   "source": [
    "import math\n",
    "\n",
    "def area_circumference_generator(radius):\n",
    "    tuple_1 = ()\n",
    "    area = math.pi*radius**2\n",
    "    perimeter = 2*math.pi*radius\n",
    "#     tuple_1= area, perimeter\n",
    "    return area, perimeter\n",
    "\n",
    "radius = float(input(\"Enter radius of circle: \"))\n",
    "area, perimeter= area_circumference_generator(radius)\n",
    "print(area_circumference_generator(radius))\n",
    "print(\"Area of the circle is\", area, \"and circumference is\", perimeter)"
   ]
  },
  {
   "cell_type": "raw",
   "id": "c32bea50",
   "metadata": {},
   "source": [
    "Task 10\n",
    "Write a function called make_square that takes a tuple in the parameter as a range of numbers (starting point and ending point (included)). The function should return a dictionary with the numbers as keys and its squares as values.\n",
    "===================================================================\n",
    "Hints: \n",
    "You need to declare a dictionary to store the result. You should use the range function to run the “for loop”.\n",
    "===================================================================\n",
    "Example1: \n",
    "Function Call:\n",
    "make_square((1,3))\n",
    "Output:\n",
    "{1: 1, 2: 4, 3: 9}\n",
    "===================================================================\n",
    "Example2: \n",
    "Function Call:\n",
    "make_square((5,9))\n",
    "Output:\n",
    "{5: 25, 6: 36, 7: 49, 8: 64, 9: 81}"
   ]
  },
  {
   "cell_type": "code",
   "execution_count": 30,
   "id": "6c609691",
   "metadata": {},
   "outputs": [
    {
     "name": "stdout",
     "output_type": "stream",
     "text": [
      "(1,3)\n",
      "{1: 1, 2: 4, 3: 9}\n"
     ]
    }
   ],
   "source": [
    "def make_square(tuple_1):\n",
    "    dict_1 = {}\n",
    "    for i in range(int(tuple_1[0]), int(tuple_1[1])+1):\n",
    "        dict_1[i] = int(i)**2\n",
    "    return dict_1\n",
    "\n",
    "tuple_1 = tuple((input())[1:-1].split(\",\"))\n",
    "print(make_square(tuple_1))"
   ]
  },
  {
   "cell_type": "raw",
   "id": "734b2450",
   "metadata": {},
   "source": [
    "Task 11\n",
    "Write a function called rem_duplicate that takes a tuple in the parameter and return a tuple removing all the duplicate values. Then print the returned tuple in the function call.\n",
    "[Cannot use remove() or removed() for this task] \n",
    "===================================================================\n",
    "Hints: \n",
    "Unlike lists, tuples are immutable, so the tuple taken as an argument cannot be modified. But the list can be modified and lastly for returning the result use type conversion. You need to use membership operators (in, not in) for preventing adding any duplicates values.\n",
    "===================================================================\n",
    "Example1: \n",
    "Function Call:\n",
    "rem_duplicate((1,1,1,2,3,4,5,6,6,6,6,4,0,0,0))\n",
    "Output:\n",
    "(1, 2, 3, 4, 5, 6, 0)\n",
    "===================================================================\n",
    "Example2: \n",
    "Function Call:\n",
    "rem_duplicate((\"Hi\", 1, 2, 3, 3, \"Hi\", 'a', 'a', [1,2]))\n",
    "Output:\n",
    "('Hi', 1, 2, 3, 'a', [1, 2])\n"
   ]
  },
  {
   "cell_type": "code",
   "execution_count": 2,
   "id": "83161b96",
   "metadata": {},
   "outputs": [
    {
     "name": "stdout",
     "output_type": "stream",
     "text": [
      "('Hi', 1, 2, 3, 'a', [1, 2])\n",
      "(1, 2, 3, 4, 5, 6, 0)\n"
     ]
    }
   ],
   "source": [
    "def rem_duplicate(tuple_1):\n",
    "    list_1= []\n",
    "    for i in tuple_1:\n",
    "        if i not in list_1:\n",
    "            list_1.append(i)\n",
    "    tuple_2= tuple(list_1)     \n",
    "    return tuple_2\n",
    "\n",
    "print(rem_duplicate((\"Hi\", 1, 2, 3, 3, \"Hi\", 'a', 'a', [1,2])))\n",
    "print(rem_duplicate((1,1,1,2,3,4,5,6,6,6,6,4,0,0,0)))"
   ]
  },
  {
   "cell_type": "raw",
   "id": "7a1fe912",
   "metadata": {},
   "source": [
    "Task 12\n",
    "Write a python function that takes a list as an argument. Your task is to create a new list where each element can be present at max 2 times. Inside the function, print the number of elements removed from the given list. Finally, return the new list and print the result.\n",
    "=====================================================\n",
    "Hint: You may use list_name.count(element) to count the total number of times an element is in a list. list_name is your new list for this problem.\n",
    "=====================================================\n",
    "Function Call:\n",
    "function_name([1, 2, 3, 3, 3, 3, 4, 5, 8, 8])\n",
    "Output:\n",
    "Removed: 2\n",
    "[1, 2, 3, 3, 4, 5, 8, 8]\n",
    "================================\n",
    "Function Call:\n",
    "function_name([10, 10, 15, 15, 20])\n",
    "Output:\n",
    "Removed: 0\n",
    "[10, 10, 15, 15, 20]"
   ]
  },
  {
   "cell_type": "code",
   "execution_count": 4,
   "id": "3da7c7d1",
   "metadata": {},
   "outputs": [
    {
     "name": "stdout",
     "output_type": "stream",
     "text": [
      "[1, 2, 3, 3, 3, 3, 4, 5, 8, 8]\n",
      "removed: 4\n",
      "['1', '2', '3', '4', '5', '8']\n"
     ]
    }
   ],
   "source": [
    "\n",
    "def function_name(list_1):\n",
    "    rem= 0\n",
    "    list_2= []\n",
    "    for i in list_1:\n",
    "        j=0\n",
    "        for list_1 in list_2:\n",
    "            if list_1== int(i):\n",
    "                j+= 1\n",
    "        if j<2:\n",
    "            list_2.append(int((i)))\n",
    "        else:\n",
    "            rem+= 1\n",
    "    print(\"Removed:\",rem)\n",
    "    return list_2\n",
    "\n",
    "list_1 = input()[1:-1].split(\", \")\n",
    "print(function_name(list_1))\n"
   ]
  },
  {
   "cell_type": "raw",
   "id": "7f352fc3",
   "metadata": {},
   "source": [
    "Task 13\n",
    "Write a python function that will perform the basic calculation (addition, subtraction, multiplication and division) based on 3 arguments. They are:\n",
    "Operator ('+', '-', '/', '*')\n",
    "First Operand (any number)\n",
    "Second Operand (any number)\n",
    "Your first task is to take these arguments as user input and pass the values to the function parameters.\n",
    "Your second task is to write a function and perform the calculation based on the given operator. Then, finally return the result in the function call and print the result.\n",
    "=====================================================\n",
    "Input:\n",
    "\"+\"\n",
    "10\n",
    "20\n",
    "Function Call:\n",
    "function_name(\"+\", 10, 20)\n",
    "Output:\n",
    "30.0\n",
    "================================\n",
    "Input:\n",
    "\"*\"\n",
    "5.5\n",
    "2.5\n",
    "Function Call:\n",
    "function_name(\"*\", 5.5, 2.5)\n",
    "Output:\n",
    "13.75"
   ]
  },
  {
   "cell_type": "code",
   "execution_count": 5,
   "id": "780c08e9",
   "metadata": {},
   "outputs": [
    {
     "name": "stdout",
     "output_type": "stream",
     "text": [
      "Please choose a valid operator ('+', '-', '/', '*'): l\n",
      "Enter first a number: 5\n",
      "Enter second operator: 4\n",
      "0\n"
     ]
    }
   ],
   "source": [
    "def calculate(operator, first_operand, second_operand):\n",
    "    result = 0\n",
    "    if(operator==\"+\"):\n",
    "        result = first_operand + second_operand\n",
    "    elif(operator==\"-\"):\n",
    "        result = first_operand - second_operand\n",
    "    elif(operator==\"*\"):\n",
    "        result = first_operand * second_operand\n",
    "    elif(operator==\"/\"):\n",
    "        result = first_operand / second_operand\n",
    "#     else:\n",
    "# #         result=0\n",
    "    return result\n",
    "\n",
    "operator = input(\"Please choose a valid operator ('+', '-', '/', '*'): \")\n",
    "first_operand = float(input(\"Enter first a number: \"))\n",
    "second_operand = float(input(\"Enter second operator: \"))\n",
    "print(calculate(operator, first_operand, second_operand))"
   ]
  },
  {
   "cell_type": "raw",
   "id": "6905325e",
   "metadata": {},
   "source": [
    "Task 14\n",
    "Write a function which will take 2 arguments. They are:\n",
    "Sentence \n",
    "Position \n",
    "Your first task is to take these arguments as user input and pass these values to the function parameters.\n",
    "Your second task is to implement the function and remove the characters at the index number which is divisible by the position (Avoid the index number 0 as it will always be divisible by the position, so no need to remove the index 0 character). Finally, add the removed characters at the end of the new string.\n",
    "Return the value and then finally, print the new string at the function call.\n",
    "[Cannot use remove() or removed() for this task] \n",
    "Input:\n",
    "\"I love programming.\"\n",
    "3\n",
    "Function call:\n",
    "function_name(\"I love programming.\", 3)\n",
    "Output:\n",
    "I lveprgrmmngo oai.\n",
    "===================================================================\n",
    "Input:\n",
    "\"Python is easy to learn. I love python.\"\n",
    "6\n",
    "Function call:\n",
    "function_name(\"Python is easy to learn. I love python.\", 6)\n",
    "Output:\n",
    "Pythonis eay to earn.I lov pythn. sl eo"
   ]
  },
  {
   "cell_type": "code",
   "execution_count": 3,
   "id": "8d8160d1",
   "metadata": {},
   "outputs": [
    {
     "name": "stdout",
     "output_type": "stream",
     "text": [
      "I love programming\n",
      "3\n",
      "I lveprgrmmngo oai\n"
     ]
    }
   ],
   "source": [
    "def function_name(sentence, position):\n",
    "    str_1 = \"\"\n",
    "    str_2 = \"\"  \n",
    "    for i in range(1, len(sentence)):\n",
    "        if i%position != 0:\n",
    "            str_1+= sentence[i]\n",
    "        else:\n",
    "            str_2+= sentence[i]  \n",
    "    return  sentence[0]+ str_1+ str_2\n",
    "\n",
    "sentence = input()\n",
    "position = int(input())\n",
    "print(function_name(sentence, position))"
   ]
  },
  {
   "cell_type": "raw",
   "id": "c0ab6eff",
   "metadata": {},
   "source": [
    "Task 15\n",
    "You have been hired as an app developer for the company. The company plans to make an app for a grocery store where the user can order groceries and see the total amount to be paid in the cart section. \n",
    "\n",
    "To build this feature, you have to write a function that takes 2 arguments. They are:\n",
    "order_items (must be a list)\n",
    "location (default value should be set to \"Dhanmondi\")\n",
    "\n",
    "Your first task is to take a list of items from the user. Pass the list into the function parameter along with the optional location (Use default argument technique). (Also, no need to take location as input, pass this any value you want.) \n",
    "\n",
    "Your second task is to implement the function. In the function, create a dictionary for the items shown in the table. Calculate the total price of the items passed as a list to the function. Additionally, add a delivery fee of 30 taka if the location is Dhanmondi. Otherwise, add a delivery fee of 70 taka. Finally, return the value and print it.\n",
    "Item\n",
    "Price(Tk)\n",
    "Rice\n",
    "105\n",
    "Potato\n",
    "20\n",
    "Chicken\n",
    "250\n",
    "Beef\n",
    "510\n",
    "Oil\n",
    "85\n",
    "\n",
    "Hint: The keys are the items and values are the corresponding price. Iterate the items in the list and check if the items in the list are available in the dictionary keys or not. If it is available, add the price.\n",
    "===================================================================\n",
    "Example1:\n",
    "function_name([\"Rice\", \"Beef\", \"Rice\"], \"Mohakhali\")\n",
    "total = 105 + 510 + 105 = 720 (Take the price of each item and add them.)\n",
    "total = 720 + 70 = 790 (Finally, add the delivery fee based on the location.)\n",
    "Input:\n",
    "[\"Rice\", \"Beef\", \"Rice\"]\n",
    "Function Call:\n",
    "function_name([\"Rice\", \"Beef\", \"Rice\"], \"Mohakhali\")\n",
    "Output:\n",
    "790\n",
    "===================================================================\n",
    "Example2:\n",
    "function_name([\"Rice\", \"Beef\", \"Rice\"])\n",
    "total = 105 + 510 + 105 = 720 (Take the price of each item and add them.)\n",
    "total = 720 + 30 = 750 (Since no location is passed in the parameter, it will use the default location-\"Dhanmondi\". For Dhanmondi, delivery fee of 30 taka)\n",
    "Input:\n",
    "[\"Rice\", \"Beef\", \"Rice\"]\n",
    "Function Call:\n",
    "function_name([\"Rice\", \"Beef\", \"Rice\"])\n",
    "Output:\n",
    "750"
   ]
  },
  {
   "cell_type": "code",
   "execution_count": 57,
   "id": "83de779c",
   "metadata": {},
   "outputs": [
    {
     "name": "stdout",
     "output_type": "stream",
     "text": [
      "[\"Rice\", \"Beef\", \"Rice\"]\n",
      "790\n"
     ]
    }
   ],
   "source": [
    "def function_name(list_1, location=\"Dhanmondi\"):\n",
    "    dict_1= {'Rice': 105,'Potato': 20,'Chicken': 250,'Beef': 510,'Oil': 85}\n",
    "    \n",
    "    if location== \"Dhanmondi\":\n",
    "        deleivery_fees= 30\n",
    "    else:\n",
    "        deleivery_fees= 70\n",
    "    total= deleivery_fees\n",
    "    for i in list_1:\n",
    "        for j in dict_1:\n",
    "            if i[1:-1]== j:\n",
    "                total+= dict_1[j]\n",
    "    return total\n",
    "\n",
    "list_1 = input()[1:-1].split(\", \")\n",
    "print(function_name(list_1, \"Mohakhali\"))"
   ]
  },
  {
   "cell_type": "code",
   "execution_count": 1,
   "id": "68ad78c0",
   "metadata": {},
   "outputs": [
    {
     "name": "stdout",
     "output_type": "stream",
     "text": [
      "y 0.0\n",
      "x 2\n",
      "sum 3\n",
      "y 1.0\n",
      "p 3.5\n",
      "sum 12.0\n",
      "y 2.0\n",
      "x 4\n",
      "sum 15.0\n",
      "y 2.0\n",
      "p 4.5\n",
      "sum 29.0\n",
      "y 3.0\n",
      "p 4.5\n",
      "sum 45.0\n",
      "y 4.0\n",
      "x 6\n",
      "sum 2\n",
      "y 3.0\n",
      "p 5.5\n",
      "sum 21.0\n",
      "y 4.0\n",
      "p 5.5\n",
      "sum 42.0\n",
      "y 5.0\n",
      "p 5.5\n",
      "sum 65.0\n",
      "y 6.0\n",
      "x 8\n",
      "sum 2\n",
      "y 4.0\n",
      "p 6.5\n",
      "sum 26.0\n",
      "y 5.0\n",
      "p 6.5\n",
      "sum 52.0\n",
      "y 6.0\n",
      "p 6.5\n",
      "sum 80.0\n",
      "y 7.0\n",
      "p 6.5\n",
      "sum 110.0\n",
      "y 8.0\n",
      "x 10\n",
      "sum 2\n"
     ]
    }
   ],
   "source": [
    "#TASK 16\n",
    "x = 0\n",
    "y = 0\n",
    "sum = 0\n",
    "p = 0.0\n",
    "while (x < 9):\n",
    "    y = x/2\n",
    "    print(\"y\", y)\n",
    "    while (y<x):\n",
    "        p = (x + 5.0)/ 2\n",
    "        print(\"p\", p)\n",
    "        sum = sum+2 + x + y*2 + int(p)\n",
    "        print(\"sum\", sum)\n",
    "        y=y+1\n",
    "        print(\"y\", y)\n",
    "    x = x+2\n",
    "    print(\"x\", x)\n",
    "    if (x>5):\n",
    "        sum = 2\n",
    "        print(\"sum\", sum)\n",
    "    else:\n",
    "        sum += 3\n",
    "        print(\"sum\", sum)"
   ]
  },
  {
   "cell_type": "code",
   "execution_count": 3,
   "id": "c5bc6269",
   "metadata": {},
   "outputs": [
    {
     "name": "stdout",
     "output_type": "stream",
     "text": [
      "sum 23\n",
      "sum 46\n",
      "sum 52\n",
      "sum 75\n",
      "sum 98\n",
      "sum 121\n",
      "sum 144\n",
      "sum 167\n",
      "sum 190\n",
      "sum 213\n"
     ]
    }
   ],
   "source": [
    "#TASK 17\n",
    "x = 0\n",
    "y = 0\n",
    "sum = 0\n",
    "while (x < 10):\n",
    "    y = x - 3\n",
    "#     print(\"y\", y)\n",
    "    y = 40\n",
    "# z\n",
    "    while (y > 22):\n",
    "        if ((sum > 30) and (sum < 40)):\n",
    "            sum = sum + x * 2\n",
    "#             print(\"sum\", sum)\n",
    "        elif((sum > 40) and (sum < 50)):\n",
    "            sum = sum + x * 3\n",
    "#             print(\"sum\", sum)   \n",
    "        else:\n",
    "            sum = sum + 23\n",
    "#             print(\"sum\", sum)\n",
    "        print(\"sum\",sum)\n",
    "        y = y - 10\n",
    "#         print(\"y\", y)\n",
    "    x += 2\n",
    "#     print(\"x\", x)"
   ]
  },
  {
   "cell_type": "code",
   "execution_count": 7,
   "id": "f546d66a",
   "metadata": {},
   "outputs": [
    {
     "name": "stdout",
     "output_type": "stream",
     "text": [
      "2.0\n"
     ]
    }
   ],
   "source": [
    "# TASK 11 using user input\n",
    "# def rem_duplicate(items):\n",
    "#     counter = 0\n",
    "#     str_1 = \"\"\n",
    "#     list_1=[]\n",
    "#     for i in items:\n",
    "#         if i not in list_1:\n",
    "#             if len(i) ==1 and 48<=ord(i)<=57 and counter ==0:\n",
    "#                 list_1.append(int(i))\n",
    "#             elif (chr(34) == i[0] and chr(34) == i[-1]) or (chr(39) == i[0] and chr(39) == i[-1]):    \n",
    "#                     i = i[1:-1]\n",
    "#                     list_1.append(i)\n",
    "#             elif i[0] == \"[\" and i[-1]!= \"]\":\n",
    "#                 str_1+= i\n",
    "#                 counter+= 1\n",
    "#             elif counter == 1 and i[-1]!= \"]\":\n",
    "#                 str_1= str_1+ \", \"+ i\n",
    "#             elif i[-1] == \"]\":\n",
    "#                 str_1= str_1+ \", \"+ i\n",
    "#                 list_1.append(str_1)\n",
    "#                 counter = 0\n",
    "#             else:    \n",
    "#                 list_1.append(i)\n",
    "#     return tuple(list_1)\n",
    "  \n",
    "# tuple_1= tuple((input().replace(\" \", \"\")).split(\",\"))\n",
    "# items= rem_duplicate(tuple_1)\n",
    "# print(items)\n",
    "print(4/2)"
   ]
  },
  {
   "cell_type": "code",
   "execution_count": 4,
   "id": "d70f6178",
   "metadata": {},
   "outputs": [
    {
     "name": "stdout",
     "output_type": "stream",
     "text": [
      "6\n",
      "4\n",
      "2\n",
      "0\n",
      "-2\n",
      "-4\n",
      "3\n",
      "1\n",
      "-1\n",
      "-2\n"
     ]
    }
   ],
   "source": [
    "#TASK 18\n",
    "x = y = 0\n",
    "sum = 0\n",
    "while (x < 10):\n",
    "    y = x - 3\n",
    "    while (y < 3):\n",
    "        sum = x - y * 2 \n",
    "        print(sum)\n",
    "        y = y + 1\n",
    "    if (x > 7): \n",
    "        x += 1\n",
    "    else: \n",
    "        x += 3\n",
    "sum = x - y * 2\n",
    "print(sum)"
   ]
  },
  {
   "cell_type": "code",
   "execution_count": 3,
   "id": "6b9ce837",
   "metadata": {},
   "outputs": [
    {
     "name": "stdout",
     "output_type": "stream",
     "text": [
      "4\n",
      "9\n",
      "16\n",
      "25\n",
      "39\n",
      "56\n",
      "78\n",
      "104\n",
      "134\n",
      "147\n"
     ]
    }
   ],
   "source": [
    "#TASK 19\n",
    "x = 0\n",
    "p = 0\n",
    "sum = 0\n",
    "p = 1\n",
    "x = 2\n",
    "q = 0.0\n",
    "sum = 0\n",
    "while (p < 12):\n",
    "    q = x + p - (sum + int(5 / 3)) / 3.0 % 2\n",
    "    sum = sum + x + int(q)\n",
    "#     print(\"X\",x, \"p\",p, \"q\", q)\n",
    "    x+=1\n",
    "    print(sum)\n",
    "    if (x > 5):\n",
    "        p += int(4 / 2)\n",
    "    else:\n",
    "        p += 3 % 1\n",
    "sum = sum + p\n",
    "print(sum)"
   ]
  },
  {
   "cell_type": "raw",
   "id": "17de58ed",
   "metadata": {},
   "source": [
    "Task 23\n",
    "Write a function called splitting_money that takes an “amount” of money as an argument.\n",
    "Your first task is to take the “amount” of money as user input and pass the value to the function parameter.\n",
    "Your second task is to implement the function and calculate how that money can be split into 500, 100, 50, 20, 10, 5, 2, and 1 taka notes.\n",
    "Then print the returned value in the function call.\n",
    "===================================================================\n",
    "Hints: \n",
    "This task’s calculation is similar to Assignment-1’s seconds to hours, minutes conversion. To return the result containing multiple strings, you need to store it in a variable and return it at the end of the function.\n",
    "===================================================================\n",
    "Example1: \n",
    "If the money is 1234, then the function should return \n",
    "\"500 Taka: 2 note(s) \n",
    "100 Taka: 2 note(s) \n",
    "20 Taka: 1 note(s) \n",
    "10 Taka: 1 note(s) \n",
    "2 Taka: 2 note(s)\"\n",
    "=====================================================\n",
    "Example2: \n",
    "If the money is 151, then the function should return\n",
    "\"100 Taka: 1 note(s)\n",
    "50 Taka: 1 note(s)\n",
    "1 Taka: 1 note(s)\""
   ]
  },
  {
   "cell_type": "code",
   "execution_count": 50,
   "id": "eb8511fb",
   "metadata": {},
   "outputs": [
    {
     "name": "stdout",
     "output_type": "stream",
     "text": [
      "Enter a amount : 151\n",
      "\"100 Taka: 1 note(s)\n",
      "50 Taka: 1 note(s)\n",
      "1 Taka: 1 note(s)\"\n"
     ]
    }
   ],
   "source": [
    "def splitting_money(amount):\n",
    "    r = amount\n",
    "    str_1 = chr(34)\n",
    "    dict_1 = {}\n",
    "    counter= 0\n",
    "    for i in [500,100,50,20,10,5,2,1]:\n",
    "        j= r//i\n",
    "        if j!= 0:\n",
    "            r= r%i\n",
    "        if j!= 0:    \n",
    "            dict_1[i]= j\n",
    "            \n",
    "    for i,j in dict_1.items():\n",
    "        if counter!= (len(list(dict_1))-1):\n",
    "            str_1+= f\"{i} Taka: {j} note(s)\\n\"\n",
    "        else:\n",
    "            str_1+= f\"{i} Taka: {j} note(s)\"+ chr(34)\n",
    "        counter+= 1       \n",
    "    return str_1\n",
    "\n",
    "amount = int(input(\"Enter a amount : \"))\n",
    "str_1 = splitting_money(amount)\n",
    "# l=' '.join([f'{k} Taka: {v} note(s)' for k,v in answer.items() if v > 0])\n",
    "# print(l)\n",
    "print(str_1)"
   ]
  },
  {
   "cell_type": "raw",
   "id": "a0d33baa",
   "metadata": {},
   "source": [
    "Task 24\n",
    "Write a function called remove_odd that takes a list of numbers that have both even and odd numbers mixed. \n",
    "Your function should remove all the odd numbers and return a compact list which only contains the even numbers. \n",
    "[Cannot use remove() or removed() for this task] \n",
    "===================================================================\n",
    "Example1: \n",
    "Function Call:\n",
    "remove_odd ([21, 33, 44, 66, 11, 1, 88, 45, 10, 9])\n",
    "Output:\n",
    "[44, 66, 88, 10]\n",
    "Example2: \n",
    "Function Call:\n",
    "remove_odd ([11,2,3,4,5,2,0,5,3])\n",
    "Output:\n",
    "[2, 4, 2, 0]"
   ]
  },
  {
   "cell_type": "code",
   "execution_count": 54,
   "id": "65386a7e",
   "metadata": {},
   "outputs": [
    {
     "name": "stdout",
     "output_type": "stream",
     "text": [
      "[21, 33, 44, 66, 11, 1, 88, 45, 10, 9]\n"
     ]
    },
    {
     "data": {
      "text/plain": [
       "[44, 66, 88, 10]"
      ]
     },
     "execution_count": 54,
     "metadata": {},
     "output_type": "execute_result"
    }
   ],
   "source": [
    "def remove_odd(list_1):\n",
    "    list_2= []\n",
    "    for i in list_1:\n",
    "        if int(i)%2== 0:\n",
    "            list_2.append(int(i))\n",
    "    return list_2\n",
    "    \n",
    "list_1= input()[1:-1].split(\", \")\n",
    "remove_odd(list_1)"
   ]
  },
  {
   "cell_type": "raw",
   "id": "89838a3d",
   "metadata": {},
   "source": [
    "Task 25\n",
    "Write a function which will take 4 arguments. They are:\n",
    "starting value(inclusive)\n",
    "ending value(exclusive)\n",
    "first divisor\n",
    "second divisor\n",
    "Your first task is to take these arguments as user input and pass these values to the function.\n",
    "Your second task is to implement the function and find all the numbers that are divisible by the first divisor or second divisor but not both from the starting value(inclusive) and ending value(exclusive). Add all the numbers that are divisible and finally return this value. Print the returned value in the function call.\n",
    "=====================================================\n",
    "Input:\n",
    "10\n",
    "40\n",
    "4\n",
    "7\n",
    "Function Call:\n",
    "function_name(10, 40, 4, 7)\n",
    "Output:\n",
    "210\n",
    "================================\n",
    "Input:\n",
    "5\n",
    "100\n",
    "3\n",
    "4\n",
    "Function Call:\n",
    "function_name(5, 100, 3, 4)\n",
    "Output:\n",
    "2012"
   ]
  },
  {
   "cell_type": "code",
   "execution_count": 61,
   "id": "799b86ca",
   "metadata": {},
   "outputs": [
    {
     "name": "stdout",
     "output_type": "stream",
     "text": [
      "5\n",
      "100\n",
      "3\n",
      "4\n",
      "2012\n"
     ]
    }
   ],
   "source": [
    "def my_function(num_1, num_2, div_1, div_2): \n",
    "    sum= 0\n",
    "    for i in range(num_1,num_2):\n",
    "        if (i%div_1== 0 or i%div_2== 0) and not (i%div_1== 0 and i%div_2== 0):\n",
    "            sum+= i\n",
    "    return sum           \n",
    "\n",
    "num_1= int(input())\n",
    "num_2= int(input())\n",
    "div_1= int(input())\n",
    "div_2= int(input())\n",
    "print(my_function(num_1, num_2, div_1, div_2))"
   ]
  },
  {
   "cell_type": "raw",
   "id": "aee945b3",
   "metadata": {},
   "source": [
    "Task 26\n",
    "Write a python function which will take a string as an argument. \n",
    "\n",
    "Your first task is to take a string as user input and pass the value to the function.\n",
    "Your second task is to implement a function which will check whether all the alphabets from a to j (convert all the alphabets to lowercase) have appeared at least once in the given string or not. \n",
    "\n",
    "If all of these alphabets (a to j) appear at least once, then the result will be 5. \n",
    "If any one of the alphabets (a to j) is not in the given string, then the result will be 6.\n",
    "\n",
    "Return this result and print the statement, \"PSG will win the Champions League this season\" that many times.\n",
    "===================================================================\n",
    "Example01: \"A black jackal is hunting a full grown deer\" \n",
    "Here all the alphabets from A to J are present at least once. So, the function will return 5 and will print the statement 5 times.\n",
    "Input:\n",
    "\"A black jackal is hunting a full grown deer\"\n",
    "Function Call:\n",
    "function_name(\"A black jackal is hunting a full grown deer\")\n",
    "Output:\n",
    "PSG will win the Champions League this season\n",
    "PSG will win the Champions League this season\n",
    "PSG will win the Champions League this season\n",
    "PSG will win the Champions League this season\n",
    "PSG will win the Champions League this season\n",
    "===================================================================\n",
    "Example02:\n",
    "Input:\n",
    "\"ABBCDEFEFGHI\"\n",
    "Function Call:\n",
    "function_name(\"ABBCDEFEFGHI\")\n",
    "Output:\n",
    "PSG will win the Champions League this season\n",
    "PSG will win the Champions League this season\n",
    "PSG will win the Champions League this season\n",
    "PSG will win the Champions League this season\n",
    "PSG will win the Champions League this season\n",
    "PSG will win the Champions League this season"
   ]
  },
  {
   "cell_type": "code",
   "execution_count": 15,
   "id": "46ef6dd0",
   "metadata": {},
   "outputs": [
    {
     "name": "stdout",
     "output_type": "stream",
     "text": [
      "\"A black jackal is hunting a full grown deer\"\n",
      "PSG will win the Champions League this season \n",
      "PSG will win the Champions League this season \n",
      "PSG will win the Champions League this season \n",
      "PSG will win the Champions League this season \n",
      "PSG will win the Champions League this season \n",
      "\n"
     ]
    }
   ],
   "source": [
    "def my_function(str_1):\n",
    "    str_2= \"\"\n",
    "    counter= 0\n",
    "    result= 5\n",
    "    for i in str_1:\n",
    "        if ord(\"a\")<=ord(i)<=ord(\"j\"):\n",
    "            if i not in str_2:\n",
    "                str_2+= i\n",
    "                counter+= 1\n",
    "    if counter!= 10:\n",
    "        result= 6\n",
    "    return result\n",
    "        \n",
    "str_1= input().lower()    \n",
    "print(\"PSG will win the Champions League this season \\n\"*my_function(str_1))"
   ]
  },
  {
   "cell_type": "raw",
   "id": "9f30d0ff",
   "metadata": {},
   "source": [
    "Task 27/28\n",
    "Write a function called individul_bonus_calculation which will take 4 arguments. They are:\n",
    "The player name\n",
    "Yearly earning of that player\n",
    "The total goal scored this season by that player\n",
    "Bonus percent per goal.\n",
    "\n",
    "Your task is to implement the above-mentioned function that will calculate the total bonus on the yearly earnings of a player for the total goals he has scored.\n",
    "Additionally, \n",
    "If the goal scored is above 30, add a (additional) bonus of 10000 taka.\n",
    "If it is between 20 and 30 inclusive, add an extra 5000 taka.\n",
    "\n",
    "[ For this task, there is no need to take any input from the user. Call the functions and print the values inside the function.] \n",
    "===================================================================\n",
    "Example1:\n",
    "individul_bonus_calculation(\"Neymar\", 1200000, 35, 5)\n",
    "bonus = 35 * (5 / 100 * 1200000) + 10000 = 2110000\n",
    "Function call:\n",
    "individul_bonus_calculation(\"Neymar\", 1200000, 35, 5)\n",
    "Output:\n",
    "Neymar earned a bonus of 2110000 Taka for 35 goals.\n",
    "===================================================================\n",
    "Example2:\n",
    "individul_bonus_calculation('Jamal', 700000, 19, 8)\n",
    "bonus = 19 * (8 / 100 * 700000) + 0 = 1064000\n",
    "Function call:\n",
    "individul_bonus_calculation('Jamal', 700000, 19, 8)\n",
    "Output:\n",
    "Jamal earned a bonus of 1064000 Taka for 19 goals.\n",
    "===================================================================\n",
    "Example3:\n",
    "individul_bonus_calculation('Luis', 80000, 25, 10)\n",
    "bonus = 25 * (10 / 100 * 80000) + 5000 = 205000\n",
    "Function call:\n",
    "individul_bonus_calculation('Luis', 80000, 25, 10)\n",
    "Output:\n",
    "Luis earned a bonus of 205000 Taka for 25 goals."
   ]
  },
  {
   "cell_type": "code",
   "execution_count": 2,
   "id": "a0b52378",
   "metadata": {},
   "outputs": [
    {
     "name": "stdout",
     "output_type": "stream",
     "text": [
      "Neymar earned a bonus of 2110000.0 Taka for 35 goals.\n",
      "Jamal earned a bonus of 1064000.0 Taka for 19 goals.\n",
      "Luis earned a bonus of 205000.0 Taka for 25 goals.\n"
     ]
    }
   ],
   "source": [
    "def individul_bonus_calculation(name, salary, goal, bonus):\n",
    "    if goal>30:\n",
    "        total_bonus = goal* (bonus/ 100 * salary) + 10000\n",
    "    elif 20<=goal<=30:\n",
    "        total_bonus = goal* (bonus/ 100 * salary) + 5000\n",
    "    else:\n",
    "        total_bonus = goal* (bonus/ 100 * salary)    \n",
    "    print(name, \"earned a bonus of\", total_bonus, \"Taka for\", goal, \"goals.\")    \n",
    "#     return int(total_bonus)    \n",
    "\n",
    "# name= input()\n",
    "# salary= int(input())\n",
    "# goal= int(input())\n",
    "# bonus= int(input())\n",
    "individul_bonus_calculation(\"Neymar\", 1200000, 35, 5)\n",
    "individul_bonus_calculation('Jamal', 700000, 19, 8)\n",
    "individul_bonus_calculation('Luis', 80000, 25, 10)"
   ]
  },
  {
   "cell_type": "code",
   "execution_count": 9,
   "id": "8bf396ca",
   "metadata": {},
   "outputs": [
    {
     "name": "stdout",
     "output_type": "stream",
     "text": [
      "-->dog<--28\n",
      "-->dog<--28-->115\n",
      "-->dog<--28-->115<--27\n",
      "-->dog<--28-->115<--27-->113\n",
      "-->dog<--28-->115<--27-->113-->115\n",
      "-->dog<--28-->115<--27-->113-->115<--37\n",
      "-->dog<--28-->115<--27-->113-->115<--37-->113\n",
      "-->dog<--28-->115<--27-->113-->115<--37-->113<--47\n",
      "-->dog<--28-->115<--27-->113-->115<--37-->113<--47-->213\n",
      "-->dog<--28-->115<--27-->113-->115<--37-->113<--47-->213-->213\n"
     ]
    }
   ],
   "source": [
    "#TASK 20\n",
    "i = 2\n",
    "j = 0\n",
    "k = 17\n",
    "test = \"-->dog\"\n",
    "while i < 7:\n",
    "    k-=1\n",
    "    j = k\n",
    "    while j > 12:\n",
    "        if (j % 2 == 0):\n",
    "            test += \"<--\"\n",
    "            test = test + str(i) + str(j // 2)\n",
    "        else:\n",
    "            test += \"-->\"\n",
    "            test = test + str(i // 2) + str(j) \n",
    "        print(test)\n",
    "        j-=1\n",
    "    i+=1\n",
    "\n"
   ]
  },
  {
   "cell_type": "code",
   "execution_count": 6,
   "id": "1dfcc71e",
   "metadata": {},
   "outputs": [
    {
     "name": "stdout",
     "output_type": "stream",
     "text": [
      "\n",
      "<--53-->4\n",
      "-->1-->13\n",
      "<--53-->4\n",
      "-->1-->11\n",
      "-->2-->13\n",
      "<--63-->4\n",
      "-->2-->11\n",
      "<--73-->4\n",
      "-->2-->11\n",
      "-->2-->11\n"
     ]
    }
   ],
   "source": [
    "#TASK 21\n",
    "test = \"\"\n",
    "print(test)\n",
    "i = 5\n",
    "j = 0\n",
    "k = 15\n",
    "while (i< 10): \n",
    "    k-=1\n",
    "    j = k\n",
    "    while (j > 10 ):\n",
    "        if j % 2 == 0:\n",
    "            test = \"<--\"\n",
    "            test = test + str(i) + '3' + \"-->\" + str(j // 3)\n",
    "        else:\n",
    "            test = \"-->\"\n",
    "            test = \"-->\" + str((i // 3)) + test + str(j)\n",
    "        print(test)\n",
    "        j -=1\n",
    "    i+=1"
   ]
  },
  {
   "cell_type": "code",
   "execution_count": 8,
   "id": "2c802d96",
   "metadata": {},
   "outputs": [
    {
     "name": "stdout",
     "output_type": "stream",
     "text": [
      "5 == 5\n",
      "2 == 2\n",
      "0 == 0\n",
      "-3 != -2\n",
      "-5 != -5\n",
      "-8 != -7\n",
      "-10 != -10\n"
     ]
    }
   ],
   "source": [
    "#TASK 22\n",
    "i = 10\n",
    "while(i >= -20):\n",
    "    if(i < 0):\n",
    "        test = \" != \"\n",
    "        test = str(i//2) + test + str(int(i/2))\n",
    "    else:\n",
    "        test = \" == \"\n",
    "        test = str(i//2) + test + str(int(i/2))\n",
    "    print(test)\n",
    "    i -= 5"
   ]
  },
  {
   "cell_type": "code",
   "execution_count": 1,
   "id": "df521a82",
   "metadata": {},
   "outputs": [],
   "source": [
    "# #TASK 8\n",
    "# def show_palindrome(num_1):\n",
    "#     result_1 = \"\"\n",
    "#     for i in range(1, num_1):\n",
    "#         result_1 += str(i)\n",
    "#     for i in range(num_1, 0, -1):\n",
    "#         result_1 += str(i)\n",
    "#     return result_1\n",
    "\n",
    "# def show_palindromic_triangle():\n",
    "#     num_1 = int(input())\n",
    "#     str_1= show_palindrome(num_1)\n",
    "#     result_2= \"\"\n",
    "#     for i in str_1:\n",
    "#         result_2+= i+ \" \"\n",
    "#     str_2= \"\"\n",
    "#     str_3= \"\"\n",
    "#     str_4= \"\"\n",
    "#     seen= []\n",
    "#     counter= len(show_palindrome(num_1))+1\n",
    "#     for i in result_2:\n",
    "#         if i== \" \":\n",
    "#             if str_4 in seen:\n",
    "#                 break\n",
    "#             else:                \n",
    "#                 seen.append(str_4)\n",
    "#                 str_4= \"\"\n",
    "#                 counter-= 2                \n",
    "#                 str_2+= i\n",
    "#                 str_3= str_2[-4::-1]\n",
    "#                 print(\" \"*counter+ str_2+ str_3)\n",
    "#         else:  \n",
    "#             str_2+= i\n",
    "#             str_4+= i\n",
    "# #         print(seen)     \n",
    "# #             if i not in seen:\n",
    "# #                 str_2+= i\n",
    "# #                 if i!= \" \":\n",
    "# #                     str_4+= i\n",
    "\n",
    "# #             else:     \n",
    "# #                 break \n",
    "# #         print(seen)     \n",
    "# show_palindromic_triangle()      \n",
    "\n",
    "# #                 str_3= \" \"+ str_2[-3::-1]\n",
    "# #                 seen+= i\n",
    "# #                 counter-= 2\n",
    "# #                 print(\" \"*counter+ str_2+ str_3)"
   ]
  },
  {
   "cell_type": "code",
   "execution_count": 60,
   "id": "78ca4554",
   "metadata": {},
   "outputs": [
    {
     "name": "stdout",
     "output_type": "stream",
     "text": [
      "4\n"
     ]
    },
    {
     "data": {
      "text/plain": [
       "'1 2 3 4 5 6 7 8 9 10 11 12 13 14 15 16 17 18 19 20 21 22 23 24 25 26 27 28 29 30 31 32 33 34 35 36 37 38 39 40 41 42 43 44 45 46 47 48 49 50 51 52 53 54 55 56 57 58 59 60 61 62 63 64 65 66 67 68 69 70 71 72 73 74 75 76 77 78 79 80 81 82 83 84 85 86 87 88 89 90 91 92 93 94 95 96 97 98 99 98 97 96 95 94 93 92 91 90 89 88 87 86 85 84 83 82 81 80 79 78 77 76 75 74 73 72 71 70 69 68 67 66 65 64 63 62 61 60 59 58 57 56 55 54 53 52 51 50 49 48 47 46 45 44 43 42 41 40 39 38 37 36 35 34 33 32 31 30 29 28 27 26 25 24 23 22 21 20 19 18 17 16 15 14 13 12 11 10 9 8 7 6 5 4 3 2 1 '"
      ]
     },
     "execution_count": 60,
     "metadata": {},
     "output_type": "execute_result"
    }
   ],
   "source": [
    "# def show_palindrome(num_1):\n",
    "#     result_1 = \"\"\n",
    "#     for i in range(1, num_1):\n",
    "#         result_1 += str(i)+ \" \"\n",
    "#     for i in range(num_1, 0, -1):\n",
    "#         result_1 += str(i)+ \" \"\n",
    "#     return result_1\n",
    "\n",
    "# def show_palindrome_triangle(num_1):\n",
    "#     num_1= int(input())\n",
    "#     str_1= show_palindrome(num_1)\n",
    "# show_palindrome_triangle(num_1)\n",
    "# show_palindrome(num_1)    \n",
    "# def show_palindromic_triangle(num_1):\n",
    "#     for i in range(1,num_1+1):\n",
    "#         space\n",
    "#     num_1 = int(input())\n",
    "#     str_1= show_palindrome(num_1)\n",
    "#     result_2= \"\"\n",
    "#     for i in str_1:\n",
    "#         result_2+= i+ \" \"\n",
    "#     print(result_2)    \n",
    "# show_palindromic_triangle()          "
   ]
  },
  {
   "cell_type": "code",
   "execution_count": 61,
   "id": "78c882f9",
   "metadata": {},
   "outputs": [
    {
     "name": "stdout",
     "output_type": "stream",
     "text": [
      "5\n",
      "1 2 3 4 5 4 3 2 1 \n"
     ]
    }
   ],
   "source": [
    "# def show_palindrome(num_1):\n",
    "#     result_1 = \"\"\n",
    "#     for i in range(1, num_1):\n",
    "#         result_1 += str(i)+ \" \"\n",
    "#     for i in range(num_1, 0, -1):\n",
    "#         result_1 += str(i)+ \" \"\n",
    "#     return result_1\n",
    "\n",
    "# def show_palindrome_triangle(num_1):\n",
    "#     str_1= show_palindrome(num_1)\n",
    "    \n",
    "#     print(show_palindrome(num_1))\n",
    "\n",
    "# num_1= int(input())\n",
    "# show_palindrome_triangle(num_1)"
   ]
  },
  {
   "cell_type": "code",
   "execution_count": 15,
   "id": "f56f3bdb",
   "metadata": {
    "scrolled": true
   },
   "outputs": [
    {
     "name": "stdout",
     "output_type": "stream",
     "text": [
      "5\n",
      "        1 \n",
      "      1 2 1 \n",
      "    1 2 3 2 1 \n",
      "  1 2 3 4 3 2 1 \n",
      "1 2 3 4 5 4 3 2 1 "
     ]
    }
   ],
   "source": [
    "num= int(input())\n",
    "def show_palindrome_triangle(p):\n",
    "    for i in range(p):\n",
    "        for j in range(p-i):\n",
    "            print(\" \", end= \" \")\n",
    "        for j in range(i+1):\n",
    "            print(j+1, end= \" \")\n",
    "        for j in range(i, 0, -1):\n",
    "            print(j, end= \" \")\n",
    "        print()\n",
    "show_palindrome_triangle(num-1)\n",
    "def show_palindrome(p):\n",
    "    for i in range(1, p+1):\n",
    "        print(i, end= \" \")\n",
    "    for i in range(p-1, 0, -1):\n",
    "        print(i, end= \" \")\n",
    "show_palindrome(num)    "
   ]
  },
  {
   "cell_type": "raw",
   "id": "c42cda8d",
   "metadata": {},
   "source": [
    "Write a Python function that takes a string as parameter and return a modified string where the vowels in the odd index positions are removed.\n",
    "\n",
    "Function Call 1: modify(\"Legolas\")\n",
    "Sample Output 1: Lgls\n",
    "Explanation: In the input string, the vowels ‘e’, ‘o’, and ‘a’ are in the index 1, 3 & 5 respectively, which are absent from the final output.\n",
    "\n",
    "Function Call 2: modify(\"The Joker\")\n",
    "Sample Output 2: The Jkr\n",
    "Explanation: In the input string, the vowels ‘e’, ‘o’, and ‘e’ are in the index 2, 5 & 7 respectively, but only the ‘o’ and the second ‘e’ are absent from the final output.\n",
    "\n",
    "Function Call 3: modify(\"Groot\")\n",
    "Sample Output 3: Grot\n",
    "Explanation: In the input string, the vowels two ‘o’s are in the index 2 & 3 respectively, but only the second ‘o’ is absent from the final output."
   ]
  },
  {
   "cell_type": "code",
   "execution_count": 41,
   "id": "8ab42f9a",
   "metadata": {},
   "outputs": [
    {
     "name": "stdout",
     "output_type": "stream",
     "text": [
      "Lgls\n",
      "Grot\n",
      "The Jkr\n"
     ]
    }
   ],
   "source": [
    "def modify(str_1):\n",
    "    str_2= \"\"\n",
    "    v= [\"a\", \"e\", \"i\", \"o\", \"u\", \"A\", \"E\", \"I\", \"O\", \"U\"]\n",
    "    for i in range(len(str_1)):\n",
    "        if i%2!= 0 and str_1[i] in v:\n",
    "            continue\n",
    "        else:\n",
    "            str_2+= str_1[i]\n",
    "    return str_2        \n",
    "    \n",
    "print(modify(\"Legolas\"))\n",
    "print(modify(\"Groot\"))\n",
    "print(modify(\"The Joker\"))"
   ]
  },
  {
   "cell_type": "raw",
   "id": "be4cea2a",
   "metadata": {},
   "source": [
    "Suppose, you are given the following dictionary. [No need to take user input, but your program should work for similar dictionaries like this.]\n",
    "my_dict = {'Alex': ['Carl', 'Ethan'], 'Bob': ['Carl', 'David'], 'Carl': ['David', 'Alex'], 'David': ['Alex']}\n",
    "In this dictionary, each key indicates a person who will receive presents and corresponding value indicates the list of people from whom he/she will receive the presents. For example, Alex will receive gifts from Carl and Ethan, Bob will receive from Carl and David and so on.\n",
    "Your task is to pass this dictionary in a function and return a dictionary where the givers will be the keys and the list of people receiving gifts from him/her will be the values corresponding to those keys.\n",
    "\n",
    "Function Call: my_function(my_dict)\n",
    "Sample output:\n",
    "{'Carl': ['Alex', 'Bob'], 'Ethan': ['Alex'], 'David': ['Bob', 'Carl'], 'Alex': ['Carl', 'David']}\n",
    "\n",
    "Explanation: We can see that Carl will give gifts to Alex and Bob. So the value corresponding to the key Carl will be a list containing both Alex and Bob. Similarly, all the other keys are handled."
   ]
  },
  {
   "cell_type": "code",
   "execution_count": 40,
   "id": "bd2d8b31",
   "metadata": {},
   "outputs": [
    {
     "name": "stdout",
     "output_type": "stream",
     "text": [
      "{'Carl': ['Alex', 'Bob'], 'Ethan': ['Alex'], 'David': ['Bob', 'Carl'], 'Alex': ['Carl', 'David']}\n"
     ]
    }
   ],
   "source": [
    "def my_function(dict_1):\n",
    "    dict_2= {}\n",
    "    \n",
    "    for i,j in dict_1.items():\n",
    "        for k in j:\n",
    "            if k not in dict_2:\n",
    "                dict_2[k]= [i] \n",
    "            else:\n",
    "                dict_2[k].append(i)\n",
    "    return dict_2\n",
    "\n",
    "my_dict = {'Alex': ['Carl', 'Ethan'], 'Bob': ['Carl', 'David'], 'Carl': ['David', 'Alex'], 'David': ['Alex']}\n",
    "print(my_function(my_dict))"
   ]
  },
  {
   "cell_type": "code",
   "execution_count": 21,
   "id": "49913493",
   "metadata": {},
   "outputs": [
    {
     "name": "stdout",
     "output_type": "stream",
     "text": [
      "['d', 'f', 'd', 'f']\n"
     ]
    }
   ],
   "source": [
    "str_1= \"dfdf\"\n",
    "print(list(str_1))"
   ]
  },
  {
   "cell_type": "code",
   "execution_count": null,
   "id": "397704a1",
   "metadata": {},
   "outputs": [],
   "source": []
  }
 ],
 "metadata": {
  "kernelspec": {
   "display_name": "Python 3 (ipykernel)",
   "language": "python",
   "name": "python3"
  },
  "language_info": {
   "codemirror_mode": {
    "name": "ipython",
    "version": 3
   },
   "file_extension": ".py",
   "mimetype": "text/x-python",
   "name": "python",
   "nbconvert_exporter": "python",
   "pygments_lexer": "ipython3",
   "version": "3.9.7"
  }
 },
 "nbformat": 4,
 "nbformat_minor": 5
}
