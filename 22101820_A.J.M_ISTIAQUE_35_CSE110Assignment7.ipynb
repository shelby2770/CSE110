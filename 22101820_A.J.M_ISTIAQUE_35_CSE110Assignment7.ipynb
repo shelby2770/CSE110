{
 "cells": [
  {
   "cell_type": "code",
   "execution_count": 6,
   "id": "cee7c891",
   "metadata": {},
   "outputs": [
    {
     "name": "stdout",
     "output_type": "stream",
     "text": [
      "[1, 2, 2, 3, 5, 6, 10, 11, 12, 14, 15, 17, 18, 20, 29]\n"
     ]
    }
   ],
   "source": [
    "#TASK 1\n",
    "def my_list(list_1):\n",
    "    for i in range(len(list_1)):\n",
    "        for j in range(len(list_1)-1):\n",
    "            if list_1[j+1]< list_1[j]:\n",
    "                list_1[j], list_1[j+1]= list_1[j+1], list_1[j]\n",
    "    return list_1\n",
    "print(my_list([10, 1, 20, 3, 6, 2, 5, 11, 15, 2, 12, 14, 17, 18, 29]))"
   ]
  },
  {
   "cell_type": "code",
   "execution_count": 18,
   "id": "a36b4743",
   "metadata": {},
   "outputs": [
    {
     "name": "stdout",
     "output_type": "stream",
     "text": [
      "[1, 2, 2, 3, 5, 6, 10, 11, 12, 14, 15, 17, 18, 20, 29]\n"
     ]
    }
   ],
   "source": [
    "#TASK 2\n",
    "def my_list(list_1):    \n",
    "    for i in range(len(list_1)):\n",
    "        min= i\n",
    "        for j in range(i, len(list_1)):\n",
    "            if list_1[j]<list_1[min]:\n",
    "                min= j\n",
    "        list_1[i], list_1[min]= list_1[min], list_1[i]\n",
    "    return list_1\n",
    "print(my_list([10, 1, 20, 3, 6, 2, 5, 11, 15, 2, 12, 14, 17, 18, 29]))"
   ]
  },
  {
   "cell_type": "code",
   "execution_count": 19,
   "id": "e0a75843",
   "metadata": {},
   "outputs": [
    {
     "name": "stdout",
     "output_type": "stream",
     "text": [
      "[29, 20, 18, 17, 15, 14, 12, 11, 10, 6, 5, 3, 2, 2, 1]\n"
     ]
    }
   ],
   "source": [
    "#Task 3\n",
    "def my_list(list_1):\n",
    "    for i in range(len(list_1)):\n",
    "        for j in range(len(list_1)-1):\n",
    "            if list_1[j+1]> list_1[j]:\n",
    "                list_1[j+1], list_1[j]= list_1[j], list_1[j+1]\n",
    "    return list_1   \n",
    "print(my_list([10, 1, 20, 3, 6, 2, 5, 11, 15, 2, 12, 14, 17, 18, 29]))"
   ]
  },
  {
   "cell_type": "code",
   "execution_count": 19,
   "id": "e31498b8",
   "metadata": {},
   "outputs": [
    {
     "name": "stdout",
     "output_type": "stream",
     "text": [
      "[10, 100, 11, 80, 12, 70, 20, 56, 22, 30, 58, 16, 70, 15]\n"
     ]
    }
   ],
   "source": [
    "#Task 4\n",
    "def sitting_list(list_1):  \n",
    "    for i in range(len(list_1)):\n",
    "        for j in range(i, len(list_1)):\n",
    "            if i%2==0 and j%2==0:\n",
    "                if list_1[i] > list_1[j]:\n",
    "                    list_1[i], list_1[j] = list_1[j], list_1[i]\n",
    "                \n",
    "    for k in range(len(list_1)):\n",
    "        for l in range(k, len(list_1)):\n",
    "            if k%2!=0 and l%2!=0:\n",
    "                if list_1[k] < list_1[l]:\n",
    "                    list_1[k], list_1[l] = list_1[l], list_1[k]\n",
    "    return list_1             \n",
    "print(sitting_list([10,30,20,70,11,15,22,16,58,100,12,56,70,80]))"
   ]
  },
  {
   "cell_type": "code",
   "execution_count": 35,
   "id": "b2f7131c",
   "metadata": {},
   "outputs": [
    {
     "name": "stdout",
     "output_type": "stream",
     "text": [
      "MAT110\n",
      "Alan\n",
      "Musk\n",
      "Turing\n",
      "Elon\n"
     ]
    }
   ],
   "source": [
    "#TASK 5\n",
    "def my_list(lst):\n",
    "    if course== \"CSE110\":\n",
    "        for i in range(len(lst)):\n",
    "            for j in range(len(lst)-1):\n",
    "                if lst[j+1][1]> lst[j][1]:\n",
    "                    lst[j], lst[j+1]= lst[j+1], lst[j]\n",
    "        for i in lst:\n",
    "            print(i[0])           \n",
    "    if course== \"PHY111\":\n",
    "        for i in range(len(lst)):\n",
    "            for j in range(len(lst)-1):\n",
    "                if lst[j+1][2]> lst[j][2]:\n",
    "                    lst[j], lst[j+1]= lst[j+1], lst[j]\n",
    "                    \n",
    "        for i in lst:\n",
    "            print(i[0])           \n",
    "    if course== \"MAT110\":\n",
    "        for i in range(len(lst)):\n",
    "            for j in range(len(lst)-1):\n",
    "                if lst[j+1][3]> lst[j][3]:\n",
    "                    lst[j], lst[j+1]= lst[j+1], lst[j]\n",
    "        for i in lst:\n",
    "            print(i[0])       \n",
    "            \n",
    "course= input()    \n",
    "lst= [[\"Alan\", 95, 87, 91], [\"Turing\", 92, 90, 83], [\"Elon\", 87, 92, 80], [\"Musk\", 85, 94, 90]]\n",
    "my_list(lst)"
   ]
  },
  {
   "cell_type": "code",
   "execution_count": 26,
   "id": "2c553319",
   "metadata": {},
   "outputs": [
    {
     "name": "stdout",
     "output_type": "stream",
     "text": [
      "4\n"
     ]
    }
   ],
   "source": [
    "#TASK 6\n",
    "#using bubble_sort\n",
    "def my_list(list_1):        \n",
    "    for i in range(len(list_1)):\n",
    "        counter = 0\n",
    "        for j in range(len(list_1)-1):\n",
    "            if list_1[j+1]< list_1[j]:\n",
    "                list_1[j+1], list_1[j]= list_1[j], list_1[j+1]\n",
    "                counter+= 1\n",
    "        return counter\n",
    "print(my_list([4, 2, 3, 1, 6, 5]))    \n",
    "\n",
    "#using selection_sort\n",
    "# def my_list(list_1):\n",
    "#     for i in range(len(list_1)):\n",
    "#         min= i \n",
    "#         counter= 0\n",
    "#         for j in range(i+1, len(list_1)):\n",
    "#             if list_1[j]< list_1[min]:\n",
    "#                 min= j\n",
    "#                 counter+= 2\n",
    "#         list_1[i], list_1[min]= list_1[min], list_1[i]            \n",
    "#         return counter\n",
    "# print(my_list([4, 2, 3, 1, 6, 5]))"
   ]
  },
  {
   "cell_type": "code",
   "execution_count": 11,
   "id": "2103e75a",
   "metadata": {},
   "outputs": [
    {
     "name": "stdout",
     "output_type": "stream",
     "text": [
      "[1, 2, 3, 4, 5]\n",
      "[6, 7, 8, 9]\n",
      "Sorted list = [1, 2, 3, 4, 5, 6, 7, 8, 9]\n",
      "Median = 5\n"
     ]
    }
   ],
   "source": [
    "#TASK 7\n",
    "def my_function(list_one, list_two):\n",
    "    list_three= []\n",
    "    for i in list_one:\n",
    "        list_three.append(int(i))\n",
    "    for i in list_two:\n",
    "        list_three.append(int(i))\n",
    "    for i in range(len(list_three)):\n",
    "        for j in range(len(list_three)-1):\n",
    "            if list_three[j+1]< list_three[j]:\n",
    "                list_three[j+1], list_three[j]= list_three[j], list_three[j+1]\n",
    "    print(\"Sorted list =\", list_three)            \n",
    "    if len(list_three)%2!= 0:\n",
    "        median= list_three[len(list_three)//2]\n",
    "    else:\n",
    "        num_1= list_three[len(list_three)//2-1]\n",
    "        num_2= list_three[(len(list_three)//2)]\n",
    "        median= (num_1+num_2)/2\n",
    "    print(\"Median =\", median)            \n",
    "    \n",
    "list_one = input()[1:-1].split(\", \")\n",
    "list_two = input()[1:-1].split(\", \")\n",
    "my_function(list_one, list_two)                "
   ]
  },
  {
   "cell_type": "code",
   "execution_count": 52,
   "id": "6a63a665",
   "metadata": {},
   "outputs": [
    {
     "name": "stdout",
     "output_type": "stream",
     "text": [
      "[-10, 15, 2, 4, -4, 7, -8]\n",
      "Two pairs which have the smallest sum = 4 and -4\n"
     ]
    }
   ],
   "source": [
    "#TASK 8\n",
    "import math\n",
    "def closest_to_zero(list_one):\n",
    "    list_two= []\n",
    "    for i in list_one:\n",
    "        list_two.append(int(i))\n",
    "    list_three= []\n",
    "    sum= math.inf\n",
    "    num_1= math.inf\n",
    "    num_2= math.inf\n",
    "    for i in range(len(list_two)-1):\n",
    "        if list_two[i]+list_two[i+1]<0:\n",
    "            if -(list_two[i]+list_two[i+1])< sum:\n",
    "                num_1= list_two[i]\n",
    "                num_2= list_two[i+1]\n",
    "                sum= -(list_two[i]+ list_two[i+1])\n",
    "        else:\n",
    "            if list_two[i]+list_two[i+1]< sum:\n",
    "                num_1= list_two[i]\n",
    "                num_2= list_two[i+1]\n",
    "                sum= list_two[i]+ list_two[i+1]  \n",
    "            \n",
    "    list_three.append(num_1)\n",
    "    list_three.append(num_2)\n",
    "    return list_three\n",
    "\n",
    "list_one= input()[1:-1].split(\", \")    \n",
    "list_three= closest_to_zero(list_one)\n",
    "print(\"Two pairs which have the smallest sum =\", list_three[0], \"and\", list_three[1])"
   ]
  },
  {
   "cell_type": "code",
   "execution_count": 48,
   "id": "a1dd9c2e",
   "metadata": {},
   "outputs": [
    {
     "name": "stdout",
     "output_type": "stream",
     "text": [
      "[(5,3), (2,9), (-2,7), (-3,-4), (0,6), (7,-2)]\n",
      "Minimum distance = 5.0\n",
      "Here the closest point is (-3, -4) which has a distance of 5.0 from the origin.\n"
     ]
    }
   ],
   "source": [
    "# TASK 9\n",
    "#using user input\n",
    "import math\n",
    "points = input()[1:-1].split(\", \")\n",
    "\n",
    "points_2= []\n",
    "for i in points:\n",
    "    if \",\" in i:\n",
    "        list_1= i.replace(\"(\", \"\").replace(\")\", \"\").split(\",\")\n",
    "        num_1= int(list_1[0])\n",
    "        num_2= int(list_1[1])\n",
    "        points_2.append(tuple((num_1,num_2)))\n",
    "        \n",
    "def my_function(points_2):\n",
    "    list_1 = []\n",
    "    dict_1 = {}\n",
    "    min_coordn = \"\"\n",
    "    min_dist = 0\n",
    "    for i in points_2:\n",
    "        num_1 = i[0]\n",
    "        num_2 = i[1]\n",
    "        dist = math.sqrt((num_1 ** 2 + (num_2 ** 2)))\n",
    "        list_1.append(dist)\n",
    "    for i in range(len(points_2)):\n",
    "        dict_1[list_1[i]] = points_2[i]\n",
    "\n",
    "    for i in range(len(list_1)):\n",
    "        for j in range(len(list_1) - 1):\n",
    "            if list_1[j + 1] < list_1[j]:\n",
    "                list_1[j], list_1[j + 1] = list_1[j + 1], list_1[j]\n",
    "    for i in dict_1:\n",
    "        if i == list_1[0]:\n",
    "            min_dist = i\n",
    "            min_coordn = dict_1[i]\n",
    "    print(\"Minimum distance =\", min_dist)\n",
    "    print(\"Here the closest point is\", min_coordn, \"which has a distance of\", min_dist, \"from the origin.\")\n",
    "my_function(points_2)"
   ]
  },
  {
   "cell_type": "code",
   "execution_count": 50,
   "id": "a7d7f09c",
   "metadata": {},
   "outputs": [
    {
     "name": "stdout",
     "output_type": "stream",
     "text": [
      "Minimum distance = 1.4142135623730951\n",
      "Here the closest point is (1, 1) which has a distance of 1.4142135623730951 from the origin.\n"
     ]
    }
   ],
   "source": [
    "#TASK 9\n",
    "#taking given list manually\n",
    "import math\n",
    "def my_function(points):\n",
    "    list_1= []\n",
    "    dict_1= {}\n",
    "    min_coordn= \"\"\n",
    "    min_dist= 0\n",
    "    for i in points:\n",
    "        num_1= i[0]\n",
    "        num_2= i[1]\n",
    "        dist= math.sqrt((num_1**2+ (num_2**2)))\n",
    "        list_1.append(dist)\n",
    "    for i in range(len(points)):\n",
    "        dict_1[list_1[i]]= points[i]\n",
    "        \n",
    "    for i in range(len(list_1)):\n",
    "        for j in range(len(list_1)-1):\n",
    "            if list_1[j+1]< list_1[j]:\n",
    "                list_1[j], list_1[j+1]= list_1[j+1], list_1[j]\n",
    "    for i in dict_1:\n",
    "        if i== list_1[0]:\n",
    "            min_dist= i\n",
    "            min_coordn= dict_1[i]\n",
    "    print(\"Minimum distance =\", min_dist)        \n",
    "    print(\"Here the closest point is\", min_coordn, \"which has a distance of\", min_dist, \"from the origin.\")       \n",
    "points = [(1,7), (4,5), (-1,7), (-2,0), (1,1), (5,-1)]\n",
    "my_function(points)"
   ]
  },
  {
   "cell_type": "code",
   "execution_count": 16,
   "id": "ce6ea576",
   "metadata": {},
   "outputs": [
    {
     "name": "stdout",
     "output_type": "stream",
     "text": [
      "[10, 10, 10, 10, 10] a\n",
      "[10, 10, 10, 10, 10] b\n",
      "10\n",
      "[10, 10, 10, 10, 10] a\n",
      "[10, 19, 10, 10, 10] b\n",
      "19\n",
      "heda\n",
      "[10, 19, 36, 10, 10] a\n",
      "[10, 19, 36, 10, 10] b\n",
      "36\n",
      "[10, 19, 36, 69, 10] a\n",
      "[10, 19, 36, 69, 10] b\n",
      "69\n",
      "[10, 19, 36, 69, 134] a\n",
      "[10, 19, 36, 69, 134] b\n",
      "134\n"
     ]
    }
   ],
   "source": [
    "myList = [10]*5\n",
    "newList = myList.copy()\n",
    "idx = 0\n",
    "\n",
    "while idx < 5:\n",
    "    idx1 = 0\n",
    "\n",
    "    while idx1<idx:\n",
    "        myList[idx] += newList[idx1] + idx1 - idx\n",
    "        idx1 += 1\n",
    "    print(newList,\"a\")\n",
    "    print(myList, \"b\")\n",
    "    print(myList[idx])\n",
    "    idx += 1\n",
    "\n",
    "    if idx==2:\n",
    "        newList = myList\n"
   ]
  },
  {
   "cell_type": "code",
   "execution_count": 22,
   "id": "9cec8d8e",
   "metadata": {},
   "outputs": [
    {
     "name": "stdout",
     "output_type": "stream",
     "text": [
      "(2, 0, 2)\n",
      "(2, 4, 6, 8, 10, 12, 14, 16, 18, 20, 22)\n"
     ]
    }
   ],
   "source": [
    "def oke(a):\n",
    "    l=[]\n",
    "    t=[]\n",
    "    for i in a:\n",
    "        if i in \"02468\":\n",
    "            l.append(int(i))\n",
    "    if len(l)!=0:\n",
    "            return tuple(l)\n",
    "    else:\n",
    "        for i in range(2,len(a),2):\n",
    "            t.append(i)\n",
    "        t=tuple(t)\n",
    "        return t\n",
    "print(oke(\"This is not 2021\"))\n",
    "print(oke(\"Quiz 1 was taken online\"))"
   ]
  },
  {
   "cell_type": "code",
   "execution_count": null,
   "id": "c325341d",
   "metadata": {},
   "outputs": [],
   "source": [
    "print()"
   ]
  }
 ],
 "metadata": {
  "kernelspec": {
   "display_name": "Python 3 (ipykernel)",
   "language": "python",
   "name": "python3"
  },
  "language_info": {
   "codemirror_mode": {
    "name": "ipython",
    "version": 3
   },
   "file_extension": ".py",
   "mimetype": "text/x-python",
   "name": "python",
   "nbconvert_exporter": "python",
   "pygments_lexer": "ipython3",
   "version": "3.9.7"
  }
 },
 "nbformat": 4,
 "nbformat_minor": 5
}
