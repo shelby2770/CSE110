{
 "cells": [
  {
   "cell_type": "code",
   "execution_count": 51,
   "id": "403cb499",
   "metadata": {},
   "outputs": [
    {
     "name": "stdout",
     "output_type": "stream",
     "text": [
      "[1, 5, 5, 1]\n"
     ]
    }
   ],
   "source": [
    "# list1 = [1, 5, 5]\n",
    "\n",
    "# prod = 1\n",
    "# for i in list1:\n",
    "#     prod = prod*i\n",
    "# list1.append(1)\n",
    "# print(list1)"
   ]
  },
  {
   "cell_type": "raw",
   "id": "b96de649",
   "metadata": {},
   "source": [
    "### \n",
    "PROBLEM 1) Rectangle\n",
    "Sample Input: 4, 6\n",
    "Sample Output:\n",
    "123456\n",
    "123456\n",
    "123456\n",
    "123456"
   ]
  },
  {
   "cell_type": "code",
   "execution_count": 59,
   "id": "c954dbcb",
   "metadata": {},
   "outputs": [
    {
     "name": "stdout",
     "output_type": "stream",
     "text": [
      "4\n",
      "6\n",
      "123456\n",
      "123456\n",
      "123456\n",
      "123456\n"
     ]
    }
   ],
   "source": [
    "row = int(input())\n",
    "col = int(input())\n",
    "\n",
    "for i in range(1,row+1):\n",
    "    for j in range(1,col+1):\n",
    "        print(j, end = \"\")\n",
    "    print()    "
   ]
  },
  {
   "cell_type": "raw",
   "id": "cfc9626e",
   "metadata": {},
   "source": [
    "PROBLEM 2) Triangle - Left Justified. Draw a right-angled triangle of a given height.\n",
    "Sample Input: 4\n",
    "Sample Output:\n",
    "*\n",
    "**\n",
    "***\n",
    "****"
   ]
  },
  {
   "cell_type": "code",
   "execution_count": 70,
   "id": "f61367bd",
   "metadata": {},
   "outputs": [
    {
     "name": "stdout",
     "output_type": "stream",
     "text": [
      "4\n",
      "*\n",
      "**\n",
      "***\n",
      "****\n"
     ]
    }
   ],
   "source": [
    "row = int(input())\n",
    "\n",
    "for i in range(1,row+1):\n",
    "    for j in range(1,i+1):\n",
    "        print(\"*\", end = \"\")\n",
    "    print()"
   ]
  },
  {
   "cell_type": "raw",
   "id": "98fbcaa3",
   "metadata": {},
   "source": [
    "PROBLEM 3) Triangle - Left Justified. Draw a right-angled triangle of a given height.\n",
    "Sample Input: 4\n",
    "Sample Output :\n",
    "1\n",
    "12\n",
    "123\n",
    "1234"
   ]
  },
  {
   "cell_type": "code",
   "execution_count": 145,
   "id": "97b9cef3",
   "metadata": {},
   "outputs": [
    {
     "name": "stdout",
     "output_type": "stream",
     "text": [
      "4\n",
      "1\n",
      "12\n",
      "123\n",
      "1234\n"
     ]
    }
   ],
   "source": [
    "row = int(input())\n",
    "\n",
    "for i in range(1,row+1):\n",
    "    for j in range(1,i+1):\n",
    "        print(j, end = \"\")\n",
    "    print()"
   ]
  },
  {
   "cell_type": "raw",
   "id": "c61f8e78",
   "metadata": {},
   "source": [
    "PROBLEM 4) Triangle - Right Justified. Draw a right-angled triangle of a given height.\n",
    "Sample Input: 4\n",
    "Sample Output:\n",
    "      *\n",
    "    * *\n",
    "  * * *\n",
    "* * * *\n",
    "Hint: Count and print the appropriate number of spaces in front of stars. Notice that there is one less\n",
    "space and one more star in each line."
   ]
  },
  {
   "cell_type": "code",
   "execution_count": 8,
   "id": "a160ca1a",
   "metadata": {},
   "outputs": [
    {
     "name": "stdout",
     "output_type": "stream",
     "text": [
      "4\n",
      "   *\n",
      "  **\n",
      " ***\n",
      "****\n"
     ]
    }
   ],
   "source": [
    "row = int(input())\n",
    "\n",
    "for i in range(1,row+1):\n",
    "    for j in range(1,(row-i)+1):\n",
    "        print(\" \", end = \"\")\n",
    "    for k in range(1,i+1):\n",
    "        print(\"*\", end = \"\")               \n",
    "    print() "
   ]
  },
  {
   "cell_type": "raw",
   "id": "75417e6d",
   "metadata": {},
   "source": [
    "PROBLEM 5) Triangle - Right Justified, Draw right-angled triangle of a given height.\n",
    "Sample Input: 5\n",
    "Sample Output:\n",
    "        1\n",
    "      1 2\n",
    "    1 2 3\n",
    "  1 2 3 4\n",
    "1 2 3 4 5"
   ]
  },
  {
   "cell_type": "code",
   "execution_count": 4,
   "id": "d4653feb",
   "metadata": {},
   "outputs": [
    {
     "name": "stdout",
     "output_type": "stream",
     "text": [
      "5\n",
      "    1\n",
      "   12\n",
      "  123\n",
      " 1234\n",
      "12345\n"
     ]
    }
   ],
   "source": [
    "# row = int(input())\n",
    "\n",
    "# for i in range(1,row+1):\n",
    "#     for j in range(1,(row-i)+1):\n",
    "#         print(\" \", end = \"\")\n",
    "#     for k in range(1,i+1):\n",
    "#         print(k, end = \"\")               \n",
    "#     print() \n",
    "\n",
    "row = int(input())\n",
    "\n",
    "for i in range(1,row+1):\n",
    "    for j in range(1,(row-i)+1):\n",
    "        print(\" \", end = \"\")\n",
    "    for k in range(1,i+1):\n",
    "        print(k, end = \"\")   \n",
    "    for j in range(1,(row)+i,-1):\n",
    "        print(j, end = \"\")    \n",
    "    print() "
   ]
  },
  {
   "cell_type": "raw",
   "id": "1f234eca",
   "metadata": {},
   "source": [
    "PROBLEM 6) Triangle - Isosceles. Draw a triangle of a given height.\n",
    "Sample Input 1: 3\n",
    "Sample Output 1:\n",
    "    *\n",
    "  * * *\n",
    "* * * * *"
   ]
  },
  {
   "cell_type": "code",
   "execution_count": 144,
   "id": "f867c9c1",
   "metadata": {},
   "outputs": [
    {
     "name": "stdout",
     "output_type": "stream",
     "text": [
      "3\n",
      "  *\n",
      " ***\n",
      "*****\n"
     ]
    }
   ],
   "source": [
    "row = int(input())\n",
    "\n",
    "for i in range(1,row+1):\n",
    "    for j in range(1,(row-i)+1):\n",
    "        print(\" \", end = \"\")  \n",
    "    for k in range(1,(2*i+1)-1):   \n",
    "        print(\"*\", end = \"\")  \n",
    "    print()              "
   ]
  },
  {
   "cell_type": "raw",
   "id": "7526ebb7",
   "metadata": {},
   "source": [
    "PROBLEM 7) Triangle - Isosceles. Draw a triangle of a given height.\n",
    "Sample Input 2: 4\n",
    "Sample Output 2:\n",
    "      1\n",
    "    1 2 3\n",
    "  1 2 3 4 5\n",
    "1 2 3 4 5 6 7"
   ]
  },
  {
   "cell_type": "code",
   "execution_count": 82,
   "id": "50f9452e",
   "metadata": {},
   "outputs": [
    {
     "name": "stdout",
     "output_type": "stream",
     "text": [
      "4\n",
      "   1\n",
      "  123\n",
      " 12345\n",
      "1234567\n"
     ]
    }
   ],
   "source": [
    "row = int(input())\n",
    "\n",
    "for i in range(1,row+1):\n",
    "    for j in range(1,(row-i)+1):\n",
    "        print(\" \", end = \"\")  \n",
    "    for k in range(1,(2*i+1)-1):   \n",
    "        print(k, end = \"\")  \n",
    "    print()        "
   ]
  },
  {
   "cell_type": "raw",
   "id": "5ac516e9",
   "metadata": {},
   "source": [
    "PROBLEM 8) Rhombus. Just draw the image of the above triangle once. And then, the opposite, once.\n",
    "Sample Input: 3\n",
    "Sample Output:\n",
    "    *\n",
    "  * * *\n",
    "* * * * *\n",
    "  * * *\n",
    "    *"
   ]
  },
  {
   "cell_type": "code",
   "execution_count": 130,
   "id": "f362e100",
   "metadata": {},
   "outputs": [
    {
     "name": "stdout",
     "output_type": "stream",
     "text": [
      "3\n",
      "  *\n",
      " ***\n",
      "*****\n",
      " ***\n",
      "  *\n"
     ]
    }
   ],
   "source": [
    "row = int(input())\n",
    "\n",
    "for i in range(1,row+1):\n",
    "    for j in range(1,(row-i)+1):\n",
    "        print(\" \", end = \"\")  \n",
    "    for k in range(1,(2*i+1)-1):   \n",
    "        print(\"*\", end = \"\")  \n",
    "    print()        \n",
    "\n",
    "for i in range(1,row):   \n",
    "    for j in range(1,i+1):\n",
    "         print(\" \", end = \"\")  \n",
    "    for k in range(1,((row-2*i)+row)):\n",
    "            print(\"*\", end = \"\")  \n",
    "    print()        "
   ]
  },
  {
   "cell_type": "raw",
   "id": "bbe42f4b",
   "metadata": {},
   "source": [
    "PROBLEM 9) Rhombus. Just draw the image of the above triangle once. And then, the opposite, once.\n",
    "Sample Input: 4\n",
    "Sample Output:\n",
    "      1\n",
    "    1 2 3\n",
    "  1 2 3 4 5\n",
    "1 2 3 4 5 6 7\n",
    "  1 2 3 4 5\n",
    "    1 2 3\n",
    "      1"
   ]
  },
  {
   "cell_type": "code",
   "execution_count": 132,
   "id": "b2843e7b",
   "metadata": {},
   "outputs": [
    {
     "name": "stdout",
     "output_type": "stream",
     "text": [
      "4\n",
      "   1\n",
      "  123\n",
      " 12345\n",
      "1234567\n",
      " 12345\n",
      "  123\n",
      "   1\n"
     ]
    }
   ],
   "source": [
    "row = int(input())\n",
    "\n",
    "for i in range(1,row+1):\n",
    "    for j in range(1,(row-i)+1):\n",
    "        print(\" \", end = \"\")  \n",
    "    for k in range(1,(2*i+1)-1):   \n",
    "        print(k, end = \"\")  \n",
    "    print()        \n",
    "\n",
    "for i in range(1,row):   \n",
    "    for j in range(1,i+1):\n",
    "         print(\" \", end = \"\")  \n",
    "    for k in range(1,(row-2*i)+row):\n",
    "            print(k, end = \"\")  \n",
    "    print()         "
   ]
  },
  {
   "cell_type": "raw",
   "id": "2f86d4e0",
   "metadata": {},
   "source": [
    "PROBLEM 10) Hollow Rectangle. Display a rectangle of a given length and width.\n",
    "Sample Input: 4, 5\n",
    "Sample Output:\n",
    "* * * * *\n",
    "*       *\n",
    "*       *\n",
    "* * * * *\n",
    "Hint 1: Print the character space (‘ ‘) in the middle.\n",
    "Hint 2: You can re-use your solution to PROBLEM 2 and use if condition to selectively print the first and\n",
    "the last star of each line and all-stars of the first and last line."
   ]
  },
  {
   "cell_type": "code",
   "execution_count": 141,
   "id": "72a54005",
   "metadata": {},
   "outputs": [
    {
     "name": "stdout",
     "output_type": "stream",
     "text": [
      "4\n",
      "5\n",
      "*****\n",
      "*   *\n",
      "*   *\n",
      "*****\n"
     ]
    }
   ],
   "source": [
    "len1 = int(input())\n",
    "wid1 = int(input())\n",
    "\n",
    "for i in range(1,len1+1):\n",
    "    for j in range(1,wid1+1):\n",
    "        if i == 1 or i == len1 or j == 1 or j == wid1:\n",
    "            print(\"*\", end = \"\")\n",
    "        else:\n",
    "            print(\" \", end = \"\")\n",
    "    print()    "
   ]
  },
  {
   "cell_type": "raw",
   "id": "1bbe66ac",
   "metadata": {},
   "source": [
    "PROBLEM 11) Hollow Rectangle. Display a rectangle of a given length and width.\n",
    "Sample Input:\n",
    "4\n",
    "5\n",
    "Sample Output:\n",
    "1 2 3 4 5\n",
    "1       5\n",
    "1       5\n",
    "1 2 3 4 5"
   ]
  },
  {
   "cell_type": "code",
   "execution_count": 143,
   "id": "3b6ea8b0",
   "metadata": {},
   "outputs": [
    {
     "name": "stdout",
     "output_type": "stream",
     "text": [
      "4\n",
      "5\n",
      "12345\n",
      "1   5\n",
      "1   5\n",
      "12345\n"
     ]
    }
   ],
   "source": [
    "len1 = int(input())\n",
    "wid1 = int(input())\n",
    "\n",
    "for i in range(1,len1+1):\n",
    "    for j in range(1,wid1+1):\n",
    "        if i == 1 or i == len1 or j == 1 or j == wid1:\n",
    "            print(j, end = \"\")\n",
    "        else:\n",
    "            print(\" \", end = \"\")\n",
    "    print()    "
   ]
  },
  {
   "cell_type": "raw",
   "id": "1b321ab1",
   "metadata": {},
   "source": [
    "PROBLEM 12) Triangle - Left Justified Draw right-angled triangle of\n",
    "given height Sample Input: 5\n",
    "Sample Output\n",
    "*\n",
    "* *\n",
    "*   *\n",
    "*     *\n",
    "* * * * *"
   ]
  },
  {
   "cell_type": "code",
   "execution_count": 158,
   "id": "742b81e6",
   "metadata": {},
   "outputs": [
    {
     "name": "stdout",
     "output_type": "stream",
     "text": [
      "5\n",
      "*\n",
      "**\n",
      "* *\n",
      "*  *\n",
      "*****\n"
     ]
    }
   ],
   "source": [
    "row = int(input())\n",
    "\n",
    "for i in range(1,row+1):\n",
    "    for j in range(1,i+1):    \n",
    "        if j == 1 or j == i or i == row:\n",
    "            print(\"*\", end = \"\")\n",
    "        else:\n",
    "            print(\" \", end = \"\")\n",
    "    print()    "
   ]
  },
  {
   "cell_type": "raw",
   "id": "68032306",
   "metadata": {},
   "source": [
    "PROBLEM 13) Hollow Triangle - Left Justified. Draw a right-angled triangle of a given height.\n",
    "Sample Input: 5\n",
    "Sample Output:\n",
    "1\n",
    "1 2\n",
    "1   3\n",
    "1     4\n",
    "1 2 3 4 5"
   ]
  },
  {
   "cell_type": "code",
   "execution_count": 159,
   "id": "7d7900e8",
   "metadata": {},
   "outputs": [
    {
     "name": "stdout",
     "output_type": "stream",
     "text": [
      "5\n",
      "1\n",
      "12\n",
      "1 3\n",
      "1  4\n",
      "12345\n"
     ]
    }
   ],
   "source": [
    "row = int(input())\n",
    "\n",
    "for i in range(1,row+1):\n",
    "    for j in range(1,i+1):    \n",
    "        if j == 1 or j == i or i == row:\n",
    "            print(j, end = \"\")\n",
    "        else:\n",
    "            print(\" \", end = \"\")\n",
    "    print()    "
   ]
  },
  {
   "cell_type": "raw",
   "id": "2fab48b8",
   "metadata": {},
   "source": [
    "PROBLEM 14) Hollow Triangle Draw right-angled triangle of given\n",
    "height Sample Input: 5\n",
    "Sample Output:\n",
    "        *\n",
    "      * *\n",
    "    *   *\n",
    "  *     *\n",
    "* * * * *"
   ]
  },
  {
   "cell_type": "code",
   "execution_count": 31,
   "id": "280efc22",
   "metadata": {},
   "outputs": [
    {
     "name": "stdout",
     "output_type": "stream",
     "text": [
      "5\n",
      "    *\n",
      "   **\n",
      "  * *\n",
      " *  *\n",
      "*****\n"
     ]
    }
   ],
   "source": [
    "row = int(input())\n",
    "\n",
    "for i in range(1,row+1):\n",
    "    for j in range(1,row-i+1):\n",
    "        print(\" \", end = \"\")\n",
    "    for k in range(1,i+1):\n",
    "        if i == row or k == 1 or k == i:         \n",
    "            print(\"*\", end = \"\")\n",
    "        else:\n",
    "            print(\" \", end = \"\")\n",
    "    print()"
   ]
  },
  {
   "cell_type": "raw",
   "id": "c150525f",
   "metadata": {},
   "source": [
    "PROBLEM 15) Hollow Triangle Draw right-angled triangle of a given height.\n",
    "Sample Input: 5\n",
    "Sample Output :\n",
    "        1\n",
    "      1 2\n",
    "    1   3\n",
    "  1     4\n",
    "1 2 3 4 5"
   ]
  },
  {
   "cell_type": "code",
   "execution_count": 11,
   "id": "5a95e8f2",
   "metadata": {},
   "outputs": [
    {
     "name": "stdout",
     "output_type": "stream",
     "text": [
      "4\n",
      "   1\n",
      "  12\n",
      " 1 3\n",
      "1234\n"
     ]
    }
   ],
   "source": [
    "row = int(input())\n",
    "\n",
    "for i in range(1,row+1):\n",
    "    for j in range(1,row-i+1):\n",
    "        print(\" \", end = \"\")\n",
    "    for k in range(1,i+1):\n",
    "        if k == 1 or k == i or i == row:\n",
    "#         if i == row or k == 1 or k == i:         \n",
    "            print(k, end = \"\")\n",
    "        else:\n",
    "            print(\" \", end = \"\")\n",
    "    print()"
   ]
  },
  {
   "cell_type": "raw",
   "id": "68739ea7",
   "metadata": {},
   "source": [
    "PROBLEM 16) Hollow Triangle – Isosceles. Draw a triangle of a given height.\n",
    "Sample Input 1: 3\n",
    "Sample Output 1:\n",
    "    1\n",
    "  1   3\n",
    "1 2 3 4 5"
   ]
  },
  {
   "cell_type": "code",
   "execution_count": 32,
   "id": "50913444",
   "metadata": {},
   "outputs": [
    {
     "name": "stdout",
     "output_type": "stream",
     "text": [
      "4\n",
      "   1\n",
      "  1 3\n",
      " 1   5\n",
      "1234567\n"
     ]
    }
   ],
   "source": [
    "row = int(input())\n",
    "\n",
    "for i in range(1,row+1):\n",
    "    for j in range(1,row-i+1):        \n",
    "        print(\" \", end = \"\")\n",
    "    for k in range(1,2*i):\n",
    "        if k == 1 or k == 2*i-1 or i == row:\n",
    "            print(k, end = \"\")\n",
    "        else:\n",
    "            print(\" \", end = \"\")   \n",
    "    print()     "
   ]
  },
  {
   "cell_type": "raw",
   "id": "764f0a85",
   "metadata": {},
   "source": [
    "PROBLEM 17) Rhombus, Just draw the image of the above triangle once. And then, the opposite, once.\n",
    "Sample Input: 4\n",
    "Sample Output :\n",
    "      1\n",
    "    1   3\n",
    "  1       5\n",
    "1           7\n",
    "  1       5\n",
    "    1   3\n",
    "      1"
   ]
  },
  {
   "cell_type": "code",
   "execution_count": 57,
   "id": "0b9746de",
   "metadata": {},
   "outputs": [
    {
     "name": "stdout",
     "output_type": "stream",
     "text": [
      "4\n",
      "   1\n",
      "  1 3\n",
      " 1   5\n",
      "1234567\n",
      " 1   5\n",
      "  1 3\n",
      "   1\n"
     ]
    }
   ],
   "source": [
    "row = int(input())\n",
    "\n",
    "for i in range(1, 2*row):\n",
    "    if i <= row:\n",
    "        for j in range(1,row-i+1):\n",
    "            print(\" \", end = \"\")   \n",
    "    else:        \n",
    "        for j in range(1,i-row+1):\n",
    "            print(\" \", end = \"\")   \n",
    "            \n",
    "    if i <= row:        \n",
    "        for j in range(1,2*i):\n",
    "            if i == row or j == 1 or j == 2*i-1:\n",
    "                print(j, end = \"\")\n",
    "            else:\n",
    "                print(\" \", end = \"\")            \n",
    "\n",
    "    else:                \n",
    "        for j in range(1,row**2-2*i):  \n",
    "            if i == 2*row-1 or j == 1 or j == row**2-2*i-1:\n",
    "                print(j, end = \"\")\n",
    "            else:\n",
    "                print(\" \", end = \"\")                                 \n",
    "    print()        "
   ]
  },
  {
   "cell_type": "raw",
   "id": "d92043bf",
   "metadata": {},
   "source": [
    "PROBLEM 18) Palindrome.\n",
    "Palindrome: A palindrome is a word, number, phrase, or other sequence of characters that reads the\n",
    "same backward as forward, such as madam or racecar, 1234321, 62826.\n",
    "\n",
    "Sample Input: 5\n",
    "Sample Output:\n",
    "123454321"
   ]
  },
  {
   "cell_type": "code",
   "execution_count": 98,
   "id": "fc37fe8d",
   "metadata": {},
   "outputs": [
    {
     "name": "stdout",
     "output_type": "stream",
     "text": [
      "5\n",
      "123454321"
     ]
    }
   ],
   "source": [
    "num = int(input())\n",
    "\n",
    "for i in range(1,num+1):\n",
    "    print(i, end = \"\")\n",
    "for i in range(num-1,0,-1):\n",
    "    print(i, end = \"\")"
   ]
  },
  {
   "cell_type": "raw",
   "id": "0e1b30d7",
   "metadata": {},
   "source": [
    "PROBLEM19) Palindromic Triangle\n",
    "Sample Input: 4\n",
    "Sample Output:\n",
    "# # # 1 # # #\n",
    "# # 1 2 1 # #\n",
    "# 1 2 3 2 1 #\n",
    "1 2 3 4 3 2 1"
   ]
  },
  {
   "cell_type": "code",
   "execution_count": 14,
   "id": "c518c836",
   "metadata": {},
   "outputs": [
    {
     "name": "stdout",
     "output_type": "stream",
     "text": [
      "4\n",
      "###1###\n",
      "##121##\n",
      "#12321#\n",
      "1234321\n"
     ]
    }
   ],
   "source": [
    "row = int(input())\n",
    "\n",
    "for i in range(1,row+1):\n",
    "     for k in range(1,row-i+1):\n",
    "        print(\"#\", end = \"\")\n",
    "     for k in range(1,i+1):\n",
    "        print(k, end = \"\")\n",
    "\n",
    "     for k in range(i-1,0,-1):\n",
    "        print(k, end = \"\")        \n",
    "     for k in range(row-i,0,-1):\n",
    "        print(\"#\", end = \"\")\n",
    "     print()          "
   ]
  },
  {
   "cell_type": "raw",
   "id": "fd1c226b",
   "metadata": {},
   "source": [
    "PROBLEM 20) Write a python program that prints alphabet pattern 'Z' of size N using * where N will be\n",
    "given as input.\n",
    "Sample Input1: 5\n",
    "Sample Output1:\n",
    "C1 C2 C3 C4 C5\n",
    "L1 * * * * *\n",
    "L2      *\n",
    "L3    *\n",
    "L4  *\n",
    "L5 * * * * *"
   ]
  },
  {
   "cell_type": "code",
   "execution_count": 56,
   "id": "2ade8552",
   "metadata": {},
   "outputs": [
    {
     "name": "stdout",
     "output_type": "stream",
     "text": [
      "4\n",
      "****\n",
      "  * \n",
      " *  \n",
      "****\n"
     ]
    }
   ],
   "source": [
    "row = int(input())\n",
    "\n",
    "for i in range(1,row+1):\n",
    "    for j in range(1,row+1):\n",
    "        if i == 1 or i == row or j == row-i+1:\n",
    "            print(\"*\", end = \"\")\n",
    "        else:\n",
    "            print(\" \", end = \"\")\n",
    "    print()        "
   ]
  },
  {
   "cell_type": "code",
   "execution_count": null,
   "id": "b6980a78",
   "metadata": {},
   "outputs": [],
   "source": []
  }
 ],
 "metadata": {
  "kernelspec": {
   "display_name": "Python 3 (ipykernel)",
   "language": "python",
   "name": "python3"
  },
  "language_info": {
   "codemirror_mode": {
    "name": "ipython",
    "version": 3
   },
   "file_extension": ".py",
   "mimetype": "text/x-python",
   "name": "python",
   "nbconvert_exporter": "python",
   "pygments_lexer": "ipython3",
   "version": "3.9.7"
  }
 },
 "nbformat": 4,
 "nbformat_minor": 5
}
