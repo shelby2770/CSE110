{
 "cells": [
  {
   "cell_type": "code",
   "execution_count": 8,
   "id": "b4cbd68c",
   "metadata": {},
   "outputs": [
    {
     "name": "stdout",
     "output_type": "stream",
     "text": [
      "13\n",
      "10 Taka: 1 note(s)\n"
     ]
    }
   ],
   "source": [
    "#task-1\n",
    "a=int(input())\n",
    "\n",
    "passho=a//500\n",
    "t100=a%500\n",
    "if passho != 0:\n",
    "     print(\"500 Taka:\",passho,\"note(s)\")   \n",
    "eksho=t100//100\n",
    "t20=t100%100\n",
    "if eksho!= 0:\n",
    "    print(\"100 Taka:\",eksho,\"note(s)\")\n",
    "bish=t20//20\n",
    "t10=t20%20\n",
    "if bish!= 0:\n",
    "    print(\"20 Taka:\",bish,\"note(s)\")\n",
    "dosh=t10//10\n",
    "if dosh!= 0:\n",
    "    print(\"10 Taka:\",dosh,\"note(s)\")\n"
   ]
  },
  {
   "cell_type": "code",
   "execution_count": 2,
   "id": "acc788a0",
   "metadata": {},
   "outputs": [
    {
     "name": "stdout",
     "output_type": "stream",
     "text": [
      "2\n",
      "2\n",
      "4\n",
      "Not a valid triangle\n"
     ]
    }
   ],
   "source": [
    "#task-2\n",
    "a=int(input())\n",
    "b=int(input())\n",
    "c=int(input())\n",
    "if a+b<=c or b+c<=a or c+a<=b:\n",
    "    print(\"Not a valid triangle\")\n",
    "else:\n",
    "    print(\"Valid triangle\")\n",
    "    \n"
   ]
  },
  {
   "cell_type": "code",
   "execution_count": 3,
   "id": "54490676",
   "metadata": {},
   "outputs": [
    {
     "name": "stdout",
     "output_type": "stream",
     "text": [
      "7\n",
      "10\n",
      "5\n",
      "53.88877434122991\n"
     ]
    }
   ],
   "source": [
    "# task-3\n",
    "x=int(input())\n",
    "y=int(input())\n",
    "z=int(input())\n",
    "s=((x+y+z)/2)\n",
    "print(s*((s-x)*(s-y)*(s-z))**0.5)"
   ]
  },
  {
   "cell_type": "code",
   "execution_count": 9,
   "id": "150527bd",
   "metadata": {},
   "outputs": [
    {
     "name": "stdout",
     "output_type": "stream",
     "text": [
      "57\n"
     ]
    }
   ],
   "source": [
    "\n",
    "print(ord(\"9\"))"
   ]
  },
  {
   "cell_type": "code",
   "execution_count": 2,
   "id": "ead2e7e4",
   "metadata": {},
   "outputs": [
    {
     "name": "stdout",
     "output_type": "stream",
     "text": [
      "Please enter number of grp members participated in CSE110:5\n",
      "Please enter your individual CSE marks of mid with your name:shelby 70\n"
     ]
    },
    {
     "ename": "TypeError",
     "evalue": "unsupported operand type(s) for +=: 'int' and 'str'",
     "output_type": "error",
     "traceback": [
      "\u001b[1;31m---------------------------------------------------------------------------\u001b[0m",
      "\u001b[1;31mTypeError\u001b[0m                                 Traceback (most recent call last)",
      "\u001b[1;32m~\\AppData\\Local\\Temp/ipykernel_22360/455199873.py\u001b[0m in \u001b[0;36m<module>\u001b[1;34m\u001b[0m\n\u001b[0;32m     12\u001b[0m     \u001b[0mnum_2\u001b[0m \u001b[1;33m=\u001b[0m \u001b[0minput\u001b[0m\u001b[1;33m(\u001b[0m\u001b[1;34m\"Please enter your individual CSE marks of mid with your name:\"\u001b[0m\u001b[1;33m)\u001b[0m\u001b[1;33m\u001b[0m\u001b[1;33m\u001b[0m\u001b[0m\n\u001b[0;32m     13\u001b[0m     \u001b[0mj\u001b[0m\u001b[1;33m.\u001b[0m\u001b[0mappend\u001b[0m\u001b[1;33m(\u001b[0m\u001b[0mnum_2\u001b[0m\u001b[1;33m)\u001b[0m\u001b[1;33m\u001b[0m\u001b[1;33m\u001b[0m\u001b[0m\n\u001b[1;32m---> 14\u001b[1;33m     \u001b[0msum\u001b[0m\u001b[1;33m+=\u001b[0m \u001b[0mnum_2\u001b[0m\u001b[1;33m\u001b[0m\u001b[1;33m\u001b[0m\u001b[0m\n\u001b[0m\u001b[0;32m     15\u001b[0m \u001b[1;33m\u001b[0m\u001b[0m\n\u001b[0;32m     16\u001b[0m \u001b[1;32mfor\u001b[0m \u001b[0mi\u001b[0m \u001b[1;32min\u001b[0m \u001b[0mrange\u001b[0m\u001b[1;33m(\u001b[0m\u001b[1;36m1\u001b[0m\u001b[1;33m,\u001b[0m\u001b[0mnum_1\u001b[0m\u001b[1;33m+\u001b[0m\u001b[1;36m1\u001b[0m\u001b[1;33m)\u001b[0m\u001b[1;33m:\u001b[0m\u001b[1;33m\u001b[0m\u001b[1;33m\u001b[0m\u001b[0m\n",
      "\u001b[1;31mTypeError\u001b[0m: unsupported operand type(s) for +=: 'int' and 'str'"
     ]
    }
   ],
   "source": [
    "import math\n",
    "\n",
    "num_1 = int(input(\"Please enter number of grp members participated in CSE110:\")) \n",
    "              \n",
    "checker_1 =  (-1)*math.inf\n",
    "checker_2 = math.inf\n",
    "counter = 0\n",
    "sum = 0\n",
    "j = [0]\n",
    "\n",
    "for i in range(1,num_1+1):\n",
    "    num_2 = input(\"Please enter your individual CSE marks of mid with your name:\")\n",
    "    int(j.append(num_2))\n",
    "    sum+= intnum_2\n",
    "\n",
    "for i in range(1,num_1+1):\n",
    "    if j[i]>checker_1: \n",
    "        checker_1 = j[i] \n",
    "print(\"Maximum\", checker_1)\n",
    "\n",
    "for i in range(1,num_1+1): \n",
    "    if j[i]<checker_2:\n",
    "        checker_2 = j[i] \n",
    "print(\"Minimum\", checker_2)\n",
    "\n",
    "print(\"Average is\", avg)\n",
    "s = input(\"\")\n",
    "\n",
    "result = \"\""
   ]
  },
  {
   "cell_type": "code",
   "execution_count": 3,
   "id": "235996b7",
   "metadata": {},
   "outputs": [
    {
     "name": "stdout",
     "output_type": "stream",
     "text": [
      "samir 17\n"
     ]
    },
    {
     "ename": "ValueError",
     "evalue": "invalid literal for int() with base 10: 'samir 17'",
     "output_type": "error",
     "traceback": [
      "\u001b[1;31m---------------------------------------------------------------------------\u001b[0m",
      "\u001b[1;31mValueError\u001b[0m                                Traceback (most recent call last)",
      "\u001b[1;32m~\\AppData\\Local\\Temp/ipykernel_22360/1854962473.py\u001b[0m in \u001b[0;36m<module>\u001b[1;34m\u001b[0m\n\u001b[0;32m      1\u001b[0m \u001b[0mnum_2\u001b[0m \u001b[1;33m=\u001b[0m \u001b[0minput\u001b[0m\u001b[1;33m(\u001b[0m\u001b[1;33m)\u001b[0m\u001b[1;33m\u001b[0m\u001b[1;33m\u001b[0m\u001b[0m\n\u001b[1;32m----> 2\u001b[1;33m \u001b[0mprint\u001b[0m\u001b[1;33m(\u001b[0m\u001b[0mint\u001b[0m\u001b[1;33m(\u001b[0m\u001b[0mnum_2\u001b[0m\u001b[1;33m)\u001b[0m\u001b[1;33m)\u001b[0m\u001b[1;33m\u001b[0m\u001b[1;33m\u001b[0m\u001b[0m\n\u001b[0m",
      "\u001b[1;31mValueError\u001b[0m: invalid literal for int() with base 10: 'samir 17'"
     ]
    }
   ],
   "source": [
    "num_2 = input()\n",
    "print(int(num_2))"
   ]
  },
  {
   "cell_type": "code",
   "execution_count": 5,
   "id": "f5061b01",
   "metadata": {},
   "outputs": [
    {
     "name": "stdout",
     "output_type": "stream",
     "text": [
      "Please enter number of grp members participated in CSE110:2\n",
      "Please enter your individual CSE marks of mid with your name:badhon 73\n",
      "Please enter your individual CSE marks of mid with your name:adnan 12\n",
      "Maximum 73\n",
      "Minimum 12\n",
      "Average is 42.5\n"
     ]
    }
   ],
   "source": [
    "import math\n",
    "num_1 = int(input(\"Please enter number of grp members participated in CSE110:\")) \n",
    "\n",
    "checker_1 = (-1)*math.inf\n",
    "checker_2 = math.inf\n",
    "counter = 0\n",
    "sum = 0\n",
    "a = [0]\n",
    "\n",
    "for i in range(num_1):\n",
    "#     num_1 = input(\"Name:\")\n",
    "    num_2 = input(\"Please enter your individual CSE marks of mid with your name:\")\n",
    "    \n",
    "    num_3 = num_2[-2::1]\n",
    "    num_4 = int(num_3)        \n",
    "    sum+= num_4\n",
    "    if num_4> checker_1:\n",
    "        checker_1 = num_4\n",
    "    elif num_4< checker_2:\n",
    "        checker_2 = num_4\n",
    "    counter+= 1\n",
    "avg = sum/counter\n",
    "\n",
    "if str(checker_1) in num_2:\n",
    "    print(num_2)\n",
    "print(\"Maximum\", checker_1)\n",
    "print(\"Minimum\", checker_2)\n",
    "print(\"Average is\", avg)"
   ]
  },
  {
   "cell_type": "code",
   "execution_count": 3,
   "id": "8ca03082",
   "metadata": {},
   "outputs": [
    {
     "name": "stdout",
     "output_type": "stream",
     "text": [
      "Please enter number of grp members participated in CSE110:3\n",
      "Please enter your individual CSE marks of mid with your name:18\n",
      "Please enter your individual CSE marks of mid with your name:19\n",
      "Please enter your individual CSE marks of mid with your name:20\n",
      "je halay 20 paisos or ei semester e r study korar lagbo nah r ore Plaban re nia pidamu\n",
      "Congratulations to u all\n"
     ]
    }
   ],
   "source": [
    "###Write a python program if anyone get highest number in 'CSE110 mid' and more than 10 marks then he won't attend in grp study. And if anyone get 20 marks then he will get bitten by us along with Plaban and give us treat to Chillox. If everybody gets more than 10, then congratulate them. If everybody gets less than or equal 10 marks, then all of them will do grp study. And, if anyone gets less than 5 marks then tell him not to suicide, just do chill and eat ganja.\n",
    "\n",
    "\n",
    "\n",
    "\n",
    "\n",
    "import math\n",
    "num_1 = int(input(\"Please enter number of grp members participated in CSE110:\")) \n",
    "\n",
    "checker_1 = -math.inf\n",
    "checker_2 = math.inf\n",
    "j = [0]\n",
    "counter = 0\n",
    "sum = 0\n",
    "\n",
    "for i in range(1,num_1+1):\n",
    "    num_2 = int(input(\"Please enter your individual CSE marks of mid with your name:\"))\n",
    "    j.append(num_2)\n",
    "    sum+= num_2\n",
    "    counter+= 1\n",
    "\n",
    "for i in range(1,num_1+1):\n",
    "    if j[i]>checker_1: \n",
    "        checker_1 = j[i] \n",
    "\n",
    "if checker_1<= 10:\n",
    "    print(\"Sobai mile grp study krbo final e kopabo\")\n",
    "elif 10<checker_1<20:  \n",
    "    print(\"je madac**D\", checker_1, \"paisos mara kha tor grp study lagbo nah\")\n",
    "if checker_1== 20:\n",
    "    print(\"je halay\", checker_1, \"paisos or ei semester e r study korar lagbo nah r ore Plaban re nia pidamu\")\n",
    "    \n",
    "for i in range(1,num_1+1): \n",
    "    if j[i]<checker_2:\n",
    "        checker_2 = j[i] \n",
    "    if checker_2>= 10:\n",
    "        print(\"Congratulations to u all\")\n",
    "        break\n",
    "    if  checker_2< 5:\n",
    "        print(\"no need to suicide just gaja khabo ati ati mod khabo bati bati\")\n",
    "        break\n",
    "        \n",
    "# print(\"Minimum\", checker_2)\n",
    "\n",
    "# print(\"Average is\", avg)\n"
   ]
  },
  {
   "cell_type": "markdown",
   "id": "153a8fe5",
   "metadata": {},
   "source": [
    "#### "
   ]
  }
 ],
 "metadata": {
  "kernelspec": {
   "display_name": "Python 3 (ipykernel)",
   "language": "python",
   "name": "python3"
  },
  "language_info": {
   "codemirror_mode": {
    "name": "ipython",
    "version": 3
   },
   "file_extension": ".py",
   "mimetype": "text/x-python",
   "name": "python",
   "nbconvert_exporter": "python",
   "pygments_lexer": "ipython3",
   "version": "3.9.7"
  }
 },
 "nbformat": 4,
 "nbformat_minor": 5
}
