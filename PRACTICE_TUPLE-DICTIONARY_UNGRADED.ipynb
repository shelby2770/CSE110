{
 "cells": [
  {
   "cell_type": "code",
   "execution_count": 2,
   "id": "a341e662",
   "metadata": {},
   "outputs": [
    {
     "name": "stdout",
     "output_type": "stream",
     "text": [
      "\"1232, 4455, 1234, 9876, 1111\"\n",
      "((1232, 4455, 1111), (1234, 9876))\n"
     ]
    }
   ],
   "source": [
    "#Tuple TASK 1\n",
    "str_1= input()[1:-1]\n",
    "list_1= str_1.split(\", \")\n",
    "\n",
    "magic_num= []\n",
    "non_magic_num= []\n",
    "for i in list_1:\n",
    "    sum_1=0\n",
    "    sum_2=0\n",
    "    counter= 2\n",
    "    for j in i:\n",
    "        if counter==2:\n",
    "            sum_1+= int(j)\n",
    "            counter+= 1\n",
    "        else:\n",
    "            sum_2+= int(j)\n",
    "            counter-= 1    \n",
    "    if sum_1== sum_2:\n",
    "        magic_num.append(int(i))\n",
    "    else:\n",
    "        non_magic_num.append(int(i)) \n",
    "print((tuple(magic_num), tuple((non_magic_num))))  "
   ]
  },
  {
   "cell_type": "code",
   "execution_count": 47,
   "id": "657b960f",
   "metadata": {},
   "outputs": [
    {
     "name": "stdout",
     "output_type": "stream",
     "text": [
      "\"RGBRRGBBR\"\n",
      "('Red', 4, 'Green', 2, 'Blue', 3)\n"
     ]
    }
   ],
   "source": [
    "#Tuple TASK 2\n",
    "str_1= input()[1:-1]\n",
    "dict_1 = {\"Red\": 0, \"Green\": 0, \"Blue\": 0}\n",
    "\n",
    "for i in str_1:\n",
    "    if i == \"R\":\n",
    "        dict_1['Red']+= 1\n",
    "    elif i == \"G\":\n",
    "        dict_1['Green']+= 1\n",
    "    else:\n",
    "        dict_1['Blue']+= 1\n",
    "tuple_1= ()\n",
    "for i in dict_1:\n",
    "    if dict_1[i]!= 0:\n",
    "        tuple_1+= (i, dict_1[i])\n",
    "print(tuple_1)"
   ]
  },
  {
   "cell_type": "code",
   "execution_count": 3,
   "id": "cbeae5cb",
   "metadata": {},
   "outputs": [
    {
     "name": "stdout",
     "output_type": "stream",
     "text": [
      "((33, 22, 11), (30, 45, 56, 45,20), (81, 90, 39, 45), (1, 2, 3, 4,5,6))\n",
      "Average of tuples: [22.0, 39.2, 63.75, 3.5]\n",
      "Tuple with maximum sum is (81, 90, 39, 45)\n"
     ]
    }
   ],
   "source": [
    "#Tuple TASK 3\n",
    "import math\n",
    "tuple_1 = eval(input())\n",
    "list_1= []\n",
    "tuple_2= ()\n",
    "max= -math.inf\n",
    "for i in tuple_1:\n",
    "    sum= 0\n",
    "    for j in i:\n",
    "        sum+=j\n",
    "    list_1.append(sum/len(i)) \n",
    "    if sum> max:\n",
    "        max= sum \n",
    "        tuple_2= i\n",
    "print(\"Average of tuples:\", list_1) \n",
    "print(\"Tuple with maximum sum is\", tuple_2)"
   ]
  },
  {
   "cell_type": "code",
   "execution_count": 74,
   "id": "3badd7b8",
   "metadata": {},
   "outputs": [
    {
     "name": "stdout",
     "output_type": "stream",
     "text": [
      "{'w': [50], 'x': [100, 300], 'y': ['Green', 'Red'], 'z': [400, 600]}\n"
     ]
    }
   ],
   "source": [
    "#dictionary TASK 1\n",
    "dict1= {'w': 50, 'x': 100, 'y': 'Green', 'z': 400}\n",
    "dict2= {'x': 300, 'y': 'Red', 'z': 600}\n",
    "dict3= {}\n",
    "\n",
    "for k,v in dict1.items():\n",
    "    dict3[k]= [v]\n",
    "for k,v in dict2.items():\n",
    "    if k in dict3:\n",
    "        dict3[k].append(v)\n",
    "    else:\n",
    "        dict3[k]= [v]\n",
    "print(dict3)        "
   ]
  },
  {
   "cell_type": "code",
   "execution_count": 6,
   "id": "cb8935f3",
   "metadata": {},
   "outputs": [
    {
     "name": "stdout",
     "output_type": "stream",
     "text": [
      "{'N': (3,), 'k': [37, 197], 'F': (5, 97), 's': [31]}\n"
     ]
    }
   ],
   "source": [
    "#dictionary TASK 2\n",
    "dict_1={\"N\":(4,9,3),\"k\":[95,37,197],\"F\":(32,5,97),\"s\":[31,94,55]}\n",
    "\n",
    "dict_primes=dict()\n",
    "for k,v in dict_1.items():\n",
    "    if 65<=ord(k)<=90:\n",
    "        dict_primes[k]=()\n",
    "    else:\n",
    "        dict_primes[k]=[]\n",
    "    for i in v:\n",
    "        counter= 0\n",
    "        for j in range(1,i+1):\n",
    "            if i%j== 0:\n",
    "                counter+= 1\n",
    "        if counter== 2:        \n",
    "            if 65<=ord(k)<=90:\n",
    "                dict_primes[k]+=(i,)\n",
    "            else:\n",
    "                dict_primes[k].append(i)\n",
    "print(dict_primes)"
   ]
  },
  {
   "cell_type": "code",
   "execution_count": 84,
   "id": "0db3412c",
   "metadata": {},
   "outputs": [
    {
     "name": "stdout",
     "output_type": "stream",
     "text": [
      "Additive Damage Score is 95\n",
      "The agent's name is Jett\n"
     ]
    }
   ],
   "source": [
    "#dictionary TASK 3\n",
    "given_dict = { \"Normal Skills\":[10,15,20], \"Ultimate Skill\":50 }\n",
    "\n",
    "total_damage= 0\n",
    "\n",
    "for k,v in given_dict.items():\n",
    "    if k== \"Normal Skills\":\n",
    "        for i in v:\n",
    "            total_damage+= i\n",
    "    if k== \"Ultimate Skill\":\n",
    "        total_damage+= v\n",
    "        \n",
    "print(\"Additive Damage Score is\", total_damage)\n",
    "\n",
    "if total_damage<=70:\n",
    "    print(\"The agent's name is\", \"Rage\")\n",
    "elif 70<total_damage<=100:\n",
    "    print(\"The agent's name is\", \"Jett\")\n",
    "else:\n",
    "    print(\"The agent's name is\", \"Sage\")"
   ]
  }
 ],
 "metadata": {
  "kernelspec": {
   "display_name": "Python 3 (ipykernel)",
   "language": "python",
   "name": "python3"
  },
  "language_info": {
   "codemirror_mode": {
    "name": "ipython",
    "version": 3
   },
   "file_extension": ".py",
   "mimetype": "text/x-python",
   "name": "python",
   "nbconvert_exporter": "python",
   "pygments_lexer": "ipython3",
   "version": "3.9.7"
  }
 },
 "nbformat": 4,
 "nbformat_minor": 5
}
