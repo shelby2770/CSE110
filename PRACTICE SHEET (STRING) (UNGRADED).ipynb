{
 "cells": [
  {
   "cell_type": "markdown",
   "id": "66242f7f",
   "metadata": {},
   "source": [
    "###TASK 7\n",
    "\n",
    "Write a Python program that reads a number and displays the multiplication table of the given integer.\n",
    "Sample Input: 15\n",
    "Sample Output :\n",
    "15X1=15\n",
    "15X2=30\n",
    "...\n",
    "...\n",
    "15X10=150"
   ]
  },
  {
   "cell_type": "code",
   "execution_count": 33,
   "id": "f3069718",
   "metadata": {},
   "outputs": [
    {
     "name": "stdout",
     "output_type": "stream",
     "text": [
      "15\n",
      "15X1=15\n",
      "15X2=30\n",
      "15X3=45\n",
      "15X4=60\n",
      "15X5=75\n",
      "15X6=90\n",
      "15X7=105\n",
      "15X8=120\n",
      "15X9=135\n",
      "15X10=150\n"
     ]
    }
   ],
   "source": [
    "num = int(input(\"\"))\n",
    "\n",
    "for i in range(1,11):\n",
    "    print(num, \"X\", i, \"=\", (i*num), sep = \"\") \n",
    "\n"
   ]
  },
  {
   "cell_type": "markdown",
   "id": "7dd4e107",
   "metadata": {},
   "source": [
    "###TASK 6\n",
    "\n",
    "Write a Python program that reads a number and finds the sum of the series of 1 +11 + 111 + 1111 +\n",
    "….+N terms.\n",
    "=====================================================\n",
    "Sample Input1:\n",
    "5\n",
    "Sample Output1:\n",
    "1 + 11 + 111 + 1111 + 11111\n",
    "The Sum is: 1234\n",
    "=====================================================\n",
    "Sample Input2:\n",
    "8\n",
    "Sample Output2:\n",
    "1 + 11 + 111 + 1111 + 11111 + 111111 + 1111111 + 11111111\n",
    "The Sum is: 12345678\n",
    "===================================================="
   ]
  },
  {
   "cell_type": "code",
   "execution_count": 53,
   "id": "2e7c51d6",
   "metadata": {},
   "outputs": [
    {
     "name": "stdout",
     "output_type": "stream",
     "text": [
      "9\n",
      "1+11+111+1111+11111+111111+1111111+11111111+111111111\n",
      "123456789\n"
     ]
    }
   ],
   "source": [
    "num = int(input(\"\"))\n",
    "\n",
    "sum = 0\n",
    "result = \"\"\n",
    "for i in range(1,num+1):\n",
    "    if i!=num:\n",
    "        result+= \"1\"*i + \"+\"\n",
    "    else:\n",
    "        result+= \"1\"*i\n",
    "    sum+= int(\"1\"*i)   \n",
    "print(result)\n",
    "print(sum)"
   ]
  },
  {
   "cell_type": "markdown",
   "id": "c4f7a83d",
   "metadata": {},
   "source": [
    "###5\n",
    "\n",
    "Write a python function that takes a string with multiple numbers separated by commas as input from\n",
    "the user. Extract the numbers from the string and make a list and print it. Multiply the numbers of the\n",
    "list and print the product. [Hint: You can use split()]\n",
    "=====================================================\n",
    "Sample Input1:\n",
    "1,2,3,4,5\n",
    "Sample output1:\n",
    "['1', '2', '3', '4', '5']\n",
    "Product:120\n",
    "=====================================================\n",
    "Sample Input2:\n",
    "10,0,20,3,1\n",
    "Sample Output2:\n",
    "['10', '0', '20','3', '1']\n",
    "Product:0"
   ]
  },
  {
   "cell_type": "code",
   "execution_count": 64,
   "id": "ee71b3de",
   "metadata": {},
   "outputs": [
    {
     "name": "stdout",
     "output_type": "stream",
     "text": [
      "10,0,20,3,1\n",
      "['10', '0', '20', '3', '1']\n",
      "0\n"
     ]
    }
   ],
   "source": [
    "str1 = input(\"\")\n",
    "list1 = str1.split(\",\")\n",
    "print(list1)\n",
    "product = 1\n",
    "\n",
    "for i in list1:\n",
    "    product*= int(i)\n",
    "print(product)"
   ]
  },
  {
   "cell_type": "markdown",
   "id": "241bcc5d",
   "metadata": {},
   "source": [
    "###4\n",
    "\n",
    "Write a Python program to Capitalize the first character of each word in a String [You cannot use the\n",
    "built-in upper() function]\n",
    "Sample Input:\n",
    "I love python programming\n",
    "Sample Output:\n",
    "I Love Python Programming\n",
    "1"
   ]
  },
  {
   "cell_type": "code",
   "execution_count": 1,
   "id": "c70d4202",
   "metadata": {},
   "outputs": [
    {
     "name": "stdout",
     "output_type": "stream",
     "text": [
      "I love python programming\n",
      "I Love Python Programming\n"
     ]
    }
   ],
   "source": [
    "str1 = input(\"\")\n",
    "\n",
    "result = str1[0]\n",
    "seen = str1[0]\n",
    "result1 = str1[0]\n",
    "for i in str1[1::]:\n",
    "    if ord(i)== 32:\n",
    "        if i != seen:\n",
    "            result += i\n",
    "            seen = i\n",
    "        result1+=i    \n",
    "    else:\n",
    "        if seen == \" \":\n",
    "            i = (chr(ord(i)-32))\n",
    "            result += i\n",
    "            seen = i\n",
    "        result1+=i     \n",
    "print(result1) "
   ]
  },
  {
   "cell_type": "markdown",
   "id": "373e39dd",
   "metadata": {},
   "source": [
    "###3\n",
    "\n",
    "Write a Python program that takes two strings from the user. Then remove characters from the first\n",
    "string which are present in the second string. [you are not allowed to use replace() ]\n",
    "\n",
    "Sample Input1:\n",
    "India is great\n",
    "is\n",
    "Sample Output1:\n",
    "nda great\n",
    "=====================================================\n",
    "Sample Input2:\n",
    "this is cSe110 course and we love it\n",
    "lo1iva\n",
    "Sample Output2:\n",
    "ths s cse0 curse nd we e t\n",
    "=====================================================\n",
    "Sample Input3:\n",
    "next course is cse111\n",
    "lo1iva\n",
    "Sample Output3:"
   ]
  },
  {
   "cell_type": "code",
   "execution_count": 19,
   "id": "9b0c8679",
   "metadata": {},
   "outputs": [
    {
     "name": "stdout",
     "output_type": "stream",
     "text": [
      "India is great\n",
      "is\n",
      "nda  great"
     ]
    }
   ],
   "source": [
    "str1 = input(\"\").lower()\n",
    "str2 = input(\"\").lower()\n",
    "\n",
    "for i in str1:\n",
    "    if i not in str2:\n",
    "        print(i, end= \"\")"
   ]
  },
  {
   "cell_type": "markdown",
   "id": "a4d99ed6",
   "metadata": {},
   "source": [
    "###2\n",
    "\n",
    "Write a Python program to find the largest and smallest word in a string.\n",
    "[you are not allowed to use max() and min()]\n",
    "Sample Input :\n",
    "It is a string with the smallest and largest word.\n",
    "Sample Output :\n",
    "The largest word is “smallest” and the smallest word is 'a'."
   ]
  },
  {
   "cell_type": "code",
   "execution_count": 1,
   "id": "11d68bd4",
   "metadata": {},
   "outputs": [
    {
     "name": "stdout",
     "output_type": "stream",
     "text": [
      "It is a string with the smallest and largest word.\n",
      "smallest\n",
      "a\n"
     ]
    }
   ],
   "source": [
    "str1 = input(\"\")\n",
    "largest = \"\"\n",
    "smallest = \"\"\n",
    "index = \"\"\n",
    "\n",
    "for i in str1:\n",
    "    if 65<=ord(i)<=90 or 97<=ord(i)<=122:\n",
    "        index+= i\n",
    "    else:\n",
    "        if len(index)>len(largest):\n",
    "            largest = index  \n",
    "        if len(index)<len(smallest) or smallest == \"\":\n",
    "            smallest = index\n",
    "        index = \"\"    \n",
    "print(largest)          \n",
    "print(smallest)    \n"
   ]
  },
  {
   "cell_type": "markdown",
   "id": "023b6603",
   "metadata": {},
   "source": [
    "###1\n",
    "\n",
    "Write a Python program to count the total number of alphabets, digits, and special characters in a string.\n",
    "Here, space is considered as a special character.\n",
    "====================================================\n",
    "Sample Input:\n",
    "This is CSE110 Course.\n",
    "Sample Output:\n",
    "The number of Alphabets in the string is: 15\n",
    "The number of Digits in the string is : 3\n",
    "The number of Special characters in the string is: 4"
   ]
  },
  {
   "cell_type": "code",
   "execution_count": 3,
   "id": "51dec3c8",
   "metadata": {},
   "outputs": [
    {
     "name": "stdout",
     "output_type": "stream",
     "text": [
      "This is CSE110 Course.\n",
      "15 3 4\n"
     ]
    }
   ],
   "source": [
    "str1 = input(\"\")\n",
    "\n",
    "count = 0\n",
    "count1 = 0\n",
    "count2 = 0\n",
    "for i in str1:\n",
    "    if 65<=ord(i)<=97 or 97<=ord(i)<=122:\n",
    "        count+=1\n",
    "    elif 48<=ord(i)<57:\n",
    "        count1+= 1\n",
    "    else:\n",
    "        count2+= 1\n",
    "        \n",
    "print(count,count1,count2)        \n",
    "        "
   ]
  },
  {
   "cell_type": "code",
   "execution_count": null,
   "id": "b9a77ada",
   "metadata": {},
   "outputs": [],
   "source": []
  }
 ],
 "metadata": {
  "kernelspec": {
   "display_name": "Python 3 (ipykernel)",
   "language": "python",
   "name": "python3"
  },
  "language_info": {
   "codemirror_mode": {
    "name": "ipython",
    "version": 3
   },
   "file_extension": ".py",
   "mimetype": "text/x-python",
   "name": "python",
   "nbconvert_exporter": "python",
   "pygments_lexer": "ipython3",
   "version": "3.9.7"
  }
 },
 "nbformat": 4,
 "nbformat_minor": 5
}
