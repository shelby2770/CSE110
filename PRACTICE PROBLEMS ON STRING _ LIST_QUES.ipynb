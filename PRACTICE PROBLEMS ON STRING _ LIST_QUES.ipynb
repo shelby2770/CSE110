{
 "cells": [
  {
   "cell_type": "markdown",
   "metadata": {
    "id": "6qwMPhvatGjv"
   },
   "source": [
    "# PRACTICE PROBLEMS ON STRING & LIST\n",
    "\n",
    "\n",
    "**<font color='red'>[MUST MAINTAIN VARIABLE NAMING CONVENTIONS FOR ALL THE TASKS]</font>**\n",
    "**<font color='red'>[Solve all the tasks sequentially]</font>**\n"
   ]
  },
  {
   "cell_type": "markdown",
   "metadata": {
    "id": "ZK1C1WratGjy"
   },
   "source": [
    "### Task 1\n",
    "Write a python program that will take a number as an input and check whether the number is Awesome or not. If the number is Awesome, it prints True. Otherwise False.\n",
    "\n",
    "**Awesome number**: a number where every digit is less than its immediate left digit is called an Awesome number. A single-digit number cannot be an awesome number(e.g. 5421 is an Awesome number.)\n",
    "\n",
    "==========================================================\n",
    "\n",
    "**Sample Input1:**\\\n",
    "976321\\\n",
    "**Sample Output1:**\\\n",
    "True\n",
    "\n",
    "==========================================================\n",
    "\n",
    "**Sample Input2:**\\\n",
    "9766321\\\n",
    "**Sample Output2:**\\\n",
    "False\n",
    "\n",
    "==========================================================\n",
    "\n",
    "**Sample Input3:**\\\n",
    "9\\\n",
    "**Sample Output3:**\\\n",
    "False\n",
    "\n",
    "==========================================================\n",
    "\n",
    "**Sample Input4:**\\\n",
    "78\\\n",
    "**Sample Output4:**\\\n",
    "False\n",
    "\n",
    "==========================================================\n",
    "\n",
    "**Sample Input5:**\\\n",
    "87\\\n",
    "**Sample Output4:**\\\n",
    "True\n"
   ]
  },
  {
   "cell_type": "code",
   "execution_count": 20,
   "metadata": {
    "colab": {
     "base_uri": "https://localhost:8080/"
    },
    "executionInfo": {
     "elapsed": 2604,
     "status": "ok",
     "timestamp": 1637034037219,
     "user": {
      "displayName": "Md. Sabbir Ahmed",
      "photoUrl": "https://lh3.googleusercontent.com/a-/AOh14GhHOUIz04PQizqnhmDKdujXn_hRiecRMVQ_BY_P=s64",
      "userId": "09530427780808599624"
     },
     "user_tz": -360
    },
    "id": "noEQAKf5tGj0",
    "outputId": "ba520635-078a-4705-d118-ee5477e1081d"
   },
   "outputs": [
    {
     "name": "stdout",
     "output_type": "stream",
     "text": [
      "979210\n",
      "False\n"
     ]
    }
   ],
   "source": [
    "#TODO 966321\n",
    "\n",
    "num_1 = input()\n",
    "num_2 = num_1[1:]\n",
    "\n",
    "checker = int(num_1[0])\n",
    "\n",
    "awesome = True\n",
    "if len(num_1)>1:\n",
    "    for i in num_2:\n",
    "        if int(i)>=checker:\n",
    "            awesome = False\n",
    "            break\n",
    "        checker = int(i)   \n",
    "    \n",
    "    if awesome == False:\n",
    "        print(\"False\")\n",
    "    if awesome == True:\n",
    "        print(\"True\")\n",
    "           \n",
    "else:\n",
    "    print(\"False\")\n"
   ]
  },
  {
   "cell_type": "markdown",
   "metadata": {
    "id": "KspvGPS6tGj1"
   },
   "source": [
    "### Task 2\n",
    "\n",
    "Write a python program that will take a number a list of numbers(integer) as an input from the user and print whether the number is Awesome or not. \n",
    "\n",
    "==========================================================\n",
    "\n",
    "**Sample Input1:**\\\n",
    "[976321, 321, 9763221, 9742, 876, 3211]\\\n",
    "**Sample Output1:**\\\n",
    "976321 is an awesome number.\\\n",
    "321 is an awesome number.\\\n",
    "9763221 is a not-so-awesome number.\\\n",
    "9742 is an awesome number.\\\n",
    "876 is an awesome number.\\\n",
    "3211 is a not-so-awesome number.\n",
    "\n",
    "==========================================================\n",
    "\n",
    "**Sample Input2:**\\\n",
    "[97821, 97210, 979210]\\\n",
    "**Sample Output2:**\\\n",
    "97821 is a not-so-awesome number.\\\n",
    "97210 is an awesome number.\\\n",
    "979210 is a not-so-awesome number.\n"
   ]
  },
  {
   "cell_type": "code",
   "execution_count": 16,
   "metadata": {
    "colab": {
     "base_uri": "https://localhost:8080/"
    },
    "executionInfo": {
     "elapsed": 7797,
     "status": "ok",
     "timestamp": 1637035011574,
     "user": {
      "displayName": "Md. Sabbir Ahmed",
      "photoUrl": "https://lh3.googleusercontent.com/a-/AOh14GhHOUIz04PQizqnhmDKdujXn_hRiecRMVQ_BY_P=s64",
      "userId": "09530427780808599624"
     },
     "user_tz": -360
    },
    "id": "n6qYzU6atGj1",
    "outputId": "6dea1469-7b24-4122-9368-1529812dbfa4"
   },
   "outputs": [
    {
     "name": "stdout",
     "output_type": "stream",
     "text": [
      "[97821, 97210, 979210]\n",
      "97821 is a not-so-awesome number.\n",
      "97210 is an awesome number.\n",
      "979210 is a not-so-awesome number.\n"
     ]
    }
   ],
   "source": [
    "#Todo\n",
    "list_1 = input()[1:-1].split(\", \")\n",
    "\n",
    "for i in list_1:\n",
    "    checker = int(i[0])\n",
    "    counter = 0\n",
    "    flag = True\n",
    "    for j in i:\n",
    "        if j == i[0] and counter== 0:\n",
    "            counter+=1\n",
    "            continue\n",
    "        if int(j)>=checker:\n",
    "            print(i, \"is a not-so-awesome number.\")\n",
    "            flag = False\n",
    "            break\n",
    "        checker= int(j) \n",
    "    if flag!= False:\n",
    "        print(i, \"is an awesome number.\")"
   ]
  },
  {
   "cell_type": "markdown",
   "metadata": {
    "id": "WN0k1he4tGj2"
   },
   "source": [
    "### Task 3\n",
    "\n",
    "\n",
    "Write a python program that will take a string as input from the user where each number is separated by a comma. Then gets the numbers from the given string and removes all extra spaces. Stores the clean numbers in a list and prints it.\n",
    "\n",
    "==========================================================\n",
    "\n",
    "**Hints:** For obtaining the numbers from the string, use split(). For cleaning the data, use strip().\n",
    "\n",
    "==========================================================\n",
    "\n",
    "**Sample Input1:**\\\n",
    "\"97821, 1 &nbsp;&nbsp;&nbsp;  , 97210,&nbsp;&nbsp; 963, &nbsp;&nbsp;&nbsp;979210 , 979210 \"\\\n",
    "**Sample Output1:**\\\n",
    "Data after cleaning: [97821, 1, 97210, 963, 979210, 979210]\n",
    "\n",
    "==========================================================\n",
    "\n",
    "**Sample Input2:**\\\n",
    "\"976321, 321&nbsp;&nbsp;,&nbsp;&nbsp;&nbsp;9763221, &nbsp;&nbsp;&nbsp;9742, 876,&nbsp;&nbsp;&nbsp;&nbsp;&nbsp;&nbsp;&nbsp; 3211\"\\\n",
    "**Sample Output2:**\\\n",
    "Data after cleaning: [976321, 321, 9763221, 9742, 876, 3211]\n",
    "\n",
    "==========================================================\n",
    "\n",
    "**Sample Input3:**\\\n",
    "\"976321, 321 ,&nbsp;&nbsp;&nbsp; 9763221, 9742, &nbsp;&nbsp;&nbsp;&nbsp;&nbsp;876, &nbsp;&nbsp;&nbsp;&nbsp;&nbsp;&nbsp;3211, 976321&nbsp;&nbsp;&nbsp;&nbsp;, 9742\"\\\n",
    "**Sample Output3:**\\\n",
    "Data after cleaning: [976321, 321, 9763221, 9742, 876, 3211, 976321, 9742]\n"
   ]
  },
  {
   "cell_type": "code",
   "execution_count": 17,
   "metadata": {
    "id": "xYpa7fugtGj3"
   },
   "outputs": [
    {
     "name": "stdout",
     "output_type": "stream",
     "text": [
      "\"976321, 321  ,   9763221,    9742, 876,        3211\"\n",
      "[9, 7, 6, 3, 2, 1, 3, 2, 1, 9, 7, 6, 3, 2, 2, 1, 9, 7, 4, 2, 8, 7, 6, 3, 2, 1, 1]\n"
     ]
    }
   ],
   "source": [
    "#TODO\n",
    "list_1 = input()[1:-1].split(\",\")\n",
    "list_2 = []\n",
    "str_1 = \"\"\n",
    "\n",
    "for i in list_1:\n",
    "    for j in i:\n",
    "        if j == \" \":\n",
    "            continue\n",
    "        else:\n",
    "            str_1+=j\n",
    "            list_2.append(int(j))\n",
    "print(list_2)            "
   ]
  },
  {
   "cell_type": "markdown",
   "metadata": {
    "id": "8x0up-uAtGj3"
   },
   "source": [
    "### Task 4\n",
    "\n",
    "Write a python program that will take a list of numbers(integer) as an input from the user and does the following.\n",
    "* counts the number of valid, invalid, and duplicate numbers and prints these to the user.\n",
    "* stores the valid and invalid numbers in a list format and prints these to the user. You need to make sure that a number is stored only Once. **Valid numbers:** A number with a minimum length of 4 and a maximum length of 6 is considered to be valid for this assignment.\n",
    "* Calculate and print the percentage of valid numbers, invalid numbers, and duplicate numbers to the user. \n",
    "\n",
    "==========================================================\n",
    "\n",
    "**Hints:** Use membership operator in and not in for checking the duplicates. For calculating the percentage, count the numbers of a particular number type.\n",
    "\n",
    "==================================================\n",
    "\n",
    "\n",
    "**Sample Input1:**\\\n",
    "[97821, 1, 97210, 963, 979210, 979210]\\\n",
    "**Sample Output1:**\\\n",
    "================================================\\\n",
    "Total numbers present in the given string: 6\\\n",
    "Valid number count: 3\\\n",
    "Valid numbers in list: [97821, 97210, 979210]\\\n",
    "Invalid number count: 2\\\n",
    "Invalid numbers in list: [1, 963]\\\n",
    "Duplicate number count: 1\\\n",
    "================================================\\\n",
    "Valid number percentage(%): 50.0\\\n",
    "Invalid number percentage(%): 33.333333333333336\\\n",
    "Duplicate number percentage(%): 16.666666666666668\\\n",
    "================================================\\\n",
    "\n",
    "\n",
    "**Sample Input2:**\\\n",
    "[976321, 321, 9763221, 9742, 876, 3211]\\\n",
    "**Sample Output2:**\\\n",
    "================================================\\\n",
    "Total numbers present in the given string: 6\\\n",
    "Valid number count: 3\\\n",
    "Valid numbers in list: [976321, 9742, 3211]\\\n",
    "Invalid number count: 3\\\n",
    "Invalid numbers in list: [321, 9763221, 876]\\\n",
    "Duplicate number count: 0\\\n",
    "================================================\\\n",
    "Valid number percentage(%): 50.0\\\n",
    "Invalid number percentage(%): 50.0\\\n",
    "Duplicate number percentage(%): 0.0\\\n",
    "================================================\\\n",
    "\n",
    "**Sample Input3:**\\\n",
    "[976321, 321, 9763221, 9742, 876, 3211, 976321, 9742]\\\n",
    "**Sample Output3:**\\\n",
    "================================================\\\n",
    "Total numbers present in the given string: 8\\\n",
    "Valid number count: 3\\\n",
    "Valid numbers in list: [976321, 9742, 3211]\\\n",
    "Invalid number count: 3\\\n",
    "Invalid numbers in list: [321, 9763221, 876]\\\n",
    "Duplicate number count: 2\\\n",
    "================================================\\\n",
    "Valid number percentage(%): 37.5\\\n",
    "Invalid number percentage(%): 37.5\\\n",
    "Duplicate number percentage(%): 25.0\\\n",
    "================================================\\\n"
   ]
  },
  {
   "cell_type": "code",
   "execution_count": null,
   "metadata": {
    "colab": {
     "base_uri": "https://localhost:8080/"
    },
    "executionInfo": {
     "elapsed": 10367,
     "status": "ok",
     "timestamp": 1637049281035,
     "user": {
      "displayName": "Sifat Tanvir",
      "photoUrl": "https://lh3.googleusercontent.com/a/default-user=s64",
      "userId": "10194732741279703969"
     },
     "user_tz": -360
    },
    "id": "8K1UVBZotGj5",
    "outputId": "c84e3bdf-c8a1-4bd4-8427-5899d3a34bc1"
   },
   "outputs": [
    {
     "name": "stdout",
     "output_type": "stream",
     "text": [
      "976321, 321, 9763221, 9742, 876, 3211, 976321, 9742\n",
      "================================================\n",
      "Total numbers present in the given string:  8\n",
      "Valid number count:  3\n",
      "Valid numbers in list:  ['976321', '9742', '3211']\n",
      "Invalid number count:  3\n",
      "Invalid numbers in list:  ['321', '9763221', '876']\n",
      "Duplicate number count:  2\n",
      "================================================\n",
      "Valid number percentage:  37.5 %\n",
      "Invalid number percentage:  37.5 %\n",
      "Duplicate number percentage:  25.0 %\n"
     ]
    }
   ],
   "source": []
  },
  {
   "cell_type": "markdown",
   "metadata": {
    "id": "xj22BL0PtGj5"
   },
   "source": [
    "### Task 5\n",
    "\n",
    "Write a python program that will take a list of numbers(integer) as an input from the user. Then stores the valid numbers, the sum of digits, and multiplication of the digits for each valid number in a list where each number is the 1st element of the list, the sum of digits is the 2nd element of the list and the multiplication of digits is the 3rd element of the list. Finally, print the nested list to the user. \n",
    "\n",
    "==========================================================\n",
    "\n",
    "**Sample Input1:**\\\n",
    "[97821, 97210, 979210]\\\n",
    "**Sample Output1:**\\\n",
    "Data [number, sum of digits, product of digits]: [[97821, 27, 1008], [97210, 19, 0], [979210, 28, 0]]\n",
    "\n",
    "================================================\n",
    "\n",
    "**Sample Input2:**\\\n",
    "[976321, 9742, 3211, 30987]\\\n",
    "**Sample Output2:**\\\n",
    "Data [number, sum of digits, product of digits]: [[976321, 28, 2268], [9742, 22, 504], [3211, 7, 6], [30987, 27, 0]]\n",
    "\n",
    "================================================\n",
    "\n",
    "**Sample Input3:**\\\n",
    "[976321, 9640, 3211]\\\n",
    "**Sample Output3:**\\\n",
    "Data [number, sum of digits, product of digits]: [[976321, 28, 2268], [9640, 19, 0], [3211, 7, 6]]\n",
    "\n",
    "================================================\n"
   ]
  },
  {
   "cell_type": "code",
   "execution_count": null,
   "metadata": {
    "id": "f9h6zi9KtGj6"
   },
   "outputs": [],
   "source": []
  },
  {
   "cell_type": "markdown",
   "metadata": {
    "id": "JyrhH6DftGj6"
   },
   "source": [
    "### Task 6 (Merger of Task1-Task5)\n",
    "\n",
    "Write a python program that will take a string as input from the user where each number is separated by a comma. The numbers must have a minimum length of 4 and a maximum length of 6 to be considered valid for this assignment. Then, you need to complete the following. \n",
    "\n",
    "* Part1: get the numbers from the given string, remove all extra spaces. (clean the data). Print the clean data to the user.\n",
    "* Part2:count the number of valid, invalid, and duplicate numbers and print these to the user.\n",
    "* Part3: store the valid and invalid numbers in a list format and print these to the user. You need to make sure that a number is stored only Once.\n",
    "* Part4: Calculate and print the percentage of valid numbers, invalid numbers, and duplicate numbers to the user.\n",
    "* Part5:store the valid numbers, the sum of digits, and multiplication of the digits for each valid number in a list where each number is the 1st element of the list, the sum of digits is the 2nd element of the list and the multiplication of digits is the 3rd element of the list. Finally, print the nested list to the user. \n",
    "* Part6: Check whether the valid numbers are Awesome or not. **Awesome number:** a number where every digit is less than its immediate left digit is called is an awesome number. (e.g. 5421 is an awesome number).\n",
    "\n",
    "==============================================================================================\n",
    "\n",
    "**Sample Input1:**\\\n",
    "\"97821, 1 &nbsp;&nbsp;&nbsp;  , 97210,&nbsp;&nbsp; 963, &nbsp;&nbsp;&nbsp;979210 , 979210 \"\\\n",
    "**Sample Output1:**\\\n",
    "Data after cleaning: [97821, 1, 97210, 963, 979210, 979210]\\\n",
    "XXXXXXXXXXXXXXXXXXXXXXXXXXXXXXXXXXXXXXXXXXXXXXXXX\\\n",
    "================================================\\\n",
    "Total numbers present in the given string: 6\\\n",
    "Valid number count: 3\\\n",
    "Valid numbers in list: [97821, 97210, 979210]\\\n",
    "Invalid number count: 2\\\n",
    "Invalid numbers in list: [1, 963]\\\n",
    "Duplicate number count: 1\\\n",
    "================================================\\\n",
    "Valid number percentage(%): 50.0\\\n",
    "Invalid number percentage(%): 33.333333333333336\\\n",
    "Duplicate number percentage(%): 16.666666666666668\\\n",
    "================================================\\\n",
    "XXXXXXXXXXXXXXXXXXXXXXXXXXXXXXXXXXXXXXXXXXXXXXXXX\\\n",
    "Data of valid numbers:\\\n",
    "[number, sum of digits, product of digits]:\\\n",
    "[[976321, 28, 2268], [9640, 19, 0], [3211, 7, 6]]\\\n",
    "XXXXXXXXXXXXXXXXXXXXXXXXXXXXXXXXXXXXXXXXXXXXXXXXX\\\n",
    "^_^ Awesomeness checking of the Valid numbers ^_^\\\n",
    "976321 is an awesome number.\\\n",
    "9640 is an awesome number.\\\n",
    "3211 is a not-so-awesome number.\\\n",
    "XXXXXXXXXXXXXXXXXXXXXXXXXXXXXXXXXXXXXXXXXXXXXXXXX\n",
    "\n",
    "==============================================================================================\n",
    "\n",
    "\n",
    "**Sample Input2:**\\\n",
    "\"976321, 321&nbsp;&nbsp;,&nbsp;&nbsp;&nbsp;9763221, &nbsp;&nbsp;&nbsp;9742, 876,&nbsp;&nbsp;&nbsp;&nbsp;&nbsp;&nbsp;&nbsp; 3211\"\\\n",
    "**Sample Output2:**\\\n",
    "Data after cleaning: [976321, 321, 9763221, 9742, 876, 3211]\\\n",
    "XXXXXXXXXXXXXXXXXXXXXXXXXXXXXXXXXXXXXXXXXXXXXXXXX\\\n",
    "================================================\\\n",
    "Total numbers present in the given string: 6\\\n",
    "Valid number count: 3\\\n",
    "Valid numbers in list: [976321, 9742, 3211]\\\n",
    "Invalid number count: 3\\\n",
    "Invalid numbers in list: [321, 9763221, 876]\\\n",
    "Duplicate number count: 0\\\n",
    "================================================\\\n",
    "Valid number percentage(%): 50.0\\\n",
    "Invalid number percentage(%): 50.0\\\n",
    "Duplicate number percentage(%): 0.0\\\n",
    "================================================\\\n",
    "XXXXXXXXXXXXXXXXXXXXXXXXXXXXXXXXXXXXXXXXXXXXXXXXX\\\n",
    "Data of valid numbers:\\\n",
    "[number, sum of digits, product of digits]:\\\n",
    "[[976321, 28, 2268], [9640, 19, 0], [3211, 7, 6]]\\\n",
    "XXXXXXXXXXXXXXXXXXXXXXXXXXXXXXXXXXXXXXXXXXXXXXXXX\\\n",
    "^_^ Awesomeness checking of the Valid numbers ^_^\\\n",
    "976321 is an awesome number.\\\n",
    "9640 is an awesome number.\\\n",
    "3211 is a not-so-awesome number.\\\n",
    "XXXXXXXXXXXXXXXXXXXXXXXXXXXXXXXXXXXXXXXXXXXXXXXXX\n",
    "\n",
    "\n",
    "==============================================================================================\n",
    "\n",
    "**Sample Input3:**\\\n",
    "\"976321, 321 ,&nbsp;&nbsp;&nbsp; 9763221, 9742, &nbsp;&nbsp;&nbsp;&nbsp;&nbsp;876, &nbsp;&nbsp;&nbsp;&nbsp;&nbsp;&nbsp;3211, 976321&nbsp;&nbsp;&nbsp;&nbsp;, 9742\"\\\n",
    "**Sample Output3:**\\\n",
    "Data after cleaning: [976321, 321, 9763221, 9742, 876, 3211, 976321, 9742]\\\n",
    "XXXXXXXXXXXXXXXXXXXXXXXXXXXXXXXXXXXXXXXXXXXXXXXXX\\\n",
    "================================================\\\n",
    "Total numbers present in the given string: 8\\\n",
    "Valid number count: 3\\\n",
    "Valid numbers in list: [976321, 9742, 3211]\\\n",
    "Invalid number count: 3\\\n",
    "Invalid numbers in list: [321, 9763221, 876]\\\n",
    "Duplicate number count: 2\\\n",
    "================================================\\\n",
    "Valid number percentage(%): 37.5\\\n",
    "Invalid number percentage(%): 37.5\\\n",
    "Duplicate number percentage(%): 25.0\\\n",
    "================================================\\\n",
    "XXXXXXXXXXXXXXXXXXXXXXXXXXXXXXXXXXXXXXXXXXXXXXXXX\\\n",
    "Data of valid numbers:\\\n",
    "[number, sum of digits, product of digits]:\\\n",
    "[[976321, 28, 2268], [9640, 19, 0], [3211, 7, 6]]\\\n",
    "XXXXXXXXXXXXXXXXXXXXXXXXXXXXXXXXXXXXXXXXXXXXXXXXX\\\n",
    "^_^ Awesomeness checking of the Valid numbers ^_^\\\n",
    "976321 is an awesome number.\\\n",
    "9640 is an awesome number.\\\n",
    "3211 is a not-so-awesome number.\\\n",
    "XXXXXXXXXXXXXXXXXXXXXXXXXXXXXXXXXXXXXXXXXXXXXXXXX"
   ]
  },
  {
   "cell_type": "code",
   "execution_count": 3,
   "metadata": {},
   "outputs": [
    {
     "name": "stdout",
     "output_type": "stream",
     "text": [
      "10\n",
      "<class 'str'>\n"
     ]
    }
   ],
   "source": [
    "s = \"1+2+3+4\"\n",
    "h =str(1+2+3+4)\n",
    "print((h))\n",
    "print(type(h))"
   ]
  },
  {
   "cell_type": "code",
   "execution_count": null,
   "metadata": {
    "id": "g-T2X4wstGj7"
   },
   "outputs": [],
   "source": [
    "#TODO"
   ]
  },
  {
   "cell_type": "code",
   "execution_count": 3,
   "metadata": {
    "id": "6m3y416vtGj7"
   },
   "outputs": [
    {
     "name": "stdout",
     "output_type": "stream",
     "text": [
      "[1, 2, 2, 2, 2, 2, 3, 4, 5]\n",
      "[1, 2, 'heda', 2, 2, 2, 3, 4, 5]\n",
      "1\n",
      "4\n",
      "[1, 2, 'heda', 2, 2, 2, 3, 4, 5, 999]\n",
      "[1, 2, 999, 'heda', 2, 2, 2, 3, 4, 5, 999]\n",
      "[1, 2, 999, 'heda', 2, 2, 2, 3, 4, 5]\n",
      "[1, 999, 'heda', 2, 2, 2, 3, 4, 5]\n"
     ]
    }
   ],
   "source": [
    "a = [1,2,2,2,2,2,3,4,5]\n",
    "\n",
    "a1 = a.copy() #[ a1 = a Don't use]\n",
    "print(a1)\n",
    "\n",
    "a[2] = \"heda\"\n",
    "print(a)\n",
    "\n",
    "print(a.index(2))\n",
    "\n",
    "print(a.count(2))\n",
    "\n",
    "# print(a.reverse(3,4))\n",
    "\n",
    "a.append(999)\n",
    "print(a)\n",
    "\n",
    "a.insert(2,999)\n",
    "print(a)\n",
    "\n",
    "a.pop()\n",
    "print(a)\n",
    "\n",
    "a.pop(1) #[index]\n",
    "print(a)\n",
    "\n",
    "# a.remove(\"heda\") #[character]\n",
    "# print(a)\n",
    "\n",
    "# del a[7]\n",
    "# print(a)\n",
    "\n",
    "# a.clear()\n",
    "# print(a)\n",
    "\n",
    "# list_0 = [\"stoic bliss\"]\n",
    "# list_1 = [23,98,77,53,44]\n",
    "# list_2 = [11, 10, 9, 8, 7]\n",
    "# list_3 = list_1 + list_2\n",
    "# print(list_3)\n",
    "\n",
    "# list_3.sort()\n",
    "# print(list_3)\n",
    "\n",
    "# list_3.reverse()\n",
    "# print(list_3)\n",
    "\n",
    "# list_3.extend(list_0)\n",
    "# print(list_3)\n",
    "\n",
    "# list_3.extend([\"shelby\"])\n",
    "# print(list_3)\n",
    "\n",
    "# list_3.reverse()\n",
    "# print(list_3)"
   ]
  },
  {
   "cell_type": "code",
   "execution_count": 107,
   "metadata": {},
   "outputs": [
    {
     "name": "stdout",
     "output_type": "stream",
     "text": [
      "[1]\n",
      "[1, 2]\n",
      "[1, 2, 3]\n",
      "[1, 2, 3, 4]\n",
      "[1, 2, 3, 4, 5]\n",
      "[1, 2, 3, 4, 5, 6]\n",
      "[1, 2, 3, 4, 5, 6, 7]\n",
      "[1, 2, 3, 4, 5, 6, 7, 8]\n",
      "[1, 2, 3, 4, 5, 6, 7, 8, 9]\n",
      "[1, 2, 3, 4, 5, 6, 7, 8, 9, 10]\n"
     ]
    }
   ],
   "source": [
    "j = []\n",
    "\n",
    "for i in range(1,11):\n",
    "    j.append(i)\n",
    "    print(j)"
   ]
  },
  {
   "cell_type": "code",
   "execution_count": 8,
   "metadata": {},
   "outputs": [
    {
     "name": "stdout",
     "output_type": "stream",
     "text": [
      "Ronaldo\n",
      "Ronaldo\n"
     ]
    },
    {
     "ename": "KeyError",
     "evalue": "'Brazil'",
     "output_type": "error",
     "traceback": [
      "\u001b[1;31m---------------------------------------------------------------------------\u001b[0m",
      "\u001b[1;31mKeyError\u001b[0m                                  Traceback (most recent call last)",
      "\u001b[1;32m~\\AppData\\Local\\Temp/ipykernel_15928/2138112949.py\u001b[0m in \u001b[0;36m<module>\u001b[1;34m\u001b[0m\n\u001b[0;32m      3\u001b[0m \u001b[1;33m\u001b[0m\u001b[0m\n\u001b[0;32m      4\u001b[0m \u001b[0mprint\u001b[0m\u001b[1;33m(\u001b[0m\u001b[0mcapt_dict\u001b[0m\u001b[1;33m.\u001b[0m\u001b[0mget\u001b[0m\u001b[1;33m(\u001b[0m\u001b[1;34m\"Portugal\"\u001b[0m\u001b[1;33m)\u001b[0m\u001b[1;33m)\u001b[0m\u001b[1;33m\u001b[0m\u001b[1;33m\u001b[0m\u001b[0m\n\u001b[1;32m----> 5\u001b[1;33m \u001b[0mprint\u001b[0m\u001b[1;33m(\u001b[0m\u001b[0mcapt_dict\u001b[0m\u001b[1;33m[\u001b[0m\u001b[1;34m\"Brazil\"\u001b[0m\u001b[1;33m]\u001b[0m\u001b[1;33m)\u001b[0m\u001b[1;33m\u001b[0m\u001b[1;33m\u001b[0m\u001b[0m\n\u001b[0m",
      "\u001b[1;31mKeyError\u001b[0m: 'Brazil'"
     ]
    }
   ],
   "source": [
    "capt_dict = {\"Portugal\":\"Ronaldo\", \"Argentina\":\"Messi\", \"Spain\": \"Ramos\"}\n",
    "print(capt_dict[\"Portugal\"])\n",
    "\n",
    "print(capt_dict.get(\"Portugal\"))\n",
    "print(capt_dict[\"Brazil\"])"
   ]
  },
  {
   "cell_type": "code",
   "execution_count": 15,
   "metadata": {},
   "outputs": [
    {
     "name": "stdout",
     "output_type": "stream",
     "text": [
      "{'Name': 'Messi', 'Goal': '22'}\n",
      "Messi\n",
      "{'Portugal': 'Ronaldo', 'Argentina': {'Name': 'Messi', 'Goal': '22'}, 'Spain': 'Neymar'}\n",
      "{'Portugal': 'Ronaldo', 'Argentina': {'Name': 'Messi', 'Goal': '22'}, 'Spain': 'Neymar', 'Brasil': 'Neymar'}\n",
      "{'Portugal': 'Ronaldo', 'Argentina': {'Name': 'Messi', 'Goal': '22'}, 'Spain': 'Michiko', 'Brasil': 'Neymar'}\n",
      "('Brasil', 'Neymar')\n",
      "{'Portugal': 'Ronaldo', 'Argentina': {'Name': 'Messi', 'Goal': '22'}, 'Spain': 'Michiko'}\n",
      "Michiko\n",
      "{'Portugal': 'Ronaldo', 'Argentina': {'Name': 'Messi', 'Goal': '22'}}\n",
      "{'Argentina': {'Name': 'Messi', 'Goal': '22'}}\n"
     ]
    }
   ],
   "source": [
    "capt_dict = {\"Portugal\":\"Ronaldo\", \"Argentina\":{\"Name\":\"Messi\", \"Goal\":\"22\"}, \"Spain\": \"Ramos\"}\n",
    "print(capt_dict.get(\"Argentina\"))\n",
    "\n",
    "print(capt_dict[\"Argentina\"][\"Name\"])\n",
    "# print(capt_dict.get(\"Argentina\")(\"Name\")) = error\n",
    "capt_dict.update({\"Spain\":\"Neymar\"})\n",
    "print(capt_dict)\n",
    "capt_dict.update({\"Brasil\":\"Neymar\"})\n",
    "print(capt_dict)\n",
    "\n",
    "capt_dict[\"Spain\"] = \"Michiko\"\n",
    "print(capt_dict)\n",
    "\n",
    "# capt_dict.clear()\n",
    "# print(capt_dict) ---> {}\n",
    "\n",
    "remove = capt_dict.popitem()\n",
    "print(remove)\n",
    "print(capt_dict)\n",
    "\n",
    "remove = capt_dict.pop(\"Spain\")\n",
    "print(remove)\n",
    "print(capt_dict)\n",
    "\n",
    "del capt_dict[\"Portugal\"]\n",
    "print(capt_dict)\n",
    "\n",
    "# del capt_dict\n",
    "# print(capt_dict)\n",
    "\n"
   ]
  },
  {
   "cell_type": "code",
   "execution_count": 67,
   "metadata": {},
   "outputs": [
    {
     "name": "stdout",
     "output_type": "stream",
     "text": [
      "dict_keys(['Portugal', 'Argentina', 'Spain'])\n",
      "dict_values(['Ronaldo', {'Name': 'Messi', 'Goal': '22'}, 'Ramos'])\n",
      "dict_items([('Portugal', 'Ronaldo'), ('Argentina', {'Name': 'Messi', 'Goal': '22'}), ('Spain', 'Ramos')])\n",
      "<class 'dict_keys'> <class 'dict_values'> <class 'dict_items'>\n",
      "Portugal Argentina Spain \n",
      "Portugal Argentina Spain \n",
      "Ronaldo {'Name': 'Messi', 'Goal': '22'} Ramos \n",
      "('Portugal', 'Ronaldo') ('Argentina', {'Name': 'Messi', 'Goal': '22'}) ('Spain', 'Ramos') \n",
      "Ronaldo is the captain of Portugal\n",
      "Messi is the captain of Argentina\n",
      "Ramos is the captain of Spain\n",
      "3\n",
      "Spain\n",
      "Messi\n",
      "['Argentina', 'Portugal', 'Spain']\n",
      "{'Portugal': 'Ronaldo', 'Argentina': 'Messi', 'Spain': 'Ramos'}\n"
     ]
    }
   ],
   "source": [
    "capt_dict = {\"Portugal\":\"Ronaldo\", \"Argentina\":{\"Name\":\"Messi\", \"Goal\":\"22\"}, \"Spain\": \"Ramos\"}\n",
    "hi = (capt_dict.keys())\n",
    "print(hi)\n",
    "\n",
    "bye = capt_dict.values()\n",
    "print(bye)\n",
    "\n",
    "hola = capt_dict.items()\n",
    "print(hola)\n",
    "print(type(hi), type(bye), type(hola))\n",
    "\n",
    "# dir(dict)\n",
    "\n",
    "for i in capt_dict:\n",
    "    print(i, end = \" \")\n",
    "print()\n",
    "\n",
    "for i in capt_dict.keys():\n",
    "    print(i, end = \" \")    \n",
    "print()\n",
    "\n",
    "for i in capt_dict.values():\n",
    "    print(i, end = \" \") \n",
    "print()\n",
    "\n",
    "for i in capt_dict.items():\n",
    "    print(i, end = \" \")      \n",
    "print()\n",
    "\n",
    "capt_dict.update({\"Argentina\":\"Messi\"})\n",
    "for i,j in capt_dict.items():\n",
    "    print(j, \"is the captain of\", i)      \n",
    "    \n",
    "print(len(capt_dict))   \n",
    "\n",
    "dada = max(capt_dict)\n",
    "print(dada)\n",
    "\n",
    "print(min(capt_dict.values()))\n",
    "\n",
    "print(sorted(capt_dict))\n",
    "\n",
    "print(capt_dict)"
   ]
  },
  {
   "cell_type": "code",
   "execution_count": 73,
   "metadata": {},
   "outputs": [
    {
     "name": "stdout",
     "output_type": "stream",
     "text": [
      "spain\n"
     ]
    }
   ],
   "source": [
    "a = {'Portugal': 'Ronaldo', 'Argentina': 'Messi', 'spain': 'Ramos'}\n",
    "print(max(a.keys()))"
   ]
  },
  {
   "cell_type": "code",
   "execution_count": 2,
   "metadata": {},
   "outputs": [
    {
     "name": "stdout",
     "output_type": "stream",
     "text": [
      "(34, 7.9, 'yo_bruh')\n",
      "<class 'tuple'>\n",
      "34\n",
      "yo_bruh\n",
      "h\n",
      "<class 'str'>\n",
      "(34, 7.9, 'yo_bruh', 'yoyo', 98.6)\n",
      "(99, 33, 3, 'yo', ['hexa', 177, 991.01], {0.82, 'brac', 22101})\n",
      "(99, 33, 3, 'yo', ['hexa', 177, 991.01, 0.707], {0.82, 'brac', 22101})\n"
     ]
    }
   ],
   "source": [
    "my_tuple = 4+9+21, 7.9, \"yo_bruh\"\n",
    "\n",
    "print(my_tuple)\n",
    "print(type(my_tuple))\n",
    "\n",
    "a, b, shelby = my_tuple\n",
    "print(a)\n",
    "print(shelby)\n",
    "\n",
    "x = (my_tuple[-1][-1])\n",
    "print(x)\n",
    "\n",
    "print(type(x))\n",
    "\n",
    "print(my_tuple+(\"yoyo\",98.6))\n",
    "\n",
    "my_tuple_1 = (99,33,3,\"yo\",[\"hexa\",177,991.01],{\"brac\",22101,0.820})\n",
    "print(my_tuple_1)\n",
    "\n",
    "my_tuple_1[4].append(.7070)\n",
    "print(my_tuple_1)\n",
    "\n",
    "# my_dict = {99,33,3,\"brac\",22101,0.820}\n",
    "# my_dict_1 = {\"bike\":\"gixxer\"}\n",
    "# print(my_dict)\n",
    "# print(type(my_dict))\n",
    "# print(type(my_dict_1))"
   ]
  },
  {
   "cell_type": "code",
   "execution_count": 141,
   "metadata": {},
   "outputs": [
    {
     "name": "stdout",
     "output_type": "stream",
     "text": [
      "<class 'tuple'>\n",
      "('Argentina', 'FCB')\n",
      "('Messi', ('Argentina', 'FCB'))\n",
      "Messi ('Argentina', 'FCB') \n",
      "('ST', 'Mentor', 'Advisor')\n"
     ]
    }
   ],
   "source": [
    "empty_tuple = ()\n",
    "\n",
    "player_1 = [\"Messi\",(\"Argentina\", \"FCB\")]\n",
    "print(type(player_1[1]))\n",
    "# print(type(player_1))\n",
    "\n",
    "player_1 = (\"Messi\",(\"Argentina\", \"FCB\"))\n",
    "print(player_1[1])\n",
    "print(player_1)\n",
    "\n",
    "for i in player_1:\n",
    "    print(i, end = \" \")\n",
    "print()\n",
    "\n",
    "frnds = \"ST\", \"Mentor\", \"Advisor\" \n",
    "print(frnds)"
   ]
  },
  {
   "cell_type": "code",
   "execution_count": 3,
   "metadata": {},
   "outputs": [
    {
     "name": "stdout",
     "output_type": "stream",
     "text": [
      "whassup polapain\n",
      "Adnan plays Football\n",
      "xnxx Messi\n",
      "The name of first kid is Rabon\n"
     ]
    }
   ],
   "source": [
    "def hahaa():\n",
    "    print(\"whassup polapain\")\n",
    "hahaa() \n",
    "\n",
    "def yoyo(player,sports):\n",
    "    print(player, \"plays\", sports)\n",
    "yoyo(\"Adnan\",\"Football\")    \n",
    "\n",
    "def name(*player):\n",
    "    print(\"xnxx\", player[0])\n",
    "name(\"Messi\", \"Ronaldo\", \"Neymar\")    \n",
    "\n",
    "def kids (child1, child2, child3):\n",
    "    print(\"The name of first kid is\", child3)\n",
    "kids(child2 = \"Mokhles\", child1 = \"Mofiz\", child3 = \"Rabon\")    "
   ]
  },
  {
   "cell_type": "code",
   "execution_count": null,
   "metadata": {},
   "outputs": [],
   "source": []
  },
  {
   "cell_type": "code",
   "execution_count": 5,
   "metadata": {},
   "outputs": [],
   "source": []
  },
  {
   "cell_type": "code",
   "execution_count": 7,
   "metadata": {},
   "outputs": [
    {
     "name": "stdout",
     "output_type": "stream",
     "text": [
      "<class 'int'>\n"
     ]
    }
   ],
   "source": [
    "\n",
    "# initializing dictionary\n",
    "test_dict = {'Gfg': 4, 'is': 1, 'best': 8, 'for': 10, 'geeks': 9}\n",
    "  \n",
    "# # printing original dictionary\n",
    "# print(\"The original dictionary is : \" + str(test_dict))\n",
    "  \n",
    "# # initializing swap indices\n",
    "# i, j = 1, 3\n",
    "  \n",
    "# # conversion to tuples\n",
    "tups = list(test_dict.items())\n",
    "print(type(tups[0][1]))\n",
    "  \n",
    "# # swapping by indices\n",
    "# tups[i], tups[j] = tups[j], tups[i]\n",
    "  \n",
    "# # converting back\n",
    "# res = dict(tups)\n",
    "  \n",
    "# # printing result\n",
    "# print(\"The swapped dictionary : \" + str(res))"
   ]
  },
  {
   "cell_type": "code",
   "execution_count": null,
   "metadata": {},
   "outputs": [],
   "source": []
  }
 ],
 "metadata": {
  "colab": {
   "collapsed_sections": [],
   "name": "PRACTICE PROBLEMS ON STRING _ LIST_QUES.ipynb",
   "provenance": []
  },
  "kernelspec": {
   "display_name": "Python 3 (ipykernel)",
   "language": "python",
   "name": "python3"
  },
  "language_info": {
   "codemirror_mode": {
    "name": "ipython",
    "version": 3
   },
   "file_extension": ".py",
   "mimetype": "text/x-python",
   "name": "python",
   "nbconvert_exporter": "python",
   "pygments_lexer": "ipython3",
   "version": "3.9.7"
  }
 },
 "nbformat": 4,
 "nbformat_minor": 1
}
