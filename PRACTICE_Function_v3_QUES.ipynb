{
 "cells": [
  {
   "cell_type": "markdown",
   "metadata": {
    "id": "M_TW9JDFjg0h"
   },
   "source": [
    "# PRACTICE PROBLEMS ON FUNCTION\n",
    "\n",
    "\n",
    "**<font color='red'>[MUST MAINTAIN VARIABLE NAMING CONVENTIONS FOR ALL THE TASKS]</font>**\n",
    "**<font color='red'>[Solve all the tasks sequentially]</font>**\n"
   ]
  },
  {
   "cell_type": "markdown",
   "metadata": {
    "id": "_DFAXq-2jg0l"
   },
   "source": [
    "### Task 1\n",
    "Write a function called **check_awesomeness** that takes a number as an argument and Checks whether the number is Awesome or not. If the number is Awesome, it returns True. Otherwise False.\n",
    " \n",
    "**Awesome number:** a number where every digit is less than its immediate left digit is called an Awesome number. A single digit number cannot be a awesome number(e.g. 5421 is an Awesome number).\n",
    "\n",
    "==========================================================\n",
    "\n",
    "**Function Call1:**\\\n",
    "check_awesomeness(976321)\\\n",
    "**Output1:**\\\n",
    "True\n",
    "\n",
    "==========================================================\n",
    "\n",
    "**Function Call2:**\\\n",
    "check_awesomeness(9766321)\\\n",
    "**Output2:**\\\n",
    "False\n",
    "\n",
    "==========================================================\n",
    "\n",
    "**Function Call3:**\\\n",
    "check_awesomeness(9)\\\n",
    "**Output3:**\\\n",
    "False\n",
    "\n",
    "==========================================================\n",
    "\n",
    "**Function Call4:**\\\n",
    "check_awesomeness(78)\\\n",
    "**Output4:**\\\n",
    "False\n",
    "\n",
    "==========================================================\n",
    "\n",
    "**Function Call5:**\\\n",
    "check_awesomeness(87)\\\n",
    "**Output4:**\\\n",
    "True"
   ]
  },
  {
   "cell_type": "code",
   "execution_count": 1,
   "metadata": {
    "id": "E0Mo_i-tjg0l"
   },
   "outputs": [
    {
     "name": "stdout",
     "output_type": "stream",
     "text": [
      "87\n",
      "True\n"
     ]
    }
   ],
   "source": [
    "#todo\n",
    "#using user input\n",
    "def check_awesomeness(num):\n",
    "    result= True\n",
    "    num_1= (str(num))[1:]\n",
    "    prev_num= int(str(num)[0])\n",
    "    for i in num_1:\n",
    "        if len(str(num))>1:\n",
    "            if int(i)<prev_num:\n",
    "                prev_num= int(i)\n",
    "            else:\n",
    "                result= False\n",
    "                break\n",
    "        else:\n",
    "            result= False\n",
    "    return result        \n",
    "       \n",
    "num= int(input())\n",
    "print(check_awesomeness(num))"
   ]
  },
  {
   "cell_type": "markdown",
   "metadata": {
    "id": "th3LnYk5jg0n"
   },
   "source": [
    "### Task 2\n",
    "Write a function called **check_awesome** that takes a list of numbers(integer) as an argument and Prints whether the number is Awesome or not.\n",
    "\n",
    "**<font color='red'>Must reuse the check_awesomeness() function.</font>**\n",
    "\n",
    "==========================================================\n",
    "\n",
    "**Function Call1:**\\\n",
    "check_awesome([976321, 321, 9763221, 9742, 876, 3211])\\\n",
    "**Output1:**\\\n",
    "976321 is an awesome number.\\\n",
    "321 is a awesome number.\\\n",
    "9763221 is a not-so-awesome number.\\\n",
    "9742 is an awesome number.\\\n",
    "876 is an awesome number.\\\n",
    "3211 is a not-so-awesome number.\n",
    "\n",
    "==========================================================\n",
    "\n",
    "**Function Call2:**\\\n",
    "check_awesome([97821, 97210, 979210])\\\n",
    "**Output2:**\\\n",
    "97821 is a not-so-awesome number.\\\n",
    "97210 is an awesome number.\\\n",
    "979210 is a not-so-awesome number."
   ]
  },
  {
   "cell_type": "code",
   "execution_count": 15,
   "metadata": {
    "id": "zJIFLzs4jg0o"
   },
   "outputs": [
    {
     "name": "stdout",
     "output_type": "stream",
     "text": [
      "976321 is an awesome number.\n",
      "321 is an awesome number.\n",
      "9763221 is a not-so-awesome number.\n",
      "9742 is an awesome number.\n",
      "876 is an awesome number.\n",
      "3211 is a not-so-awesome number.\n"
     ]
    }
   ],
   "source": [
    "#todo\n",
    "def check_awesome(list_1):\n",
    "    for i in list_1:\n",
    "        def check_awesomeness(i):\n",
    "            i_1= (str(i))[1:]\n",
    "            num= int(str(i)[0])\n",
    "            for j in i_1:\n",
    "                if len(str(i))>1:\n",
    "                    if int(j)<num:\n",
    "                        num= int(j)\n",
    "                    else:\n",
    "                        return (f\"{i} is a not-so-awesome number.\")\n",
    "                else:\n",
    "                    return (f\"{i} is a not-so-awesome number.\")\n",
    "            return (f\"{i} is an awesome number.\")\n",
    "        print(check_awesomeness(i))\n",
    "check_awesome([976321, 321, 9763221, 9742, 876, 3211])        "
   ]
  },
  {
   "cell_type": "markdown",
   "metadata": {
    "id": "A07MGnIqjg0p"
   },
   "source": [
    "### Task 3\n",
    "Write a function called **find_max_min** that takes a list of numbers(integers) as a  function parameter and finds the numbers with maximum and minimum value. Then returns these two numbers as a **tuple** and prints the results using tuple unpacking in the function call accorrding to the given format. Both valid and invalid numbers should be considered for finding maximum and minimum.<font color='red'>[Must use tuple packing & unpacking] </font> \n",
    "\n",
    "==========================================================\n",
    "\n",
    "**Function Call1:**\\\n",
    "find_max_min([976321, 321, 9763221, 9742, 876, 3211, 976321, 9742])\\\n",
    "**Output1:**\\\n",
    "Returned value from find_max_min() is: (9763221, 321)\\\n",
    "Number with maximum value is 9763221\\\n",
    "Number with minimum value is 321\n",
    "\n",
    "==========================================================\n",
    "\n",
    "**Function Call2:**\\\n",
    "find_max_min([97821, 1, 97210, 963, 979210, 979210])\\\n",
    "**Output2:**\\\n",
    "Returned value from find_max_min() is: (979210, 1)\\\n",
    "Number with maximum value is 979210\\\n",
    "Number with minimum value is 1"
   ]
  },
  {
   "cell_type": "code",
   "execution_count": 18,
   "metadata": {
    "id": "d8rp2vbujg0q"
   },
   "outputs": [
    {
     "name": "stdout",
     "output_type": "stream",
     "text": [
      "Returned value from find_max_min() is: (979210, 1)\n",
      "Number with maximum value is 979210\n",
      "Number with minimum value is 1\n"
     ]
    }
   ],
   "source": [
    "#todo\n",
    "def find_max_min(list_1):\n",
    "    max= list_1[0]\n",
    "    min= list_1[0]\n",
    "    \n",
    "    for i in list_1:\n",
    "        if i>max:\n",
    "            max= i\n",
    "        if i<min:\n",
    "            min= i\n",
    "    return max, min\n",
    "\n",
    "max, min= find_max_min([97821, 1, 97210, 963, 979210, 979210])   \n",
    "print(\"Returned value from find_max_min() is:\", find_max_min([97821, 1, 97210, 963, 979210, 979210])) \n",
    "print(\"Number with maximum value is\", max)\n",
    "print(\"Number with minimum value is\", min)"
   ]
  },
  {
   "cell_type": "markdown",
   "metadata": {
    "id": "G0HdzR9hjg0r"
   },
   "source": [
    "### Task 4\n",
    "Write a function called **data_cleaning** that takes a string as an argument. Then gets the numbers from the given string and removes all extra spaces. Stores the clean numbers (integers) in a list and **returns** it to the function call.\n",
    "\n",
    "==========================================================\n",
    "\n",
    "**Function Call1:**\\\n",
    "data_cleaning(\"97821, 1 &nbsp;&nbsp;&nbsp;  , 97210,&nbsp;&nbsp; 963, &nbsp;&nbsp;&nbsp;979210 , 979210   \")\\\n",
    "**Output1:**\\\n",
    "Data after cleaning: [97821, 1, 97210, 963, 979210, 979210]\n",
    "\n",
    "==========================================================\n",
    "\n",
    "**Function Call2:**\\\n",
    "data_cleaning(\"976321, 321&nbsp;&nbsp;,&nbsp;&nbsp;&nbsp;9763221, &nbsp;&nbsp;&nbsp;9742, 876,&nbsp;&nbsp;&nbsp;&nbsp;&nbsp;&nbsp;&nbsp; 3211\")\\\n",
    "**Output2:**\\\n",
    "Data after cleaning: [976321, 321, 9763221, 9742, 876, 3211]\n",
    "\n",
    "==========================================================\n",
    "\n",
    "**Function Call3:**\\\n",
    "data_cleaning(\"976321, 321 ,&nbsp;&nbsp;&nbsp; 9763221, 9742, &nbsp;&nbsp;&nbsp;&nbsp;&nbsp;876, &nbsp;&nbsp;&nbsp;&nbsp;&nbsp;&nbsp;3211, 976321&nbsp;&nbsp;&nbsp;&nbsp;, 9742\")\\\n",
    "**Output3:**\\\n",
    "Data after cleaning: [976321, 321, 9763221, 9742, 876, 3211, 976321, 9742]"
   ]
  },
  {
   "cell_type": "code",
   "execution_count": 27,
   "metadata": {
    "id": "uZvyPiT9jg0r"
   },
   "outputs": [
    {
     "name": "stdout",
     "output_type": "stream",
     "text": [
      "Data after cleaning: [97821, 1, 97210, 963, 979210]\n"
     ]
    }
   ],
   "source": [
    "#todo\n",
    "#using built-in function\n",
    "# def data_cleaning(str_1):\n",
    "#     list_1= str_1.replace(\" \", \"\").split(\",\")\n",
    "#     list_2= []\n",
    "#     for i in list_1:\n",
    "#         list_2.append(int(i))\n",
    "#     return list_2\n",
    "# print(\"Data after cleaning:\", data_cleaning(\"97821, 1     , 97210,   963,    979210 , 979210 \"))\n",
    "\n",
    "\n",
    "def data_cleaning(str_1):\n",
    "    str_2= \"\"\n",
    "    list_1= []\n",
    "    for i in str_1:\n",
    "        if i!= \" \":\n",
    "            if i!= \",\":\n",
    "                str_2+= i\n",
    "            else:\n",
    "                list_1.append(int(str_2))\n",
    "                str_2= \"\"\n",
    "    return list_1\n",
    "print(\"Data after cleaning:\", data_cleaning(\"97821, 1     , 97210,   963,    979210 , 979210 \"))"
   ]
  },
  {
   "cell_type": "markdown",
   "metadata": {
    "id": "9zXjgWDSjg0t"
   },
   "source": [
    "### Task 5\n",
    "Write a function called **grouping_data** that takes  a list of numbers(integers) as a  function parameter and creates a dictionary where \"valid\", \"invalid\", and \"duplicate\" are the keys. The numbers that falls in those categories are the values.\n",
    "\n",
    "**Valid & Invalid numbers:** A number with a minimum length of 4 and a maximum length of 6 is considered to be valid for this assignment. All the other numbers are considered to be Invalid numbers.\\\n",
    "**Duplicate numbers:** If a number appears more than once in the string, then that is a dupliacte number. Both valid and invalid numbers can be duplicates.\n",
    "\n",
    "Lastly, print the dictionary **inside the function** and **return** the dictionary to the function call.\n",
    "\n",
    "==========================================================\n",
    "\n",
    "**Function Call1:**\\\n",
    "grouping_data([97821, 1, 97210, 963, 979210, 979210])\\\n",
    "**Output1:**\\\n",
    "XXXXXXXXXXXXXXXXXXXXXXXXXXXXXXXXXXXXXXXXXXXXXXXXXXXXXXXXXXXXXXXXXXX\\\n",
    "Data dictionary printing inside the function:\\\n",
    "{'valid': [97821, 97210, 979210], 'invalid': [1, 963], 'duplicate': [979210]}\\\n",
    "XXXXXXXXXXXXXXXXXXXXXXXXXXXXXXXXXXXXXXXXXXXXXXXXXXXXXXXXXXXXXXXXXXXX\\\n",
    "Returned dictionary: {'valid': [97821, 97210, 979210], 'invalid': [1, 963], 'duplicate': [979210]}\\\n",
    "Valid number list obtained from the dictionary: [97821, 97210, 979210]\n",
    "\n",
    "\n",
    "==========================================================\n",
    "\n",
    "**Function Call2:**\\\n",
    "grouping_data([976321, 321, 9763221, 9742, 876, 3211])\\\n",
    "**Output2:**\\\n",
    "XXXXXXXXXXXXXXXXXXXXXXXXXXXXXXXXXXXXXXXXXXXXXXXXXXXXXXXXXXXXXXXXXXX\\\n",
    "Data dictionary printing inside the function:\\\n",
    "{'valid': [976321, 9742, 3211], 'invalid': [321, 9763221, 876], 'duplicate': []}\\\n",
    "XXXXXXXXXXXXXXXXXXXXXXXXXXXXXXXXXXXXXXXXXXXXXXXXXXXXXXXXXXXXXXXXXXXX\\\n",
    "Returned dictionary: {'valid': [976321, 9742, 3211], 'invalid': [321, 9763221, 876], 'duplicate': []}\\\n",
    "Valid number list obtained from the dictionary: [976321, 9742, 3211]\n",
    "\n",
    "\n",
    "==========================================================\n",
    "\n",
    "**Function Call3:**\\\n",
    "grouping_data([976321, 321, 9763221, 9742, 876, 3211, 976321, 9742])\\\n",
    "**Output3:**\\\n",
    "XXXXXXXXXXXXXXXXXXXXXXXXXXXXXXXXXXXXXXXXXXXXXXXXXXXXXXXXXXXXXXXXXXX\\\n",
    "Data dictionary printing inside the function:\\\n",
    "{'valid': [976321, 9742, 3211], 'invalid': [321, 9763221, 876], 'duplicate': [976321, 9742]}\\\n",
    "XXXXXXXXXXXXXXXXXXXXXXXXXXXXXXXXXXXXXXXXXXXXXXXXXXXXXXXXXXXXXXXXXXXX\\\n",
    "Returned dictionary: {'valid': [976321, 9742, 3211], 'invalid': [321, 9763221, 876], 'duplicate': [976321, 9742]}\\\n",
    "Valid number list obtained from the dictionary: [976321, 9742, 3211]\n",
    "\n"
   ]
  },
  {
   "cell_type": "code",
   "execution_count": 60,
   "metadata": {
    "id": "vqWYa73fjg0t"
   },
   "outputs": [
    {
     "name": "stdout",
     "output_type": "stream",
     "text": [
      "XXXXXXXXXXXXXXXXXXXXXXXXXXXXXXXXXXXXXXXXXXXXXXXXXXXXXXXXXXXXXXXXXXX\n",
      "Data dictionary printing inside the function:\n",
      "{'valid': [97821, 97210, 979210, 979210], 'invalid': [1, 963], 'duplicate': [979210]}\n",
      "XXXXXXXXXXXXXXXXXXXXXXXXXXXXXXXXXXXXXXXXXXXXXXXXXXXXXXXXXXXXXXXXXXXX\n",
      "Returned dictionary: {'valid': [97821, 97210, 979210, 979210], 'invalid': [1, 963], 'duplicate': [979210]}\n",
      "Valid number list obtained from the dictionary: [97821, 97210, 979210, 979210]\n"
     ]
    }
   ],
   "source": [
    "#todo\n",
    "print(\"XXXXXXXXXXXXXXXXXXXXXXXXXXXXXXXXXXXXXXXXXXXXXXXXXXXXXXXXXXXXXXXXXXX\")\n",
    "def grouping_data(list_1):\n",
    "    dict_1= {\"valid\": [], \"invalid\": [], \"duplicate\": []}\n",
    "    for i in list_1:\n",
    "        if i in dict_1[\"valid\"] or i in dict_1[\"invalid\"]:\n",
    "            if i not in dict_1[\"duplicate\"]:\n",
    "                dict_1[\"duplicate\"].append(i)\n",
    "        if len(str(i))<4 or len(str(i))>6:\n",
    "            dict_1[\"invalid\"].append(i)\n",
    "        if 4<=len(str(i))<=6:\n",
    "            dict_1[\"valid\"].append(i)\n",
    "    print(\"Data dictionary printing inside the function:\\n\", dict_1, \"\\n\" \n",
    "          \"XXXXXXXXXXXXXXXXXXXXXXXXXXXXXXXXXXXXXXXXXXXXXXXXXXXXXXXXXXXXXXXXXXXX\", sep= \"\")        \n",
    "    return dict_1, dict_1[\"valid\"]\n",
    "\n",
    "dict_1, dict_1[\"valid\"]= grouping_data([97821, 1, 97210, 963, 979210, 979210])\n",
    "print(\"Returned dictionary:\", dict_1)\n",
    "print(\"Valid number list obtained from the dictionary:\", dict_1[\"valid\"])"
   ]
  },
  {
   "cell_type": "markdown",
   "metadata": {
    "id": "6xiDx9zKjg0t"
   },
   "source": [
    "### Task6\n",
    "Write a function called **individual_line_data** that takes a string as an argument. This function should do the following. \n",
    "* clean and prints the data.\n",
    "* group the numbers in a dictionary obtained from the given string.\n",
    "* check whether the **valid numbers** are awesome or not.\n",
    "* find and print the maximum and minimum number among the **valid numbers** obtained from the given string.\n",
    "\n",
    "*Hints:*\\\n",
    "You MUST reuse data_cleaning(), grouping_data(), check_awesome() and find_max_min() functions. \n",
    "\n",
    "==========================================================\n",
    "\n",
    "**Function Call1:**\\\n",
    "individual_line_data(\"97821, 1 &nbsp;&nbsp;&nbsp;  , 97210,&nbsp;&nbsp; 963, &nbsp;&nbsp;&nbsp;979210 , 979210   \")\\\n",
    "**Output1:**\\\n",
    "Data after cleaning: [97821, 1, 97210, 963, 979210, 979210]\\\n",
    "XXXXXXXXXXXXXXXXXXXXXXXXXXXXXXXXXXXXXXXXXXXXXXXXXXXXXXXXXXXXXXXXXXX\\\n",
    "Data dictionary printing inside the function:\\\n",
    "{'valid': [97821, 97210, 979210], 'invalid': [1, 963], 'duplicate': [979210]}\\\n",
    "XXXXXXXXXXXXXXXXXXXXXXXXXXXXXXXXXXXXXXXXXXXXXXXXXXXXXXXXXXXXXXXXXXXX\\\n",
    "Returned dictionary: {'valid': [97821, 97210, 979210], 'invalid': [1, 963], 'duplicate': [979210]}\\\n",
    "Valid number list obtained from the dictionary: [97821, 97210, 979210]\\\n",
    "=================================================\\\n",
    "^_^ Awesomeness checking of the Valid numbers ^_^\\\n",
    "97821 is a not-so-awesome number.\\\n",
    "97210 is an awesome number.\\\n",
    "979210 is a not-so-awesome number.\\\n",
    "=================================================\\\n",
    "Returned value from find_max_min() is: (979210, 97210)\\\n",
    "Valid number with maximum value is 979210\\\n",
    "Valid number with minimum value is 97210\n",
    "\n",
    "\n",
    "\n",
    "\n",
    "**Function Call2:**\\\n",
    "individual_line_data(\"976321, 321&nbsp;&nbsp;,&nbsp;&nbsp;&nbsp;9763221, &nbsp;&nbsp;&nbsp;9742, 876,&nbsp;&nbsp;&nbsp;&nbsp;&nbsp;&nbsp;&nbsp; 3211\")\\\n",
    "**Output2:**\\\n",
    "Data after cleaning: [976321, 321, 9763221, 9742, 876, 3211]\\\n",
    "XXXXXXXXXXXXXXXXXXXXXXXXXXXXXXXXXXXXXXXXXXXXXXXXXXXXXXXXXXXXXXXXXXX\\\n",
    "Data dictionary printing inside the function:\\\n",
    "{'valid': [976321, 9742, 3211], 'invalid': [321, 9763221, 876], 'duplicate': []}\\\n",
    "XXXXXXXXXXXXXXXXXXXXXXXXXXXXXXXXXXXXXXXXXXXXXXXXXXXXXXXXXXXXXXXXXXXX\\\n",
    "Returned dictionary: {'valid': [976321, 9742, 3211], 'invalid': [321, 9763221, 876], 'duplicate': []}\\\n",
    "Valid number list obtained from the dictionary: [976321, 9742, 3211]\\\n",
    "=================================================\\\n",
    "^_^ Awesomeness checking of the Valid numbers ^_^\\\n",
    "976321 is an awesome number.\\\n",
    "9742 is an awesome number.\\\n",
    "3211 is a not-so-awesome number.\\\n",
    "=================================================\\\n",
    "Returned value from find_max_min() is: (976321, 3211)\\\n",
    "Valid number with maximum value is 976321\\\n",
    "Valid number with minimum value is 3211\n",
    "\n",
    "\n",
    "\n",
    "**Function Call3:**\\\n",
    "individual_line_data(\"976321, 321 ,&nbsp;&nbsp;&nbsp; 9763221, 9742, &nbsp;&nbsp;&nbsp;&nbsp;&nbsp;876, &nbsp;&nbsp;&nbsp;&nbsp;&nbsp;&nbsp;3211, 976321&nbsp;&nbsp;&nbsp;&nbsp;, 9742\")\\\n",
    "**Output3:**\\\n",
    "Data after cleaning: [976321, 321, 9763221, 9742, 876, 3211, 976321, 9742]\\\n",
    "XXXXXXXXXXXXXXXXXXXXXXXXXXXXXXXXXXXXXXXXXXXXXXXXXXXXXXXXXXXXXXXXXXX\\\n",
    "Data dictionary printing inside the function:\\\n",
    "{'valid': [976321, 9742, 3211], 'invalid': [321, 9763221, 876], 'duplicate': [976321, 9742]}\\\n",
    "XXXXXXXXXXXXXXXXXXXXXXXXXXXXXXXXXXXXXXXXXXXXXXXXXXXXXXXXXXXXXXXXXXXX\\\n",
    "Returned dictionary: {'valid': [976321, 9742, 3211], 'invalid': [321, 9763221, 876], 'duplicate': [976321, 9742]}\\\n",
    "Valid number list obtained from the dictionary: [976321, 9742, 3211]\\\n",
    "=================================================\\\n",
    "^_^ Awesomeness checking of the Valid numbers ^_^\\\n",
    "976321 is an awesome number.\\\n",
    "9742 is an awesome number.\\\n",
    "3211 is a not-so-awesome number.\\\n",
    "=================================================\\\n",
    "Returned value from find_max_min() is: (976321, 3211)\\\n",
    "Valid number with maximum value is 976321\\\n",
    "Valid number with minimum value is 3211\n"
   ]
  },
  {
   "cell_type": "code",
   "execution_count": 65,
   "metadata": {
    "id": "Ncfi4K_vjg0t"
   },
   "outputs": [
    {
     "name": "stdout",
     "output_type": "stream",
     "text": [
      "Data after cleaning: [97821, 1, 97210, 963, 979210]\n",
      "XXXXXXXXXXXXXXXXXXXXXXXXXXXXXXXXXXXXXXXXXXXXXXXXXXXXXXXXXXXXXXXXXXX\n",
      "Data dictionary printing inside the function:\n",
      "{'valid': [976321, 9742, 3211, 976321], 'invalid': [321, 9763221, 876], 'duplicate': [976321]}\n",
      "XXXXXXXXXXXXXXXXXXXXXXXXXXXXXXXXXXXXXXXXXXXXXXXXXXXXXXXXXXXXXXXXXXXX\n",
      "Returned dictionary: {'valid': [976321, 9742, 3211, 976321], 'invalid': [321, 9763221, 876], 'duplicate': [976321]}\n",
      "Valid number list obtained from the dictionary: [976321, 9742, 3211, 976321]\n",
      "=================================================\n",
      "^^ Awesomeness checking of the Valid numbers ^^\n",
      "976321 is an awesome number.\n",
      "321 is an awesome number.\n",
      "9763221 is a not-so-awesome number.\n",
      "9742 is an awesome number.\n",
      "876 is an awesome number.\n",
      "3211 is a not-so-awesome number.\n",
      "976321 is an awesome number.\n",
      "=================================================\n",
      "Returned value from find_max_min() is: (9763221, 321)\n",
      "Number with maximum value is 9763221\n",
      "Number with minimum value is 321\n"
     ]
    }
   ],
   "source": [
    "#todo\n",
    "def individual_line_data(str_1):\n",
    "    def data_cleaning(str_1):\n",
    "        str_2= \"\"\n",
    "        list_1= []\n",
    "        for i in str_1:\n",
    "            if i!= \" \":\n",
    "                if i!= \",\":\n",
    "                    str_2+= i\n",
    "                else:\n",
    "                    list_1.append(int(str_2))\n",
    "                    str_2= \"\"\n",
    "        return list_1\n",
    "    print(\"Data after cleaning: \", data_cleaning(\"97821, 1     , 97210,   963,    979210 , 979210 \"),\n",
    "         \"\\n\" \"XXXXXXXXXXXXXXXXXXXXXXXXXXXXXXXXXXXXXXXXXXXXXXXXXXXXXXXXXXXXXXXXXXX\", sep= \"\")\n",
    "    \n",
    "    \n",
    "    def grouping_data():\n",
    "        list_1= data_cleaning(str_1)\n",
    "        dict_1= {\"valid\": [], \"invalid\": [], \"duplicate\": []}\n",
    "        for i in list_1:\n",
    "            if i in dict_1[\"valid\"] or i in dict_1[\"invalid\"]:\n",
    "                if i not in dict_1[\"duplicate\"]:\n",
    "                    dict_1[\"duplicate\"].append(i)\n",
    "            if len(str(i))<4 or len(str(i))>6:\n",
    "                dict_1[\"invalid\"].append(i)\n",
    "            if 4<=len(str(i))<=6:\n",
    "                dict_1[\"valid\"].append(i)   \n",
    "        print(\"Data dictionary printing inside the function:\\n\", dict_1, \"\\n\"\n",
    "              \"XXXXXXXXXXXXXXXXXXXXXXXXXXXXXXXXXXXXXXXXXXXXXXXXXXXXXXXXXXXXXXXXXXXX\", sep= \"\")        \n",
    "        return dict_1, dict_1[\"valid\"]\n",
    "\n",
    "    dict_1, dict_1[\"valid\"]= grouping_data()\n",
    "    print(\"Returned dictionary:\", dict_1)\n",
    "    print(\"Valid number list obtained from the dictionary: \", dict_1[\"valid\"], \"\\n\"\n",
    "         \"=================================================\", sep= \"\")       \n",
    "    \n",
    "    print(\"^^ Awesomeness checking of the Valid numbers ^^\")\n",
    "    def check_awesome():\n",
    "        list_1= data_cleaning(str_1) \n",
    "        for i in list_1:\n",
    "            def check_awesomeness(i):\n",
    "                i_1= (str(i))[1:]\n",
    "                num= int(str(i)[0])\n",
    "                for j in i_1:\n",
    "                    if len(str(i))>1:\n",
    "                        if int(j)<num:\n",
    "                            num= int(j)\n",
    "                        else:\n",
    "                            return (f\"{i} is a not-so-awesome number.\")\n",
    "                    else:\n",
    "                        return (f\"{i} is a not-so-awesome number.\")\n",
    "                return (f\"{i} is an awesome number.\")\n",
    "            print(check_awesomeness(i))\n",
    "    check_awesome()    \n",
    "    print(\"=================================================\")\n",
    "    def find_max_min():\n",
    "        list_1= data_cleaning(str_1) \n",
    "        max= list_1[0]\n",
    "        min= list_1[0]\n",
    "\n",
    "        for i in list_1:\n",
    "            if i>max:\n",
    "                max= i\n",
    "            if i<min:\n",
    "                min= i\n",
    "        return max, min\n",
    "\n",
    "    max, min= find_max_min()   \n",
    "    print(\"Returned value from find_max_min() is:\", find_max_min()) \n",
    "    print(\"Number with maximum value is\", max)\n",
    "    print(\"Number with minimum value is\", min)    \n",
    "       \n",
    "individual_line_data(\"976321, 321 ,    9763221, 9742,      876,       3211, 976321    , 9742\")"
   ]
  },
  {
   "cell_type": "markdown",
   "metadata": {
    "id": "VI-rQb2Djg0u"
   },
   "source": [
    "### Task 7\n",
    "Write a function called **number_analysis** that takes a list of strings as an argument and \n",
    "analyse those strings. \\\n",
    "**<font color='red'>Must reuse the individual_line_data() function.</font>**"
   ]
  },
  {
   "cell_type": "code",
   "execution_count": null,
   "metadata": {
    "id": "Tsnt7_Zsjg0u"
   },
   "outputs": [],
   "source": [
    "#todo\n",
    "#No sample input, output"
   ]
  },
  {
   "cell_type": "markdown",
   "metadata": {
    "id": "hEvpvWM6jg0u"
   },
   "source": [
    "### Task 8\n",
    "Run the following block of code for seeing the final output of this Problem.\n",
    "\n",
    "**Output:**\n",
    "######### Printing data for line no: 01 #########\\\n",
    "Data after cleaning: [321, 976322]\\\n",
    "XXXXXXXXXXXXXXXXXXXXXXXXXXXXXXXXXXXXXXXXXXXXXXXXXXXXXXXXXXXXXXXXXXX\\\n",
    "Data dictionary printing inside the function:\\\n",
    "{'valid': [976322], 'invalid': [321], 'duplicate': []}\\\n",
    "XXXXXXXXXXXXXXXXXXXXXXXXXXXXXXXXXXXXXXXXXXXXXXXXXXXXXXXXXXXXXXXXXXXX\\\n",
    "Returned dictionary: {'valid': [976322], 'invalid': [321], 'duplicate': []}\\\n",
    "Valid number list obtained from the dictionary: [976322]\\\n",
    "=================================================\\\n",
    "^_^ Awesomeness checking of the Valid numbers ^_^\\\n",
    "976322 is a not-so-awesome number.\\\n",
    "=================================================\\\n",
    "Returned value from find_max_min() is: (976322, 976322)\\\n",
    "Valid number with maximum value is 976322\\\n",
    "Valid number with minimum value is 976322\n",
    "\n",
    "&emsp; \n",
    "\n",
    "######### Printing data for line no: 02 #########\\\n",
    "Data after cleaning: [97821, 1, 97210, 963, 979210, 979210]\\\n",
    "XXXXXXXXXXXXXXXXXXXXXXXXXXXXXXXXXXXXXXXXXXXXXXXXXXXXXXXXXXXXXXXXXXX\\\n",
    "Data dictionary printing inside the function:\\\n",
    "{'valid': [97821, 97210, 979210], 'invalid': [1, 963], 'duplicate': [979210]}\\\n",
    "XXXXXXXXXXXXXXXXXXXXXXXXXXXXXXXXXXXXXXXXXXXXXXXXXXXXXXXXXXXXXXXXXXXX\\\n",
    "Returned dictionary: {'valid': [97821, 97210, 979210], 'invalid': [1, 963], 'duplicate': [979210]}\\\n",
    "Valid number list obtained from the dictionary: [97821, 97210, 979210]\\\n",
    "=================================================\\\n",
    "^_^ Awesomeness checking of the Valid numbers ^_^\\\n",
    "97821 is a not-so-awesome number.\\\n",
    "97210 is an awesome number.\\\n",
    "979210 is a not-so-awesome number.\\\n",
    "=================================================\\\n",
    "Returned value from find_max_min() is: (979210, 97210)\\\n",
    "Valid number with maximum value is 979210\\\n",
    "Valid number with minimum value is 97210\n",
    "\n",
    "&emsp; \n",
    "\n",
    "######### Printing data for line no: 03 #########\\\n",
    "Data after cleaning: [976321, 321, 9763221, 9742, 876, 3211]\\\n",
    "XXXXXXXXXXXXXXXXXXXXXXXXXXXXXXXXXXXXXXXXXXXXXXXXXXXXXXXXXXXXXXXXXXX\\\n",
    "Data dictionary printing inside the function:\\\n",
    "{'valid': [976321, 9742, 3211], 'invalid': [321, 9763221, 876], 'duplicate': []}\\\n",
    "XXXXXXXXXXXXXXXXXXXXXXXXXXXXXXXXXXXXXXXXXXXXXXXXXXXXXXXXXXXXXXXXXXXX\\\n",
    "Returned dictionary: {'valid': [976321, 9742, 3211], 'invalid': [321, 9763221, 876], 'duplicate': []}\\\n",
    "Valid number list obtained from the dictionary: [976321, 9742, 3211]\\\n",
    "=================================================\\\n",
    "^_^ Awesomeness checking of the Valid numbers ^_^\\\n",
    "976321 is an awesome number.\\\n",
    "9742 is an awesome number.\\\n",
    "3211 is a not-so-awesome number.\\\n",
    "=================================================\\\n",
    "Returned value from find_max_min() is: (976321, 3211)\\\n",
    "Valid number with maximum value is 976321\\\n",
    "Valid number with minimum value is 3211\n",
    "\n",
    "&emsp;\n",
    "\n",
    "######### Printing data for line no: 04 #########\\\n",
    "Data after cleaning: [976321, 321, 9763221, 9742, 876, 3211, 976321, 9742]\\\n",
    "XXXXXXXXXXXXXXXXXXXXXXXXXXXXXXXXXXXXXXXXXXXXXXXXXXXXXXXXXXXXXXXXXXX\\\n",
    "Data dictionary printing inside the function:\\\n",
    "{'valid': [976321, 9742, 3211], 'invalid': [321, 9763221, 876], 'duplicate': [976321, 9742]}\\\n",
    "XXXXXXXXXXXXXXXXXXXXXXXXXXXXXXXXXXXXXXXXXXXXXXXXXXXXXXXXXXXXXXXXXXXX\\\n",
    "Returned dictionary: {'valid': [976321, 9742, 3211], 'invalid': [321, 9763221, 876], 'duplicate': [976321, 9742]}\\\n",
    "Valid number list obtained from the dictionary: [976321, 9742, 3211]\\\n",
    "=================================================\\\n",
    "^_^ Awesomeness checking of the Valid numbers ^_^\\\n",
    "976321 is an awesome number.\\\n",
    "9742 is an awesome number.\\\n",
    "3211 is a not-so-awesome number.\\\n",
    "=================================================\\\n",
    "Returned value from find_max_min() is: (976321, 3211)\\\n",
    "Valid number with maximum value is 976321\\\n",
    "Valid number with minimum value is 3211"
   ]
  },
  {
   "cell_type": "code",
   "execution_count": null,
   "metadata": {
    "id": "0oSfIiI7jg0v"
   },
   "outputs": [],
   "source": [
    "# Where is sample input???"
   ]
  }
 ],
 "metadata": {
  "colab": {
   "name": "PRACTICE_Function_v3_QUES.ipynb",
   "provenance": []
  },
  "kernelspec": {
   "display_name": "Python 3 (ipykernel)",
   "language": "python",
   "name": "python3"
  },
  "language_info": {
   "codemirror_mode": {
    "name": "ipython",
    "version": 3
   },
   "file_extension": ".py",
   "mimetype": "text/x-python",
   "name": "python",
   "nbconvert_exporter": "python",
   "pygments_lexer": "ipython3",
   "version": "3.9.7"
  }
 },
 "nbformat": 4,
 "nbformat_minor": 1
}
